{
  "nbformat": 4,
  "nbformat_minor": 0,
  "metadata": {
    "colab": {
      "name": "21_배열.ipynb",
      "provenance": [],
      "collapsed_sections": []
    },
    "kernelspec": {
      "name": "python3",
      "display_name": "Python 3"
    },
    "language_info": {
      "name": "python"
    }
  },
  "cells": [
    {
      "cell_type": "markdown",
      "source": [
        "# **1. 배열**"
      ],
      "metadata": {
        "id": "KNkgk_O-_o4_"
      }
    },
    {
      "cell_type": "markdown",
      "source": [
        "* 데이터를 나열하고 각 데이터를 인덱스에 대응하도록 구성한 자료구조\n",
        "* 파이썬에서는 리스트 타입이 배열 기능을 제공함"
      ],
      "metadata": {
        "id": "zHDrdzDv_tyI"
      }
    },
    {
      "cell_type": "markdown",
      "source": [
        "### **1-1. 배열이 필요한 이유**\n",
        "* 같은 종류의 데이터를 효율적으로 관리하기 위해 사용\n",
        "* 같은 종류의 데이터를 순차적으로 저장\n",
        "* 빠른 접근이 가능(인덱스 번호로 접근)"
      ],
      "metadata": {
        "id": "cjWPFgwDAIvJ"
      }
    },
    {
      "cell_type": "markdown",
      "source": [
        "### **1-2. 배열의 단점**\n",
        "* 데이터의 추가 / 삭제가 어려움\n",
        "* 미리 최대 길이를 설정해야 함"
      ],
      "metadata": {
        "id": "B5RDE5msBA9c"
      }
    },
    {
      "cell_type": "code",
      "source": [
        "# 1차원 배열 : 리스트로 구현\n",
        "arr_list = [1, 2, 3, 4, 5]\n",
        "print(arr_list)"
      ],
      "metadata": {
        "colab": {
          "base_uri": "https://localhost:8080/"
        },
        "id": "ZdmlzbplBJtQ",
        "outputId": "8df8ed9b-76f7-4106-8ee7-7c6deb8d2b60"
      },
      "execution_count": null,
      "outputs": [
        {
          "output_type": "stream",
          "name": "stdout",
          "text": [
            "[1, 2, 3, 4, 5]\n"
          ]
        }
      ]
    },
    {
      "cell_type": "code",
      "source": [
        "# 2차원 배열 : 리스트로 구현\n",
        "arr_list = [[1, 2, 3], [4, 5, 6], [7, 8, 9]]\n",
        "print(arr_list)"
      ],
      "metadata": {
        "colab": {
          "base_uri": "https://localhost:8080/"
        },
        "id": "3pzuEdGiEhF9",
        "outputId": "38be57cb-3513-4404-c15d-de52cb4e7545"
      },
      "execution_count": null,
      "outputs": [
        {
          "output_type": "stream",
          "name": "stdout",
          "text": [
            "[[1, 2, 3], [4, 5, 6], [7, 8, 9]]\n"
          ]
        }
      ]
    },
    {
      "cell_type": "code",
      "source": [
        "print(arr_list[0])\n",
        "print(arr_list[0][0])\n",
        "print(arr_list[1][2])"
      ],
      "metadata": {
        "colab": {
          "base_uri": "https://localhost:8080/"
        },
        "id": "ZmieLjzaEyUi",
        "outputId": "a8381e3c-7458-4afe-fb49-c2a31a009037"
      },
      "execution_count": null,
      "outputs": [
        {
          "output_type": "stream",
          "name": "stdout",
          "text": [
            "[1, 2, 3]\n",
            "1\n",
            "6\n"
          ]
        }
      ]
    },
    {
      "cell_type": "markdown",
      "source": [
        "### **문제**"
      ],
      "metadata": {
        "id": "lMFWeuMeFMhz"
      }
    },
    {
      "cell_type": "code",
      "source": [
        "# 위 2차원 배열에서 값을 9 8 7 순서로 출력해보자"
      ],
      "metadata": {
        "id": "yFQopT-SFl55"
      },
      "execution_count": null,
      "outputs": []
    },
    {
      "cell_type": "code",
      "source": [
        "print(arr_list[2][2], arr_list[2][1], arr_list[2][0])"
      ],
      "metadata": {
        "colab": {
          "base_uri": "https://localhost:8080/"
        },
        "id": "Vo_hyaUJFv6E",
        "outputId": "af8ade3e-0b96-4746-944e-0867747fa139"
      },
      "execution_count": null,
      "outputs": [
        {
          "output_type": "stream",
          "name": "stdout",
          "text": [
            "9 8 7\n"
          ]
        }
      ]
    },
    {
      "cell_type": "markdown",
      "source": [
        "### **문제**"
      ],
      "metadata": {
        "id": "pPnZucsnHFYu"
      }
    },
    {
      "cell_type": "code",
      "source": [
        "# dataset 리스트에서 전체 이름안에 'M'은 몇 번 나왔는지 빈도수를 출력\n",
        "\n",
        "dataset = ['Braund, Mr. Owen Harris',\n",
        "'Cumings, Mrs. John Bradley (Florence Briggs Thayer)',\n",
        "'Heikkinen, Miss. Laina',\n",
        "'Futrelle, Mrs. Jacques Heath (Lily May Peel)',\n",
        "'Allen, Mr. William Henry',\n",
        "'Moran, Mr. James',\n",
        "'McCarthy, Mr. Timothy J',\n",
        "'Palsson, Master. Gosta Leonard',\n",
        "'Johnson, Mrs. Oscar W (Elisabeth Vilhelmina Berg)',\n",
        "'Nasser, Mrs. Nicholas (Adele Achem)',\n",
        "'Sandstrom, Miss. Marguerite Rut',\n",
        "'Bonnell, Miss. Elizabeth',\n",
        "'Saundercock, Mr. William Henry',\n",
        "'Andersson, Mr. Anders Johan',\n",
        "'Vestrom, Miss. Hulda Amanda Adolfina',\n",
        "'Hewlett, Mrs. (Mary D Kingcome) ',\n",
        "'Rice, Master. Eugene',\n",
        "'Williams, Mr. Charles Eugene',\n",
        "'Vander Planke, Mrs. Julius (Emelia Maria Vandemoortele)',\n",
        "'Masselmani, Mrs. Fatima',\n",
        "'Fynney, Mr. Joseph J',\n",
        "'Beesley, Mr. Lawrence',\n",
        "'McGowan, Miss. Anna \"Annie\"',\n",
        "'Sloper, Mr. William Thompson',\n",
        "'Palsson, Miss. Torborg Danira',\n",
        "'Asplund, Mrs. Carl Oscar (Selma Augusta Emilia Johansson)',\n",
        "'Emir, Mr. Farred Chehab',\n",
        "'Fortune, Mr. Charles Alexander',\n",
        "'Dwyer, Miss. Ellen \"Nellie\"',\n",
        "'Todoroff, Mr. Lalio']\n",
        "\n",
        "m_count = 0\n",
        "\n",
        "for data in dataset:\n",
        "  # print(data)\n",
        "  for index in range(len(data)):\n",
        "    if data[index] == \"M\":\n",
        "      m_count += 1\n",
        "print(m_count)"
      ],
      "metadata": {
        "colab": {
          "base_uri": "https://localhost:8080/"
        },
        "id": "O_Bq4LegHexQ",
        "outputId": "8f172998-1c9c-40f5-8662-3198b6ba8220"
      },
      "execution_count": null,
      "outputs": [
        {
          "output_type": "stream",
          "name": "stdout",
          "text": [
            "38\n"
          ]
        }
      ]
    },
    {
      "cell_type": "code",
      "source": [
        ""
      ],
      "metadata": {
        "id": "7x7PZehIH-t0"
      },
      "execution_count": null,
      "outputs": []
    }
  ]
}