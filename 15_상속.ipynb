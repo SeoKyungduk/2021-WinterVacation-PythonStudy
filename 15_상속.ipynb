{
  "nbformat": 4,
  "nbformat_minor": 0,
  "metadata": {
    "colab": {
      "name": "15_상속.ipynb",
      "provenance": [],
      "collapsed_sections": []
    },
    "kernelspec": {
      "name": "python3",
      "display_name": "Python 3"
    },
    "language_info": {
      "name": "python"
    }
  },
  "cells": [
    {
      "cell_type": "markdown",
      "source": [
        "# **1. 상속**"
      ],
      "metadata": {
        "id": "SSt-zx17OM-l"
      }
    },
    {
      "cell_type": "markdown",
      "source": [
        "* 기존에 정의해둔 클래스의 기능을 그대로 물려받음\n",
        "* 기존 클래스에 기능 일부를 추가하거나, 변경하여 새로운 클래스를 정의함\n",
        "* 코드를 재사용할 수 있게 됨\n",
        "* 상속을 받고자 하는 대상인 기존 클래스를 부모, parent, super, base 클래스라고 부름\n",
        "* 상속 받는 새로운 클래스는 자식, child, sub 클래스라고 부름"
      ],
      "metadata": {
        "id": "jVq7c9dwOSz6"
      }
    },
    {
      "cell_type": "code",
      "source": [
        "class Animal:\n",
        "  def __init__(self, name, age):\n",
        "    self.name = name\n",
        "    self.age = age\n",
        "  def eat(self, food):\n",
        "    print(\"{0}는 {1}를 먹습니다.\".format(self.name, food))\n",
        "  def sleep(self, hour):\n",
        "    print(\"{0}는 {1}시간 동안 잡니다.\".format(self.name, hour))"
      ],
      "metadata": {
        "id": "tf3MHgSpSU61"
      },
      "execution_count": null,
      "outputs": []
    },
    {
      "cell_type": "code",
      "source": [
        "animal = Animal(\"동물\", 6)\n",
        "animal.eat(\"먹이\")"
      ],
      "metadata": {
        "colab": {
          "base_uri": "https://localhost:8080/"
        },
        "id": "vy_ugWP1UBoi",
        "outputId": "c1d92d0d-70fd-4994-e43e-d712ebb450eb"
      },
      "execution_count": null,
      "outputs": [
        {
          "output_type": "stream",
          "name": "stdout",
          "text": [
            "동물는 먹이를 먹습니다.\n"
          ]
        }
      ]
    },
    {
      "cell_type": "code",
      "source": [
        "animal.sleep(5)"
      ],
      "metadata": {
        "colab": {
          "base_uri": "https://localhost:8080/"
        },
        "id": "JFN725rwUX0Z",
        "outputId": "d35b5b40-cbd7-4aca-f359-d4a2741fb0c5"
      },
      "execution_count": null,
      "outputs": [
        {
          "output_type": "stream",
          "name": "stdout",
          "text": [
            "동물는 5시간 동안 잡니다.\n"
          ]
        }
      ]
    },
    {
      "cell_type": "code",
      "source": [
        "class Dog(Animal): # Animal 클래스를 상속\n",
        "  pass"
      ],
      "metadata": {
        "id": "1o1rAUCPUjcC"
      },
      "execution_count": null,
      "outputs": []
    },
    {
      "cell_type": "code",
      "source": [
        "Rucy = Dog(\"루시\", 12)\n",
        "Rucy.eat(\"사료\")"
      ],
      "metadata": {
        "colab": {
          "base_uri": "https://localhost:8080/"
        },
        "id": "wuQMenm4VI3F",
        "outputId": "b2704040-09ae-41d2-dd31-a11a98619c0c"
      },
      "execution_count": null,
      "outputs": [
        {
          "output_type": "stream",
          "name": "stdout",
          "text": [
            "루시는 사료를 먹습니다.\n"
          ]
        }
      ]
    },
    {
      "cell_type": "code",
      "source": [
        "Rucy.sleep(8)"
      ],
      "metadata": {
        "colab": {
          "base_uri": "https://localhost:8080/"
        },
        "id": "1hQHj0UjVXhV",
        "outputId": "c8ef05d8-6619-47d0-e1c5-dfd0ed263206"
      },
      "execution_count": null,
      "outputs": [
        {
          "output_type": "stream",
          "name": "stdout",
          "text": [
            "루시는 8시간 동안 잡니다.\n"
          ]
        }
      ]
    },
    {
      "cell_type": "markdown",
      "source": [
        "# **2. 메소드 오버라이딩**"
      ],
      "metadata": {
        "id": "PJCqzcuyVix-"
      }
    },
    {
      "cell_type": "markdown",
      "source": [
        "* 부모 클래스의 method를 재정의(override)\n",
        "* 자식 클래스의 인스턴스로 호출시, 재정의된 메소드가 호출됨"
      ],
      "metadata": {
        "id": "teXei3t_V78z"
      }
    },
    {
      "cell_type": "code",
      "source": [
        "class Animal:\n",
        "  def __init__(self, name, age):\n",
        "    self.name = name\n",
        "    self.age = age\n",
        "  def eat(self, food):\n",
        "    print(\"{0}는 {1}를 먹습니다.\".format(self.name, food))\n",
        "  def sleep(self, hour):\n",
        "    print(\"{0}는 {1}시간 동안 잡니다.\".format(self.name, hour))"
      ],
      "metadata": {
        "id": "xMBi4XDSWEUn"
      },
      "execution_count": null,
      "outputs": []
    },
    {
      "cell_type": "code",
      "source": [
        "class Dog(Animal): # Animal 클래스를 상속\n",
        "  def eat(self, food):\n",
        "    print(\"{0}는 {1}를 아주 맛있게 먹습니다.\".format(self.name, food))\n",
        "  def super_eat(self, food):\n",
        "    super().eat(food)"
      ],
      "metadata": {
        "id": "tvQ7HG8SWPnz"
      },
      "execution_count": null,
      "outputs": []
    },
    {
      "cell_type": "code",
      "source": [
        "animal = Animal(\"동물\", 6)\n",
        "animal.eat(\"먹이\")\n",
        "animal.sleep(5)"
      ],
      "metadata": {
        "colab": {
          "base_uri": "https://localhost:8080/"
        },
        "id": "i_T0jIBrWfT_",
        "outputId": "1ddc391a-1fb1-4212-9360-326aa206d92b"
      },
      "execution_count": null,
      "outputs": [
        {
          "output_type": "stream",
          "name": "stdout",
          "text": [
            "동물는 먹이를 먹습니다.\n",
            "동물는 5시간 동안 잡니다.\n"
          ]
        }
      ]
    },
    {
      "cell_type": "code",
      "source": [
        "Rucy = Dog(\"루시\", 12)\n",
        "Rucy.sleep(8)\n",
        "Rucy.eat(\"사료\")\n",
        "Rucy.super_eat(\"사료\")"
      ],
      "metadata": {
        "colab": {
          "base_uri": "https://localhost:8080/"
        },
        "id": "qveBoOCGWlWW",
        "outputId": "ac4ef599-a9df-42ea-c595-d3ae59d8982a"
      },
      "execution_count": null,
      "outputs": [
        {
          "output_type": "stream",
          "name": "stdout",
          "text": [
            "루시는 8시간 동안 잡니다.\n",
            "루시는 사료를 아주 맛있게 먹습니다.\n",
            "루시는 사료를 먹습니다.\n"
          ]
        }
      ]
    },
    {
      "cell_type": "code",
      "source": [
        ""
      ],
      "metadata": {
        "id": "sLOlgmKHWzrZ"
      },
      "execution_count": null,
      "outputs": []
    }
  ]
}