{
  "nbformat": 4,
  "nbformat_minor": 0,
  "metadata": {
    "colab": {
      "name": "11_셑.ipynb",
      "provenance": []
    },
    "kernelspec": {
      "name": "python3",
      "display_name": "Python 3"
    },
    "language_info": {
      "name": "python"
    }
  },
  "cells": [
    {
      "cell_type": "markdown",
      "source": [
        "# **1. Set**"
      ],
      "metadata": {
        "id": "vc1hLjs7wDKJ"
      }
    },
    {
      "cell_type": "markdown",
      "source": [
        "* 수학의 집합과 비슷한 형태로 순서가 없기 때문에 어떤 값이 먼저 나올지 알 수 없고, 중복되는 데이터를 허용하지 않음\n",
        "* 딕셔너리처럼 중괄호를 사용해서 선언하지만 key는 존재하지 않고 value만 존재"
      ],
      "metadata": {
        "id": "XZY_b43JwV4K"
      }
    },
    {
      "cell_type": "markdown",
      "source": [
        "### 1-1. Set 만들기"
      ],
      "metadata": {
        "id": "tCMZU2GUwcDd"
      }
    },
    {
      "cell_type": "code",
      "source": [
        "s1 = set()\n",
        "print(s1)\n",
        "\n",
        "s2 = set([1, 3, 5, 7])\n",
        "print(s2)\n",
        "\n",
        "s3 = {1, 3, 5, 7}\n",
        "print(s3)\n",
        "\n",
        "s4 = {1, 3, 5, 5, 3, 7, 5, 9}\n",
        "print(s4)"
      ],
      "metadata": {
        "colab": {
          "base_uri": "https://localhost:8080/"
        },
        "id": "5CebdeaQxC6l",
        "outputId": "05f35b13-92ae-40ef-bfa4-a502aba84718"
      },
      "execution_count": null,
      "outputs": [
        {
          "output_type": "stream",
          "name": "stdout",
          "text": [
            "set()\n",
            "{1, 3, 5, 7}\n",
            "{1, 3, 5, 7}\n",
            "{1, 3, 5, 7, 9}\n"
          ]
        }
      ]
    },
    {
      "cell_type": "code",
      "source": [
        "print(2 in s4)\n",
        "print(5 in s4)\n",
        "print(3 not in s4)"
      ],
      "metadata": {
        "colab": {
          "base_uri": "https://localhost:8080/"
        },
        "id": "P_S8Yj1vxJRf",
        "outputId": "b8f191b2-6c82-4485-b735-d09af83adfdf"
      },
      "execution_count": null,
      "outputs": [
        {
          "output_type": "stream",
          "name": "stdout",
          "text": [
            "False\n",
            "True\n",
            "False\n"
          ]
        }
      ]
    },
    {
      "cell_type": "markdown",
      "source": [
        "### **1-2. Set 함수**"
      ],
      "metadata": {
        "id": "W6JpRCRcxzP1"
      }
    },
    {
      "cell_type": "code",
      "source": [
        "# add() : set에 단일 데이터를 추가\n",
        "s1 = {100, 200}\n",
        "s1.add(150)\n",
        "print(s1)\n",
        "s1.add(20)\n",
        "print(s1) # 순서를 보장하지 않음\n",
        "\n",
        "# update() : set에 여러 데이터를 한 번에 추가\n",
        "s2 = {10, 20, 30}\n",
        "s2.update([40, 50, 60])\n",
        "print(s2)\n",
        "\n",
        "# remove() : set의 데이터를 제거. 제거할 데이터가 없으면 에러\n",
        "s2.remove(50)\n",
        "print(s2)\n",
        "# s2.remove(50) # KeyError: 50\n",
        "\n",
        "# discard() : set의 데이터를 제거. 제거할 데이터가 없어도 에러가 발생하지 않음\n",
        "s2.discard(30)\n",
        "print(s2)\n",
        "s2.discard(30)\n",
        "print(s2)\n",
        "\n",
        "# copy() : set을 복사\n",
        "s3 = {10, 20, 50}\n",
        "s4 = s3.copy()\n",
        "print(s3)\n",
        "print(s4)\n",
        "s5 = set(s3)\n",
        "print(s5)"
      ],
      "metadata": {
        "colab": {
          "base_uri": "https://localhost:8080/"
        },
        "id": "0SMyc0LuyY8u",
        "outputId": "7d48fc46-cf60-4f4c-f11c-4f4471b0f0a2"
      },
      "execution_count": null,
      "outputs": [
        {
          "output_type": "stream",
          "name": "stdout",
          "text": [
            "{200, 100, 150}\n",
            "{200, 100, 20, 150}\n",
            "{40, 10, 50, 20, 60, 30}\n",
            "{40, 10, 20, 60, 30}\n",
            "{40, 10, 20, 60}\n",
            "{40, 10, 20, 60}\n",
            "{10, 20, 50}\n",
            "{10, 20, 50}\n",
            "{10, 20, 50}\n"
          ]
        }
      ]
    },
    {
      "cell_type": "markdown",
      "source": [
        "### **1-3. Set 연산자**"
      ],
      "metadata": {
        "id": "SWk2zkveytwg"
      }
    },
    {
      "cell_type": "code",
      "source": [
        "s1 = {10, 20, 30, 40, 50}\n",
        "s2 = {30, 40, 50, 60, 70}\n",
        "\n",
        "# 합집합(union) : |\n",
        "result = s1 | s2\n",
        "print(result)\n",
        "result = s1.union(s2)\n",
        "print(result)\n",
        "\n",
        "# 차집합(difference) : -\n",
        "result = s1 - s2\n",
        "print(result)\n",
        "result = s1.difference(s2)\n",
        "print(result)\n",
        "\n",
        "# 대칭 차집합(symmetric_difference) : ^\n",
        "result = s1^s2\n",
        "print(result)\n",
        "result = s1.symmetric_difference(s2)\n",
        "print(result)"
      ],
      "metadata": {
        "colab": {
          "base_uri": "https://localhost:8080/"
        },
        "id": "H8qQX1ii2HXP",
        "outputId": "cc40f3dc-459a-41d3-c5ff-e1cb5f888e16"
      },
      "execution_count": null,
      "outputs": [
        {
          "output_type": "stream",
          "name": "stdout",
          "text": [
            "{70, 40, 10, 50, 20, 60, 30}\n",
            "{70, 40, 10, 50, 20, 60, 30}\n",
            "{10, 20}\n",
            "{10, 20}\n",
            "{20, 70, 10, 60}\n",
            "{20, 70, 10, 60}\n"
          ]
        }
      ]
    },
    {
      "cell_type": "code",
      "source": [
        ""
      ],
      "metadata": {
        "id": "yX1_pKzt2YPN"
      },
      "execution_count": null,
      "outputs": []
    }
  ]
}