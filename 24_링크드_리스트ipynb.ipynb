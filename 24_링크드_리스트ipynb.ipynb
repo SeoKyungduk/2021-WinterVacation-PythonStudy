{
  "nbformat": 4,
  "nbformat_minor": 0,
  "metadata": {
    "colab": {
      "name": "24_링크드 리스트ipynb",
      "provenance": [],
      "collapsed_sections": []
    },
    "kernelspec": {
      "name": "python3",
      "display_name": "Python 3"
    },
    "language_info": {
      "name": "python"
    }
  },
  "cells": [
    {
      "cell_type": "markdown",
      "source": [
        "# **1. 링크드 리스트(Linked List)**"
      ],
      "metadata": {
        "id": "hEBmGkwQTrKb"
      }
    },
    {
      "cell_type": "markdown",
      "source": [
        "* 배열은 순차적으로 연결된 공간에 데이터를 나열하는 구조라면 링크드 리스트는 떨어진 곳에 존재하는 데이터를 화살표로 연결해서 관리하는 구조\n",
        "* C언어에서는 중요한 자료구조지만, 파이썬에서는 리스트 타입이 링크드 리스트의 역할도 모두 지원\n",
        "* 데이터의 삽입과 삭제가 매우 빠름"
      ],
      "metadata": {
        "id": "UBuXMa9cT18O"
      }
    },
    {
      "cell_type": "markdown",
      "source": [
        "### **1-1. 링크드 리스트 용어**\n",
        "* 노드(node) : 데이터 저장 단위(데이터, 포인터)로 구성\n",
        "* 포인터(pointer) : 각 노드 안에서 다음이나 이전의 노드와의 연결 정보를 가지고 있는 공간"
      ],
      "metadata": {
        "id": "ZlOomgkyUByY"
      }
    },
    {
      "cell_type": "code",
      "source": [
        "# 링크드 리스트 예\n",
        "# 파이썬에서 링크드 리스트를 구현할 때 클래스를 활용\n",
        "\n",
        "class Node:\n",
        "  def __init__(self, data):\n",
        "    self.data = data\n",
        "    self.next = None # 데이터 없음"
      ],
      "metadata": {
        "id": "kIqs-L6IVWH9"
      },
      "execution_count": null,
      "outputs": []
    },
    {
      "cell_type": "code",
      "source": [
        "# Node와 Node를 연결하기(포인터 활용)\n",
        "\n",
        "node1 = Node(1)\n",
        "node2 = Node(2)\n",
        "print(node1)\n",
        "print(node2)\n",
        "node1.next = node2\n",
        "head = node1"
      ],
      "metadata": {
        "colab": {
          "base_uri": "https://localhost:8080/"
        },
        "id": "_2txIRiDZGCv",
        "outputId": "a1c4b7fb-3a73-46c4-ccef-d99c9520fecb"
      },
      "execution_count": null,
      "outputs": [
        {
          "output_type": "stream",
          "name": "stdout",
          "text": [
            "<__main__.Node object at 0x7f15f99389d0>\n",
            "<__main__.Node object at 0x7f15f9938910>\n"
          ]
        }
      ]
    },
    {
      "cell_type": "markdown",
      "source": [
        "### **1-2. 링크드 리스트로 데이터 추가하기**"
      ],
      "metadata": {
        "id": "o7OCwLSmZo8m"
      }
    },
    {
      "cell_type": "code",
      "source": [
        "class Node:\n",
        "  def __init__(self, data, next=None):\n",
        "    self.data = data\n",
        "    self.next = next\n",
        "  \n",
        "  def add(self, data):\n",
        "    node = head\n",
        "    while node.next:\n",
        "      node = node.next\n",
        "  \n",
        "    node.next = Node(data)"
      ],
      "metadata": {
        "id": "j0kfsBSXbqdo"
      },
      "execution_count": null,
      "outputs": []
    },
    {
      "cell_type": "code",
      "source": [
        "node1 = Node(1)\n",
        "head = node1\n",
        "for index in range(2, 11):\n",
        "  node1.add(index)"
      ],
      "metadata": {
        "id": "ES8d-7CVcAm5"
      },
      "execution_count": null,
      "outputs": []
    },
    {
      "cell_type": "markdown",
      "source": [
        "### **1-3. 링크드 리스트 데이터 출력하기**"
      ],
      "metadata": {
        "id": "HLpwWh7gcfvd"
      }
    },
    {
      "cell_type": "code",
      "source": [
        "node = head\n",
        "while node.next:\n",
        "  print(node.data)\n",
        "  node = node.next\n",
        "print(node.data)"
      ],
      "metadata": {
        "colab": {
          "base_uri": "https://localhost:8080/"
        },
        "id": "b4CDrPsIn3nE",
        "outputId": "8b71fa45-b4aa-4966-d7ab-8d984c0f727c"
      },
      "execution_count": null,
      "outputs": [
        {
          "output_type": "stream",
          "name": "stdout",
          "text": [
            "1\n",
            "2\n",
            "3\n",
            "4\n",
            "5\n",
            "6\n",
            "7\n",
            "8\n",
            "9\n",
            "10\n"
          ]
        }
      ]
    },
    {
      "cell_type": "code",
      "source": [
        "# 1.5 데이터 삽입(단, 1과 2사이에 저장)\n",
        "node2 = Node(1.5)"
      ],
      "metadata": {
        "id": "dbmuWpvdpVrh"
      },
      "execution_count": null,
      "outputs": []
    },
    {
      "cell_type": "code",
      "source": [
        "node = head\n",
        "search = True\n",
        "\n",
        "while search:\n",
        "  if node.data == 1:\n",
        "    search = False\n",
        "  else:\n",
        "    node = node.next\n",
        "\n",
        "node_next = node.next # 1번 노드의 포인터 -> 2\n",
        "node.next = node2 # 1번 노드의 포인터 -> 1.5\n",
        "node2.next = node_next # 1.5번 노드의 포인터 -> 2"
      ],
      "metadata": {
        "id": "pZjfl0I6syxm"
      },
      "execution_count": null,
      "outputs": []
    },
    {
      "cell_type": "code",
      "source": [
        "node = head\n",
        "while node.next:\n",
        "  print(node.data)\n",
        "  node = node.next\n",
        "print(node.data)"
      ],
      "metadata": {
        "colab": {
          "base_uri": "https://localhost:8080/"
        },
        "id": "EB7NGPTNtg0M",
        "outputId": "1a033d54-91cb-4adb-bcf6-047dac6875fe"
      },
      "execution_count": null,
      "outputs": [
        {
          "output_type": "stream",
          "name": "stdout",
          "text": [
            "1\n",
            "1.5\n",
            "2\n",
            "3\n",
            "4\n",
            "5\n",
            "6\n",
            "7\n",
            "8\n",
            "9\n",
            "10\n"
          ]
        }
      ]
    },
    {
      "cell_type": "code",
      "source": [
        ""
      ],
      "metadata": {
        "id": "zdi15MfktjPJ"
      },
      "execution_count": null,
      "outputs": []
    }
  ]
}