{
  "nbformat": 4,
  "nbformat_minor": 0,
  "metadata": {
    "colab": {
      "name": "7_튜플.ipynb",
      "provenance": []
    },
    "kernelspec": {
      "name": "python3",
      "display_name": "Python 3"
    },
    "language_info": {
      "name": "python"
    }
  },
  "cells": [
    {
      "cell_type": "markdown",
      "source": [
        "# 1. 튜플(Tuple)"
      ],
      "metadata": {
        "id": "_Qx4nMZB_Nwd"
      }
    },
    {
      "cell_type": "markdown",
      "source": [
        "* 튜플은 리스트와 비슷하지만 리스트는 [ ]로 자료를 감싸고, 튜플은 ( )로 감쌈\n",
        "* 튜플은 수정, 삭제가 불가능"
      ],
      "metadata": {
        "id": "YruG7e4l_THl"
      }
    },
    {
      "cell_type": "code",
      "source": [
        "tu1 = () # 빈 튜플\n",
        "print(tu1)\n",
        "\n",
        "# tu1[0] = 10 # 'tuple' object does not support item assignment, 튜플은 수정이 불가능\n",
        "\n",
        "tu2 = (1)\n",
        "print(tu2)\n",
        "\n",
        "tu3 = 1, 2, 3 # ()를 생략해도 됨\n",
        "print(tu3)\n",
        "\n",
        "tu4 = ('apple', 'banana', ('😍', '🥰')) # 2차원 데이터는 ()를 더해 출력하면 됨\n",
        "print(tu4)"
      ],
      "metadata": {
        "colab": {
          "base_uri": "https://localhost:8080/"
        },
        "id": "diSFENLW_sfx",
        "outputId": "c6caa2d2-8183-42c1-a4c4-5931b0b7547f"
      },
      "execution_count": null,
      "outputs": [
        {
          "output_type": "stream",
          "name": "stdout",
          "text": [
            "()\n",
            "1\n",
            "(1, 2, 3)\n",
            "('apple', 'banana', ('😍', '🥰'))\n"
          ]
        }
      ]
    },
    {
      "cell_type": "code",
      "source": [
        "print(type(tu4)) # <class 'tuple'>"
      ],
      "metadata": {
        "colab": {
          "base_uri": "https://localhost:8080/"
        },
        "id": "0ZJhCo1N_w4d",
        "outputId": "e9c84e01-93d7-409f-bb7a-17c4e1bc2fc7"
      },
      "execution_count": null,
      "outputs": [
        {
          "output_type": "stream",
          "name": "stdout",
          "text": [
            "<class 'tuple'>\n"
          ]
        }
      ]
    },
    {
      "cell_type": "markdown",
      "source": [
        "# **2. 튜플의 수정 및 삭제**"
      ],
      "metadata": {
        "id": "QuyuPc1mAuaL"
      }
    },
    {
      "cell_type": "code",
      "source": [
        "tu5 = (1, 2, 'apple', 'banana')\n",
        "print(tu5)\n",
        "\n",
        "print(tu5[3])\n",
        "# tu5[3] = 'orange', 'tuple' object does not support item assignment\n",
        "# del tu5[3], 'tuple' object doesn't support item deletion\n",
        "del tu5\n",
        "# print(tu5), 내부의 요소는 수정하거나 삭제를 못하지만, 튜플 자체는 지울 수 있다.\n",
        "\n",
        "tu6 = (1, 2, 'apple', 'banana')\n",
        "print(tu6)\n",
        "tu6 = 10 # 새로운 값을 넣는 것이므로 이 때는 오류가 발생하지 않음.\n",
        "print(tu6)"
      ],
      "metadata": {
        "colab": {
          "base_uri": "https://localhost:8080/"
        },
        "id": "izdbaH1KA9Gx",
        "outputId": "8e1e4d01-b17f-419f-8068-76d2af328b76"
      },
      "execution_count": null,
      "outputs": [
        {
          "output_type": "stream",
          "name": "stdout",
          "text": [
            "(1, 2, 'apple', 'banana')\n",
            "banana\n",
            "(1, 2, 'apple', 'banana')\n",
            "10\n"
          ]
        }
      ]
    },
    {
      "cell_type": "markdown",
      "source": [
        "# 3. 튜플의 인덱싱, 슬라이싱, 연산"
      ],
      "metadata": {
        "id": "59vJ4P_HBA-0"
      }
    },
    {
      "cell_type": "code",
      "source": [
        "# 인덱싱\n",
        "tu7 = (1, 2, 'apple', 'banana')\n",
        "print(tu7[0])\n",
        "print(tu7[-1])\n",
        "\n",
        "# 슬라이싱\n",
        "print(tu7[1:])\n",
        "print(tu7[1:3])\n",
        "\n",
        "# 덧셈(연결)\n",
        "tu8 = (30, 40)\n",
        "print(tu7 + tu8)\n",
        "\n",
        "# 곱셈(반복)\n",
        "print(tu8 * 3)\n",
        "\n",
        "# 요소의 갯수\n",
        "print(len(tu8))"
      ],
      "metadata": {
        "colab": {
          "base_uri": "https://localhost:8080/"
        },
        "id": "5D31KWQdCyFu",
        "outputId": "ea0c165f-7dbd-4790-9310-35aa57d1cd52"
      },
      "execution_count": null,
      "outputs": [
        {
          "output_type": "stream",
          "name": "stdout",
          "text": [
            "1\n",
            "banana\n",
            "(2, 'apple', 'banana')\n",
            "(2, 'apple')\n",
            "(1, 2, 'apple', 'banana', 30, 40)\n",
            "(30, 40, 30, 40, 30, 40)\n",
            "2\n"
          ]
        }
      ]
    },
    {
      "cell_type": "code",
      "source": [
        ""
      ],
      "metadata": {
        "id": "X2rcLaKVC6C5"
      },
      "execution_count": null,
      "outputs": []
    }
  ]
}