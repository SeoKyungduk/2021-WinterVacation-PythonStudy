{
  "nbformat": 4,
  "nbformat_minor": 0,
  "metadata": {
    "colab": {
      "name": "13_람다함수.ipynb",
      "provenance": [],
      "collapsed_sections": []
    },
    "kernelspec": {
      "name": "python3",
      "display_name": "Python 3"
    },
    "language_info": {
      "name": "python"
    }
  },
  "cells": [
    {
      "cell_type": "markdown",
      "source": [
        "# **1. 람다 함수**"
      ],
      "metadata": {
        "id": "hF6Zmza5C1MF"
      }
    },
    {
      "cell_type": "markdown",
      "source": [
        "* 단일문으로 표현되는 익명함수\n",
        "* 익명함수란 이름이 없는 구현체만 존재하는 간단한 함수를 의미\n",
        "* 코드상에서 한 번만 사용되는 기능이 있을 때, 굳이 함수로 만들지 않고 일회성으로 만들어 사용할 때"
      ],
      "metadata": {
        "id": "9OXKqU0tC-JT"
      }
    },
    {
      "cell_type": "code",
      "source": [
        "def square1(x):\n",
        "  return x ** 2\n",
        "\n",
        "print(square1(10))"
      ],
      "metadata": {
        "colab": {
          "base_uri": "https://localhost:8080/"
        },
        "id": "Pxvxl9trDe6l",
        "outputId": "29b7bc42-2572-4e91-d319-c4f4ab68abc4"
      },
      "execution_count": null,
      "outputs": [
        {
          "output_type": "stream",
          "name": "stdout",
          "text": [
            "100\n"
          ]
        }
      ]
    },
    {
      "cell_type": "code",
      "source": [
        "square2 = lambda x: x** 2\n",
        "\n",
        "print(square2(5))"
      ],
      "metadata": {
        "colab": {
          "base_uri": "https://localhost:8080/"
        },
        "id": "560V12JXDzGn",
        "outputId": "7730a121-fc7c-4356-849c-74c25e5b1cda"
      },
      "execution_count": null,
      "outputs": [
        {
          "output_type": "stream",
          "name": "stdout",
          "text": [
            "25\n"
          ]
        }
      ]
    },
    {
      "cell_type": "code",
      "source": [
        "def add1(x, y):\n",
        "  return x + y\n",
        "\n",
        "result = add1(10, 5)\n",
        "print(result)"
      ],
      "metadata": {
        "colab": {
          "base_uri": "https://localhost:8080/"
        },
        "id": "FRCeOoD8EID-",
        "outputId": "64b346a6-619d-4c30-d8bd-745a35529ecc"
      },
      "execution_count": null,
      "outputs": [
        {
          "output_type": "stream",
          "name": "stdout",
          "text": [
            "15\n"
          ]
        }
      ]
    },
    {
      "cell_type": "code",
      "source": [
        "add2 = lambda x, y: x + y\n",
        "\n",
        "print(add2(5, 10))"
      ],
      "metadata": {
        "colab": {
          "base_uri": "https://localhost:8080/"
        },
        "id": "wFtbv6cuEY9H",
        "outputId": "41491f3c-7e35-43cb-bca4-1f017c4df96a"
      },
      "execution_count": null,
      "outputs": [
        {
          "output_type": "stream",
          "name": "stdout",
          "text": [
            "15\n"
          ]
        }
      ]
    },
    {
      "cell_type": "code",
      "source": [
        "strings = ['aaaa', 'bbb', 'cc', 'ddddddd']\n",
        "strings.sort(key = lambda s : len(s))\n",
        "print(strings)"
      ],
      "metadata": {
        "colab": {
          "base_uri": "https://localhost:8080/"
        },
        "id": "hmnruM4rEl6Q",
        "outputId": "a6c50e8d-f69f-49b7-ddb4-7505265ff1eb"
      },
      "execution_count": null,
      "outputs": [
        {
          "output_type": "stream",
          "name": "stdout",
          "text": [
            "['cc', 'bbb', 'aaaa', 'ddddddd']\n"
          ]
        }
      ]
    },
    {
      "cell_type": "markdown",
      "source": [
        "# **2. filter**"
      ],
      "metadata": {
        "id": "JsbhUXiTE0_p"
      }
    },
    {
      "cell_type": "markdown",
      "source": [
        "* 람다가 유용하게 사용되는 대표적인 함수\n",
        "* 특정 조건을 만족하는 요소만 남기고 필터링"
      ],
      "metadata": {
        "id": "lDBipyZNGB4w"
      }
    },
    {
      "cell_type": "code",
      "source": [
        "def even(n):\n",
        "  return n % 2 == 0\n",
        "\n",
        "print(even(3))\n",
        "print(even(100))"
      ],
      "metadata": {
        "colab": {
          "base_uri": "https://localhost:8080/"
        },
        "id": "0-4sXg5rGHhV",
        "outputId": "4e54da88-bbe5-4800-9391-75fd97a11802"
      },
      "execution_count": null,
      "outputs": [
        {
          "output_type": "stream",
          "name": "stdout",
          "text": [
            "False\n",
            "True\n"
          ]
        }
      ]
    },
    {
      "cell_type": "code",
      "source": [
        "nums = [1, 2, 3, 6, 9, 10, 14, 15, 18, 20]\n",
        "print(list(filter(lambda n: n % 2 == 0, nums)))"
      ],
      "metadata": {
        "id": "ohA8RYnBGVYk",
        "colab": {
          "base_uri": "https://localhost:8080/"
        },
        "outputId": "dfcbb1a9-07a5-49d8-e524-3e6b13d26e60"
      },
      "execution_count": null,
      "outputs": [
        {
          "output_type": "stream",
          "name": "stdout",
          "text": [
            "[2, 6, 10, 14, 18, 20]\n"
          ]
        }
      ]
    },
    {
      "cell_type": "markdown",
      "source": [
        "# **3. map**"
      ],
      "metadata": {
        "id": "AaJD6C8nG0Fd"
      }
    },
    {
      "cell_type": "markdown",
      "source": [
        "* 함수형 프로그래밍의 기본 요소\n",
        "* 각 원소를 주어진 수식에 따라 변형하여 새로운 리스트를 반환"
      ],
      "metadata": {
        "id": "WUI3VEuzHcWD"
      }
    },
    {
      "cell_type": "code",
      "source": [
        "nums = [1, 2, 3, 6, 9, 10, 14, 15, 18, 20]\n",
        "print(list(map(lambda n: n**2, nums)))"
      ],
      "metadata": {
        "colab": {
          "base_uri": "https://localhost:8080/"
        },
        "id": "iJKOezyBHimQ",
        "outputId": "a2ddedb3-d694-422c-f7a3-da221927f1af"
      },
      "execution_count": null,
      "outputs": [
        {
          "output_type": "stream",
          "name": "stdout",
          "text": [
            "[1, 4, 9, 36, 81, 100, 196, 225, 324, 400]\n"
          ]
        }
      ]
    },
    {
      "cell_type": "code",
      "source": [
        "nums = [1, 2, 3, 6, 9, 10, 14, 15, 18, 20]\n",
        "print(list(filter(lambda n: n % 2 == 0, map(lambda n: n**2, nums))))"
      ],
      "metadata": {
        "colab": {
          "base_uri": "https://localhost:8080/"
        },
        "id": "xxk5gWLIH0Ri",
        "outputId": "0b1b88cf-6849-4c0e-8f5f-5e8cd4aba365"
      },
      "execution_count": null,
      "outputs": [
        {
          "output_type": "stream",
          "name": "stdout",
          "text": [
            "[4, 36, 100, 196, 324, 400]\n"
          ]
        }
      ]
    },
    {
      "cell_type": "code",
      "source": [
        ""
      ],
      "metadata": {
        "id": "gZ8FCmFfIUDR"
      },
      "execution_count": null,
      "outputs": []
    }
  ]
}