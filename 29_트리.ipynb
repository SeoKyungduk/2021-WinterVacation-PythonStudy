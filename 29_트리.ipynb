{
  "nbformat": 4,
  "nbformat_minor": 0,
  "metadata": {
    "colab": {
      "name": "10_트리.ipynb",
      "provenance": [],
      "collapsed_sections": []
    },
    "kernelspec": {
      "name": "python3",
      "display_name": "Python 3"
    },
    "language_info": {
      "name": "python"
    }
  },
  "cells": [
    {
      "cell_type": "markdown",
      "source": [
        "# **1. 트리(Tree) 구조**"
      ],
      "metadata": {
        "id": "IpoyGjSXixVw"
      }
    },
    {
      "cell_type": "markdown",
      "source": [
        "* 트리 : Node와 Branch를 이용해서 사이클을 이루지 않도록 구성한 데이터 구조\n",
        "* 트리 중 이진 트리(Binary Tree) 형태의 구조로 탐색(검색) 알고리즘 구현을 위해 많이 사용됨"
      ],
      "metadata": {
        "id": "NCOCmiTAi20h"
      }
    },
    {
      "cell_type": "markdown",
      "source": [
        "# **2. 알아둘 용어**"
      ],
      "metadata": {
        "id": "En5iEJPEjO4h"
      }
    },
    {
      "cell_type": "markdown",
      "source": [
        "* Node : 트리에서 데이터를 저장하는 기본 요소(데이터와 다른 연결된 노드에 대한 Branch정보를 포함)\n",
        "* Root Node : 트리 맨 위에 있는 노드\n",
        "* Level : 최상위 노드를 Level 0으로 했을 때, 하위 Branch로 연결된 노드의 깊이를 나타냄\n",
        "* Parent Node : 어떤 노드의 상위 레벨에 연결된 노드\n",
        "* Child Node : 어떤 노드의 하위 레벨에 연결된 노드\n",
        "* Leaf Node(Terminal Node) : Child Node가 하나도 없는 노드\n",
        "* Sibling Node(Brother Node) : 동일한 Parent Node를 가진 노드\n",
        "* Depth : 트리에서 Node가 가질 수 있는 최대 Level"
      ],
      "metadata": {
        "id": "tK54DNnyjSCc"
      }
    },
    {
      "cell_type": "markdown",
      "source": [
        "# **3. 이진 트리와 이진 탐색 트리(Binary Search Tree)**"
      ],
      "metadata": {
        "id": "v23vqDu1lyqV"
      }
    },
    {
      "cell_type": "markdown",
      "source": [
        "* 이진 트리 : 노드의 최대 Branch가 2개인 트리\n",
        "* 이진 탐색 트리 : 이진 트리에 아래와 같은 조건이 추가된 트리\n",
        "  * 왼쪽 노드는 해당 노드보다 작은 값, 오른쪽 노드는 해당 노드보다 큰 값을 가짐!\n",
        "\n",
        "<img src=\"https://www.mathwarehouse.com/programming/images/binary-search-tree/binary-search-tree-insertion-animation.gif\">"
      ],
      "metadata": {
        "id": "-qqvN-pCl3uw"
      }
    },
    {
      "cell_type": "markdown",
      "source": [
        "# **4. 자료 구조 이진 탐색 트리의 장점과 주요 용도**\n"
      ],
      "metadata": {
        "id": "nra8coIvnA5I"
      }
    },
    {
      "cell_type": "markdown",
      "source": [
        "* 주요 용도 : 데이터 검색(탐색)\n",
        "* 장점 : 탐색 속도를 개선할 수 있음\n",
        "* 이진트리와 정렬된 배열간의 탐색 비교\n",
        "\n",
        "<img src=\"https://www.mathwarehouse.com/programming/images/binary-search-tree/binary-search-tree-sorted-array-animation.gif\">"
      ],
      "metadata": {
        "id": "pZZzZ0IlnHPb"
      }
    },
    {
      "cell_type": "markdown",
      "source": [
        "# **5. 파이썬 객체지향 프로그래밍으로 이진 탐색 트리 구현**"
      ],
      "metadata": {
        "id": "-id-SsHsoLxQ"
      }
    },
    {
      "cell_type": "markdown",
      "source": [
        "### **5-1. 노드 클래스 만들기**"
      ],
      "metadata": {
        "id": "-LNhMDXooRbQ"
      }
    },
    {
      "cell_type": "code",
      "source": [
        "class Node:\n",
        "  def __init__(self, value):\n",
        "    self.value = value\n",
        "    self.left = None\n",
        "    self.right = None"
      ],
      "metadata": {
        "id": "q76oBBMxoVFH"
      },
      "execution_count": null,
      "outputs": []
    },
    {
      "cell_type": "markdown",
      "source": [
        "### **5-2. 이진 탐색 트리에 데이터 넣기**\n",
        "* 이진 탐색 트리 조건에 부합하게 데이터를 넣어야 함\n"
      ],
      "metadata": {
        "id": "OAuJ5ea1ojSV"
      }
    },
    {
      "cell_type": "code",
      "source": [
        "class NodeMgmt:\n",
        "  def __init__(self, head):\n",
        "    self.head = head\n",
        "\n",
        "  def insert(self, value):\n",
        "    self.current_node = self.head\n",
        "    while True:\n",
        "      if value < self.current_node.value:\n",
        "        if self.current_node.left != None:\n",
        "          self.current_node = self.current_node.left\n",
        "        else:\n",
        "          self.current_node.left = Node(value)\n",
        "          break\n",
        "      else:\n",
        "        if self.current_node.right != None:\n",
        "          self.current_node = self.current_node.right\n",
        "        else:\n",
        "          self.current_node.right = Node(value)\n",
        "          break"
      ],
      "metadata": {
        "id": "LkzOIrBYotEX"
      },
      "execution_count": null,
      "outputs": []
    },
    {
      "cell_type": "code",
      "source": [
        "head = Node(10)\n",
        "BST = NodeMgmt(head)"
      ],
      "metadata": {
        "id": "W3vcPCmrpeqf"
      },
      "execution_count": null,
      "outputs": []
    },
    {
      "cell_type": "code",
      "source": [
        "BST.insert(4)"
      ],
      "metadata": {
        "id": "qt0S8IoaxL9r"
      },
      "execution_count": null,
      "outputs": []
    },
    {
      "cell_type": "markdown",
      "source": [
        "### **5-3. 이진 탐색 트리의 탐색**"
      ],
      "metadata": {
        "id": "shYh2Pu2xObN"
      }
    },
    {
      "cell_type": "code",
      "source": [
        "class NodeMgmt:\n",
        "  def __init__(self, head):\n",
        "    self.head = head\n",
        "\n",
        "  def insert(self, value):\n",
        "    self.current_node = self.head\n",
        "    while True:\n",
        "      if value < self.current_node.value:\n",
        "        if self.current_node.left != None:\n",
        "          self.current_node = self.current_node.left\n",
        "        else:\n",
        "          self.current_node.left = Node(value)\n",
        "          break\n",
        "      else:\n",
        "        if self.current_node.right != None:\n",
        "          self.current_node = self.current_node.right\n",
        "        else:\n",
        "          self.current_node.right = Node(value)\n",
        "          break\n",
        "  \n",
        "  def search(self, value):\n",
        "    self.current_node = self.head\n",
        "    while self.current_node:\n",
        "      if self.current_node.value == value:\n",
        "        return True\n",
        "      elif value < self.current_node.value:\n",
        "        self.current_node = self.current_node.left\n",
        "      else:\n",
        "        self.current_node = self.current_node.right\n",
        "    return False"
      ],
      "metadata": {
        "id": "MwjBEEuxxiIp"
      },
      "execution_count": null,
      "outputs": []
    },
    {
      "cell_type": "code",
      "source": [
        "head = Node(10)\n",
        "BST = NodeMgmt(head)\n",
        "BST.insert(2)\n",
        "BST.insert(5)\n",
        "BST.insert(13)\n",
        "BST.insert(19)\n",
        "BST.insert(11)\n",
        "BST.insert(8)"
      ],
      "metadata": {
        "id": "8MGg7ZzXyq7d"
      },
      "execution_count": null,
      "outputs": []
    },
    {
      "cell_type": "code",
      "source": [
        "print(BST.search(8))"
      ],
      "metadata": {
        "colab": {
          "base_uri": "https://localhost:8080/"
        },
        "id": "HReAHnUg0B-L",
        "outputId": "79204c6e-796f-46e1-df07-9e8e28ba45bc"
      },
      "execution_count": null,
      "outputs": [
        {
          "output_type": "stream",
          "name": "stdout",
          "text": [
            "True\n"
          ]
        }
      ]
    },
    {
      "cell_type": "code",
      "source": [
        "print(BST.search(19))"
      ],
      "metadata": {
        "colab": {
          "base_uri": "https://localhost:8080/"
        },
        "id": "IELAa1yg0Flk",
        "outputId": "3a3831ae-73c1-43ff-b5f2-c1dce3e87fa2"
      },
      "execution_count": null,
      "outputs": [
        {
          "output_type": "stream",
          "name": "stdout",
          "text": [
            "True\n"
          ]
        }
      ]
    },
    {
      "cell_type": "code",
      "source": [
        "print(BST.search(7))"
      ],
      "metadata": {
        "colab": {
          "base_uri": "https://localhost:8080/"
        },
        "id": "4s3FCpPY0ILy",
        "outputId": "f0147c90-c8dd-4d4c-cc44-1d51282fd38b"
      },
      "execution_count": null,
      "outputs": [
        {
          "output_type": "stream",
          "name": "stdout",
          "text": [
            "False\n"
          ]
        }
      ]
    },
    {
      "cell_type": "markdown",
      "source": [
        "### **5-4. 이진 탐색 트리 삭제 코드 구현**"
      ],
      "metadata": {
        "id": "xnxcaYL60KbM"
      }
    },
    {
      "cell_type": "markdown",
      "source": [
        "### **5-4-1. Leaf Node 삭제**\n",
        "* Leaf Node : Child Node가 없는 Node\n",
        "* 삭제할 Node의 Parent Node가 삭제할 Node를 가리키지 않도록 함"
      ],
      "metadata": {
        "id": "S3uBes_kcma9"
      }
    },
    {
      "cell_type": "markdown",
      "source": [
        "### **5-4-2. Child Node가 하나인 Node 삭제**\n",
        "* 삭제할 node의 Parent Node가 삭제할 Node의 Child Node를 가리키게 함"
      ],
      "metadata": {
        "id": "mVcv6QYCdptK"
      }
    },
    {
      "cell_type": "markdown",
      "source": [
        "### **5-4-3. Child Node가 두 개인 Node 삭제**\n",
        "* <font color=red>삭제할 Node의 오른쪽 자식 중, 가장 작은 값을 삭제할 Node의 Parent Node가 가리키도록 함</font>\n",
        "* 삭제할 Node의 왼쪽 자식 중, 가장 큰 값을 삭제할 Node의 Prarent Node가 가리키도록 함"
      ],
      "metadata": {
        "id": "kYQCn793enol"
      }
    },
    {
      "cell_type": "markdown",
      "source": [
        "### **5-4-4. 삭제할 Node의 오른쪽 자식 중, 가장 작은 값을 삭제할 Node의 Parent Node가 가리키게 할 경우**\n",
        "* 삭제할 Node의 오른쪽 자식 선택\n",
        "* 오른쪽 자식의 가장 왼쪽에 있는 Node를 선택\n",
        "* 해당 Node를 삭제할 Node의 Parent Node의 왼쪽 Branch가 가리키게 함\n",
        "* 해당 Node의 왼쪽 Branch가 삭제할 Node의 왼쪽 Child Node를 가리키게 함\n",
        "* 해당 Node의 오른쪽 Branch가 삭제할 Node의 오른쪽 Child Node를 가리키게 함\n",
        "* 만약 해당 Node가 오른쪽 Child Node를 가지고 있었을 경우에는, 해당 Node의 본래 Parent Node의 왼쪽 Branch가 해당 오른쪽 Child Node를 가리키게 함"
      ],
      "metadata": {
        "id": "CZSF2xwzhi7M"
      }
    },
    {
      "cell_type": "markdown",
      "source": [
        "### **5-5. 이진 탐색 트리 삭제 코드 구현**"
      ],
      "metadata": {
        "id": "nQq74RpTpYbK"
      }
    },
    {
      "cell_type": "markdown",
      "source": [
        "### **5-5-1. 삭제할 node 탐색**\n",
        "* 삭제할 node가 없는 경우도 처리를 해야 함\n",
        "* 삭제할 node가 없는 경우는 False를 리턴하고 함수를 종료\n",
        "\n",
        "```\n",
        "searched = False\n",
        "self.current_node = self.head\n",
        "self.parent = self.head\n",
        "\n",
        "while self.current_node:\n",
        "  if self.current_node.value == value:\n",
        "    searched = True\n",
        "    break\n",
        "  elif value < self.current_node.value:\n",
        "    self.parent = self.current_node\n",
        "    self.current_node = self.current_node.left\n",
        "  else:\n",
        "    self.parent = self.current_node\n",
        "    self.current_node = self.current_node.right\n",
        "\n",
        "if searched == False:\n",
        "  return False\n",
        "```"
      ],
      "metadata": {
        "id": "VlnLbmnvb-WV"
      }
    },
    {
      "cell_type": "markdown",
      "source": [
        "### **5-5-2. 삭제할 node가 Leaf Node인 경우**\n",
        "* self.current_node가 삭제할 Node, self.parent는 삭제할 Node의 Parent Node인 상태\n",
        "\n",
        "```\n",
        "  if self.current_node.left == None and self.current_node.right == None:\n",
        "    if value < self.parent.value:\n",
        "      self.parent.left = None\n",
        "    else:\n",
        "      self.parent.right = None\n",
        "    del self.current_node\n",
        "```"
      ],
      "metadata": {
        "id": "6c-2HimHq8VZ"
      }
    },
    {
      "cell_type": "markdown",
      "source": [
        "### **5-5-3. 삭제할 Node가 Child Node를 한 개 가지고 있는 경우**\n",
        "\n",
        "```\n",
        "if self.current_node.left != None and self.current_node.right == None:\n",
        "  if value < self.parent.value:\n",
        "    self.parent.left = self.current_node.left\n",
        "  else:\n",
        "    self.parent.right = self.current_node.left\n",
        "\n",
        "elif self.current_node.left == None and self.current_node.right != None:\n",
        "  if value < self.parent.value:\n",
        "    self.parent.left = self.current_node.right\n",
        "  else:\n",
        "    self.parent.right = self.current_node.right\n",
        "```"
      ],
      "metadata": {
        "id": "BeIXMkY-rLYs"
      }
    },
    {
      "cell_type": "markdown",
      "source": [
        "### **5-5-4. 삭제할 Node가 Child Node를 두 개 가지고 있을 경우(삭제할 Node가 Parent Node 왼쪽에 있을 때)**\n",
        "* 삭제할 Node의 오른쪽 자식 중, 가장 작은 값을 삭제할 node의 Parent node가 가리키도록 함\n",
        "  1. 삭제할 Node가 Parent Node의 왼쪽에 있고, 삭제할 Node의 오른쪽 자식 중, 가장 작은 값을 가진 Node의 Child Node가 없을 때\n",
        "  2. 삭제할 Node가 Parent Node의 왼쪽에 있고, 삭제할 Node의 오른쪽 자식 중, 가장 작은 값을 가진 Node의 오른쪽에 Child Node가 있을 때\n",
        "\n",
        "> 가장 작은 값을 가진 Node의 Child Node가 왼쪽에 있을 경우는 없음. 왼쪽 node가 있다는 것은 해당 Node보다 더 작은 값을 가진 Node가 있다는 뜻\n",
        "\n",
        "```\n",
        "if self.current_node.left != None and self.current_node.right != None:\n",
        "  if value < self.parent.value:\n",
        "    self.change_node = self.current_node.right\n",
        "    self.change_node_parent = self.current_node.right\n",
        "    while self.change_node.left != None:\n",
        "      self.change_node_parent = self.change_node\n",
        "      self.change_node = self.change_node.left\n",
        "    if self.change_node.right != None:\n",
        "      self.change_node_parent.left = self.change_node.right\n",
        "    else:\n",
        "      self.change_node_parent.left = None\n",
        "    self.parent.left = self.change_node\n",
        "    self.change_node.right = self.current_node.right\n",
        "    self.change_node.left = self.current_node.left\n",
        "```\n"
      ],
      "metadata": {
        "id": "AVKKZTt9x5t9"
      }
    },
    {
      "cell_type": "markdown",
      "source": [
        "### **5-5-5. 삭제할 Node가 Child Node를 두 개 가지고 있을 경우(삭제할 Node가 Parent Node 오른쪽에 있을 때)**\n",
        "* 삭제할 Node의 오른쪽 자식 중, 가장 작은 값을 삭제할 node의 Parent node가 가리키도록 함\n",
        "  1. 삭제할 Node가 Parent Node의 오른쪽에 있고, 삭제할 Node의 오른쪽 자식 중, 가장 작은 값을 가진 Node의 Child Node가 없을 때\n",
        "  2. 삭제할 Node가 Parent Node의 오른쪽에 있고, 삭제할 Node의 오른쪽 자식 중, 가장 작은 값을 가진 Node의 오른쪽에 Child Node가 있을 때\n",
        "\n",
        "> 가장 작은 값을 가진 Node의 Child Node가 왼쪽에 있을 경우는 없음. 왼쪽 node가 있다는 것은 해당 Node보다 더 작은 값을 가진 Node가 있다는 뜻\n",
        "\n",
        "```\n",
        "  else:\n",
        "    self.change_node = self.current_node.right\n",
        "    self.change_node_parent = self.current_node.right\n",
        "    while self.change_node.left != None:\n",
        "      self.change_node_parent = self.change_node\n",
        "      self.change_node = self.change_node.left\n",
        "    if self.change_node.right != None:\n",
        "      self.change_node.parent.left = self.change_node.right\n",
        "    else:\n",
        "      self.change_node.parent.left = None\n",
        "    self.parent.right = self.change_node\n",
        "    self.change_node.left = self.current_node.left\n",
        "    self.change_node.right = self.current_node.right   \n",
        "```"
      ],
      "metadata": {
        "id": "jB58S5fC855i"
      }
    },
    {
      "cell_type": "markdown",
      "source": [
        "# **6. 파이썬 전체 코드 구현**"
      ],
      "metadata": {
        "id": "ta4uGa9aCQeN"
      }
    },
    {
      "cell_type": "code",
      "source": [
        "class Node:\n",
        "  def __init__(self, value):\n",
        "    self.value = value\n",
        "    self.left = None\n",
        "    self.right = None"
      ],
      "metadata": {
        "id": "FUJdnB8-CT3v"
      },
      "execution_count": null,
      "outputs": []
    },
    {
      "cell_type": "code",
      "source": [
        "class NodeMgmt:\n",
        "  def __init__(self, head):\n",
        "    self.head = head\n",
        "\n",
        "  def insert(self, value):\n",
        "    self.current_node = self.head\n",
        "    while True:\n",
        "      if value < self.current_node.value:\n",
        "        if self.current_node.left != None:\n",
        "          self.current_node = self.current_node.left\n",
        "        else:\n",
        "          self.current_node.left = Node(value)\n",
        "          break\n",
        "      else:\n",
        "        if self.current_node.right != None:\n",
        "          self.current_node = self.current_node.right\n",
        "        else:\n",
        "          self.current_node.right = Node(value)\n",
        "          break\n",
        "  \n",
        "  def search(self, value):\n",
        "    self.current_node = self.head\n",
        "    while self.current_node:\n",
        "      if self.current_node.value == value:\n",
        "        return True\n",
        "      elif value < self.current_node.value:\n",
        "        self.current_node = self.current_node.left\n",
        "      else:\n",
        "        self.current_node = self.current_node.right\n",
        "    return False\n",
        "\n",
        "  def delete(self, value):\n",
        "    searched = False\n",
        "    self.current_node = self.head\n",
        "    self.parent = self.head\n",
        "\n",
        "    while self.current_node:\n",
        "      if self.current_node.value == value:\n",
        "        searched = True\n",
        "        break\n",
        "      elif value < self.current_node.value:\n",
        "        self.parent = self.current_node\n",
        "        self.current_node = self.current_node.left\n",
        "      else:\n",
        "        self.parent = self.current_node\n",
        "        self.current_node = self.current_node.right\n",
        "\n",
        "    if searched == False:\n",
        "      return False\n",
        "\n",
        "    if self.current_node.left == None and self.current_node.right == None:\n",
        "      if value < self.parent.value:\n",
        "        self.parent.left = None\n",
        "      else:\n",
        "        self.parent.right = None\n",
        "\n",
        "    elif self.current_node.left != None and self.current_node.right == None:\n",
        "      if value < self.parent.value:\n",
        "        self.parent.left = self.current_node.left\n",
        "      else:\n",
        "        self.parent.right = self.current_node.left\n",
        "\n",
        "    elif self.current_node.left == None and self.current_node.right != None:\n",
        "      if value < self.parent.value:\n",
        "        self.parent.left = self.current_node.right\n",
        "      else:\n",
        "        self.parent.right = self.current_node.right\n",
        "\n",
        "\n",
        "    elif self.current_node.left != None and self.current_node.right != None:\n",
        "      if value < self.parent.value:\n",
        "        self.change_node = self.current_node.right\n",
        "        self.change_node_parent = self.current_node.right\n",
        "        while self.change_node.left != None:\n",
        "          self.change_node_parent = self.change_node\n",
        "          self.change_node = self.change_node.left\n",
        "        if self.change_node.right != None:\n",
        "          self.change_node_parent.left = self.change_node.right\n",
        "        else:\n",
        "          self.change_node_parent.left = None\n",
        "        self.parent.left = self.change_node\n",
        "        self.change_node.right = self.current_node.right\n",
        "        self.change_node.left = self.current_node.left\n",
        "\n",
        "    else:\n",
        "      self.change_node = self.current_node.right\n",
        "      self.change_node_parent = self.current_node.right\n",
        "      while self.change_node.left != None:\n",
        "        self.change_node_parent = self.change_node\n",
        "        self.change_node = self.change_node.left\n",
        "      if self.change_node.right != None:\n",
        "        self.change_node.parent.left = self.change_node.right\n",
        "      else:\n",
        "        self.change_node.parent.left = None\n",
        "      self.parent.right = self.change_node\n",
        "      self.change_node.left = self.current_node.left\n",
        "      self.change_node.right = self.current_node.right\n",
        "    return True"
      ],
      "metadata": {
        "id": "ZMjJHrugCYrg"
      },
      "execution_count": null,
      "outputs": []
    },
    {
      "cell_type": "markdown",
      "source": [
        "# **7. 파이썬 전체 코드 테스트**"
      ],
      "metadata": {
        "id": "kqMrN2CxDLPe"
      }
    },
    {
      "cell_type": "code",
      "source": [
        "import random\n",
        "\n",
        "bst_nums = set()\n",
        "while len(bst_nums) != 100:\n",
        "  bst_nums.add(random.randint(0, 999))  # random.randint(0, 99) : 0에서 99까지 숫자 중 특정 숫자를 랜덤하게 리턴\n",
        "# print(bst_nums)\n",
        "\n",
        "head = Node(500)\n",
        "binary_tree = NodeMgmt(head)\n",
        "for num in bst_nums:\n",
        "  binary_tree.insert(num)\n",
        "\n",
        "for num in bst_nums:\n",
        "  if binary_tree.search(num) == False:\n",
        "    print('search 실패!', num)\n",
        "\n",
        "delete_nums = set()\n",
        "bst_nums = list(bst_nums)\n",
        "while len(delete_nums) != 10:\n",
        "  delete_nums.add(bst_nums[random.randint(0, 99)])\n",
        "print(delete_nums)\n",
        "\n",
        "for del_num in delete_nums:\n",
        "  if binary_tree.delete(del_num) == False:\n",
        "    print('delete 실패!', del_num)\n",
        "  else:\n",
        "    print('delete 성공!', del_num)"
      ],
      "metadata": {
        "colab": {
          "base_uri": "https://localhost:8080/"
        },
        "id": "iOTBtOJzDRvf",
        "outputId": "7e6a41ae-46a1-4c61-8e40-a424b14dce82"
      },
      "execution_count": null,
      "outputs": [
        {
          "output_type": "stream",
          "name": "stdout",
          "text": [
            "{992, 764, 464, 497, 468, 629, 407, 987, 188, 895}\n",
            "delete 성공! 992\n",
            "delete 성공! 764\n",
            "delete 성공! 464\n",
            "delete 성공! 497\n",
            "delete 성공! 468\n",
            "delete 성공! 629\n",
            "delete 성공! 407\n",
            "delete 성공! 987\n",
            "delete 성공! 188\n",
            "delete 성공! 895\n"
          ]
        }
      ]
    },
    {
      "cell_type": "code",
      "source": [
        "bst_nums"
      ],
      "metadata": {
        "colab": {
          "base_uri": "https://localhost:8080/"
        },
        "id": "HtYIxevVD2tQ",
        "outputId": "493e28b4-d44b-44d9-f717-61726461363c"
      },
      "execution_count": null,
      "outputs": [
        {
          "output_type": "execute_result",
          "data": {
            "text/plain": [
              "[2,\n",
              " 3,\n",
              " 515,\n",
              " 10,\n",
              " 11,\n",
              " 527,\n",
              " 16,\n",
              " 529,\n",
              " 20,\n",
              " 535,\n",
              " 550,\n",
              " 554,\n",
              " 557,\n",
              " 46,\n",
              " 560,\n",
              " 574,\n",
              " 576,\n",
              " 585,\n",
              " 590,\n",
              " 609,\n",
              " 101,\n",
              " 616,\n",
              " 112,\n",
              " 115,\n",
              " 629,\n",
              " 118,\n",
              " 121,\n",
              " 634,\n",
              " 123,\n",
              " 124,\n",
              " 649,\n",
              " 147,\n",
              " 156,\n",
              " 670,\n",
              " 673,\n",
              " 182,\n",
              " 694,\n",
              " 697,\n",
              " 185,\n",
              " 188,\n",
              " 194,\n",
              " 196,\n",
              " 199,\n",
              " 207,\n",
              " 229,\n",
              " 231,\n",
              " 232,\n",
              " 242,\n",
              " 246,\n",
              " 248,\n",
              " 764,\n",
              " 777,\n",
              " 266,\n",
              " 778,\n",
              " 780,\n",
              " 270,\n",
              " 281,\n",
              " 283,\n",
              " 296,\n",
              " 329,\n",
              " 332,\n",
              " 334,\n",
              " 336,\n",
              " 337,\n",
              " 348,\n",
              " 352,\n",
              " 355,\n",
              " 873,\n",
              " 365,\n",
              " 366,\n",
              " 367,\n",
              " 372,\n",
              " 379,\n",
              " 381,\n",
              " 894,\n",
              " 895,\n",
              " 897,\n",
              " 898,\n",
              " 388,\n",
              " 399,\n",
              " 406,\n",
              " 407,\n",
              " 424,\n",
              " 941,\n",
              " 431,\n",
              " 946,\n",
              " 948,\n",
              " 949,\n",
              " 439,\n",
              " 447,\n",
              " 450,\n",
              " 963,\n",
              " 464,\n",
              " 468,\n",
              " 987,\n",
              " 476,\n",
              " 992,\n",
              " 482,\n",
              " 488,\n",
              " 497]"
            ]
          },
          "metadata": {},
          "execution_count": 38
        }
      ]
    },
    {
      "cell_type": "code",
      "source": [
        "binary_tree.search(992)"
      ],
      "metadata": {
        "colab": {
          "base_uri": "https://localhost:8080/"
        },
        "id": "9eQ2SvveEjFR",
        "outputId": "187c8b2b-df5d-4ded-c21e-11ac7da451eb"
      },
      "execution_count": null,
      "outputs": [
        {
          "output_type": "execute_result",
          "data": {
            "text/plain": [
              "False"
            ]
          },
          "metadata": {},
          "execution_count": 39
        }
      ]
    },
    {
      "cell_type": "code",
      "source": [
        "binary_tree.search(515)"
      ],
      "metadata": {
        "colab": {
          "base_uri": "https://localhost:8080/"
        },
        "id": "k-XRCsTlErdW",
        "outputId": "5908ae2c-4c85-4ce8-c492-5d44e7ef0a5e"
      },
      "execution_count": null,
      "outputs": [
        {
          "output_type": "execute_result",
          "data": {
            "text/plain": [
              "True"
            ]
          },
          "metadata": {},
          "execution_count": 40
        }
      ]
    }
  ]
}