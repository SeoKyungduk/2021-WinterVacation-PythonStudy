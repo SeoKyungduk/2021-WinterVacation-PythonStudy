{
  "nbformat": 4,
  "nbformat_minor": 0,
  "metadata": {
    "colab": {
      "name": "29_트리.ipynb",
      "provenance": [],
      "collapsed_sections": []
    },
    "kernelspec": {
      "name": "python3",
      "display_name": "Python 3"
    },
    "language_info": {
      "name": "python"
    }
  },
  "cells": [
    {
      "cell_type": "markdown",
      "source": [
        "# **1. 트리(Tree) 구조**"
      ],
      "metadata": {
        "id": "XpisRLcezw4Y"
      }
    },
    {
      "cell_type": "markdown",
      "source": [
        "* 트리 : Node와 Branch를 이용해서 사이클을 이루지 않도록 구성한 데이터 구조\n",
        "* 트리 중 이진 트리(Binary Tree) 형태의 구조로 탐색(검색) 알고리즘 구현을 위해 많이 사용됨"
      ],
      "metadata": {
        "id": "7TF421nB0wM6"
      }
    },
    {
      "cell_type": "markdown",
      "source": [
        "# **2. 알아둘 용어**"
      ],
      "metadata": {
        "id": "CmA27xWc0xz-"
      }
    },
    {
      "cell_type": "markdown",
      "source": [
        "* Node : 트리에서 데이터를 저장하는 기본 요소(데이터와 다른 연결된 노드에 대한 Branch정보를 포함)\n",
        "* Root Node : 트리 맨 위에 있는 노드\n",
        "* Level : 최상위 노드를 Level 0으로 했을 때, 하위 Branch로 연결된 노드의 깊이를 나타냄\n",
        "* Parent Node : 어떤 노드의 상위 레벨에 연결된 노드\n",
        "* Child Node : 어떤 노드의 하위 레벨에 연결된 노드\n",
        "* Leaf Node(Terminal Node) : Child Node가 하나도 없는 노드\n",
        "* Sibling Node(Brother Node) : 동일한 Parent Node를 가진 노드\n",
        "* Depth : 트리에서 Node가 가질 수 있는 최대 Level"
      ],
      "metadata": {
        "id": "blxff9qg0ztF"
      }
    },
    {
      "cell_type": "markdown",
      "source": [
        "# **3. 이진 트리와 이진 탐색 트리(Binary Search Tree)**"
      ],
      "metadata": {
        "id": "EUIqYZzP01Ud"
      }
    },
    {
      "cell_type": "markdown",
      "source": [
        "* 이진 트리 : 노드의 최대 Branch가 2개인 트리\n",
        "* 이진 탐색 트리 : 이진 트리에 아래와 같은 조건이 추가된 트리\n",
        "  * 왼쪽 노드는 해당 노드보다 작은 값, 오른쪽 노드는 해당 노드보다 큰 값을 가짐!\n",
        "\n",
        "<img src=\"https://www.mathwarehouse.com/programming/images/binary-search-tree/binary-search-tree-insertion-animation.gif\">"
      ],
      "metadata": {
        "id": "pic4iFAv03oe"
      }
    },
    {
      "cell_type": "markdown",
      "source": [
        "# **4. 자료 구조 이진 탐색 트리의 장점과 주요 용도**"
      ],
      "metadata": {
        "id": "gYwQ4kxQ05pd"
      }
    },
    {
      "cell_type": "markdown",
      "source": [
        "* 주요 용도 : 데이터 검색(탐색)\n",
        "* 장점 : 탐색 속도를 개선할 수 있음\n",
        "* 이진트리와 정렬된 배열간의 탐색 비교\n",
        "\n",
        "<img src=\"https://www.mathwarehouse.com/programming/images/binary-search-tree/binary-search-tree-sorted-array-animation.gif\">"
      ],
      "metadata": {
        "id": "x0wMIxEx077y"
      }
    },
    {
      "cell_type": "markdown",
      "source": [
        "# **5. 파이썬 객체지향 프로그래밍으로 이진 탐색 트리 구현**"
      ],
      "metadata": {
        "id": "vCL631eN09vI"
      }
    },
    {
      "cell_type": "markdown",
      "source": [
        "### **5-1. 노드 클래스 만들기**"
      ],
      "metadata": {
        "id": "ZR3_adrv0_pX"
      }
    },
    {
      "cell_type": "code",
      "source": [
        "class Node:\n",
        "  def __init__(self, value):\n",
        "    self.value = value\n",
        "    self.left = None\n",
        "    self.right = None"
      ],
      "metadata": {
        "id": "fQAhHhWs1BZR"
      },
      "execution_count": null,
      "outputs": []
    },
    {
      "cell_type": "markdown",
      "source": [
        "### **5-2. 이진 탐색 트리에 데이터 넣기**\n",
        "* 이진 탐색 트리 조건에 부합하게 데이터를 넣어야 함"
      ],
      "metadata": {
        "id": "bQ27dmzD1Cxc"
      }
    },
    {
      "cell_type": "code",
      "source": [
        "class NodeMgmt:\n",
        "  def __init__(self, head):\n",
        "    self.head = head\n",
        "\n",
        "  def insert(self, value):\n",
        "    self.current_node = self.head\n",
        "    while True:\n",
        "      if value < self.current_node.value:\n",
        "        if self.current_node.left != None:\n",
        "          self.current_node = self.current_node.left\n",
        "        else:\n",
        "          self.current_node.left = Node(value)\n",
        "          break\n",
        "      else:\n",
        "        if self.current_node.right != None:\n",
        "          self.current_node = self.current_node.right\n",
        "        else:\n",
        "          self.current_node.right = Node(value)\n",
        "          break"
      ],
      "metadata": {
        "id": "toYr-kdK1FFO"
      },
      "execution_count": null,
      "outputs": []
    },
    {
      "cell_type": "code",
      "source": [
        "head = Node(10)\n",
        "BST = NodeMgmt(head)"
      ],
      "metadata": {
        "id": "pDsWgs7S1Geu"
      },
      "execution_count": null,
      "outputs": []
    },
    {
      "cell_type": "code",
      "source": [
        "BST.insert(4)"
      ],
      "metadata": {
        "id": "atLXviXv1Hqt"
      },
      "execution_count": null,
      "outputs": []
    },
    {
      "cell_type": "markdown",
      "source": [
        "### **5-3. 이진 탐색 트리의 탐색**"
      ],
      "metadata": {
        "id": "WzUeXl191IrX"
      }
    },
    {
      "cell_type": "code",
      "source": [
        "class NodeMgmt:\n",
        "  def __init__(self, head):\n",
        "    self.head = head\n",
        "\n",
        "  def insert(self, value):\n",
        "    self.current_node = self.head\n",
        "    while True:\n",
        "      if value < self.current_node.value:\n",
        "        if self.current_node.left != None:\n",
        "          self.current_node = self.current_node.left\n",
        "        else:\n",
        "          self.current_node.left = Node(value)\n",
        "          break\n",
        "      else:\n",
        "        if self.current_node.right != None:\n",
        "          self.current_node = self.current_node.right\n",
        "        else:\n",
        "          self.current_node.right = Node(value)\n",
        "          break\n",
        "  \n",
        "  def search(self, value):\n",
        "    self.current_node = self.head\n",
        "    while self.current_node:\n",
        "      if self.current_node.value == value:\n",
        "        return True\n",
        "      elif value < self.current_node.value:\n",
        "        self.current_node = self.current_node.left\n",
        "      else:\n",
        "        self.current_node = self.current_node.right\n",
        "    return False"
      ],
      "metadata": {
        "id": "NbOT7N4N1KPO"
      },
      "execution_count": null,
      "outputs": []
    },
    {
      "cell_type": "code",
      "source": [
        "head = Node(10)\n",
        "BST = NodeMgmt(head)\n",
        "BST.insert(2)\n",
        "BST.insert(5)\n",
        "BST.insert(13)\n",
        "BST.insert(19)\n",
        "BST.insert(11)\n",
        "BST.insert(8)"
      ],
      "metadata": {
        "id": "3gzCVTIX1Mc8"
      },
      "execution_count": null,
      "outputs": []
    },
    {
      "cell_type": "code",
      "source": [
        "print(BST.search(8))"
      ],
      "metadata": {
        "id": "qCNVyTdm1NfN",
        "outputId": "e2c388d3-d89c-4dcd-ebda-189db86bc4c8",
        "colab": {
          "base_uri": "https://localhost:8080/"
        }
      },
      "execution_count": null,
      "outputs": [
        {
          "output_type": "stream",
          "name": "stdout",
          "text": [
            "True\n"
          ]
        }
      ]
    },
    {
      "cell_type": "code",
      "source": [
        "print(BST.search(19))"
      ],
      "metadata": {
        "id": "eJy-Oetm1OdI",
        "outputId": "710a0db4-c3bc-4f03-a418-9c2100ddce01",
        "colab": {
          "base_uri": "https://localhost:8080/"
        }
      },
      "execution_count": null,
      "outputs": [
        {
          "output_type": "stream",
          "name": "stdout",
          "text": [
            "True\n"
          ]
        }
      ]
    },
    {
      "cell_type": "code",
      "source": [
        "print(BST.search(7))"
      ],
      "metadata": {
        "id": "CUjILVHH1Pf0",
        "outputId": "4fdc6bbd-3431-48b6-c635-5ae9d2a9af1a",
        "colab": {
          "base_uri": "https://localhost:8080/"
        }
      },
      "execution_count": null,
      "outputs": [
        {
          "output_type": "stream",
          "name": "stdout",
          "text": [
            "False\n"
          ]
        }
      ]
    },
    {
      "cell_type": "code",
      "source": [
        ""
      ],
      "metadata": {
        "id": "MwDolm-f1QYZ"
      },
      "execution_count": null,
      "outputs": []
    }
  ]
}