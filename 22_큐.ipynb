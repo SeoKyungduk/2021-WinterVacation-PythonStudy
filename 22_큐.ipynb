{
  "nbformat": 4,
  "nbformat_minor": 0,
  "metadata": {
    "colab": {
      "name": "22_큐.ipynb",
      "provenance": [],
      "collapsed_sections": []
    },
    "kernelspec": {
      "name": "python3",
      "display_name": "Python 3"
    },
    "language_info": {
      "name": "python"
    }
  },
  "cells": [
    {
      "cell_type": "markdown",
      "source": [
        "# 1. 큐의 구조"
      ],
      "metadata": {
        "id": "46ginUaSMGay"
      }
    },
    {
      "cell_type": "markdown",
      "source": [
        "* 가장 먼저 넣은 데이터를 가장 먼저 꺼낼 수 있는 구조\n",
        "* 줄을 서는 행위와 유사\n",
        "* FIFO(First-in, First-out)"
      ],
      "metadata": {
        "id": "N4cmTW-IMRa0"
      }
    },
    {
      "cell_type": "markdown",
      "source": [
        "### **1-1. 큐의 용어**"
      ],
      "metadata": {
        "id": "6_Qkiz0uM0v-"
      }
    },
    {
      "cell_type": "markdown",
      "source": [
        "- Enqueue : 큐에 데이터를 넣는 기능\n",
        "- Dequene : 큐에 데이터를 꺼내는 기능\n",
        "- [Visualgo](https://visualgo.net/en/list)\n"
      ],
      "metadata": {
        "id": "KqnfZv3pNADu"
      }
    },
    {
      "cell_type": "markdown",
      "source": [
        "# **1-2. 파이썬 queue 라이브러리 활용해서 queue 자료구조 사용하기**"
      ],
      "metadata": {
        "id": "g6SqR06nNMPZ"
      }
    },
    {
      "cell_type": "markdown",
      "source": [
        "* Queue() : 가장 일반적인 큐 자료구조를 생성\n",
        "* LifoQueue() : 나중에 입력된 데이터가 먼저 출력되는 구조의 큐 자료구조를 생성(스택구조와 비슷)\n",
        "* PriorityQueue() : 데이터마다 우선순위를 넣어서 우선순위가 높은 순으로 데이터를 출력\n",
        "* 프로그램을 작성할 때 프로그램에 따라 적합한 자료구조를 사용"
      ],
      "metadata": {
        "id": "qVwe6mf0OLy4"
      }
    },
    {
      "cell_type": "code",
      "source": [
        "# Queue로 큐 만들기\n",
        "import queue\n",
        "\n",
        "data_queue = queue.Queue()\n",
        "data_queue.put('Hello')\n",
        "print(data_queue)\n",
        "print(data_queue.qsize())\n",
        "print(data_queue.get()) # Dequeue\n",
        "print(data_queue.qsize())\n",
        "\n",
        "data_queue.put(10)\n",
        "data_queue.put(True)\n",
        "print(data_queue.qsize())\n",
        "print(data_queue.get()) # 10이 먼저 들어갔으므로 먼저 빠짐\n",
        "\n",
        "for i in range(data_queue.qsize()):\n",
        "  item = data_queue.get()\n",
        "  print(item)"
      ],
      "metadata": {
        "colab": {
          "base_uri": "https://localhost:8080/"
        },
        "id": "TOfCgqYGO-1n",
        "outputId": "729b2766-aac6-47ed-d63e-d42e699aaaff"
      },
      "execution_count": null,
      "outputs": [
        {
          "output_type": "stream",
          "name": "stdout",
          "text": [
            "<queue.Queue object at 0x7fa3123c77d0>\n",
            "1\n",
            "Hello\n",
            "0\n",
            "2\n",
            "10\n",
            "True\n"
          ]
        }
      ]
    },
    {
      "cell_type": "code",
      "source": [
        "# LifoQueue()로 큐 만들기\n",
        "import queue\n",
        "\n",
        "data_queue = queue.LifoQueue()\n",
        "data_queue.put('Hello')\n",
        "data_queue.put(10)\n",
        "data_queue.put(True)\n",
        "print(data_queue.qsize())\n",
        "print(data_queue.get()) # True가 나중에 들어갔으므로 먼저 빠짐"
      ],
      "metadata": {
        "colab": {
          "base_uri": "https://localhost:8080/"
        },
        "id": "Xu0w37wRPaYK",
        "outputId": "f20e0051-b70b-4f84-e058-dd2a1aff20ce"
      },
      "execution_count": null,
      "outputs": [
        {
          "output_type": "stream",
          "name": "stdout",
          "text": [
            "3\n",
            "True\n"
          ]
        }
      ]
    },
    {
      "cell_type": "code",
      "source": [
        "# PriorityQueue()\n",
        "import queue\n",
        "\n",
        "data_queue = queue.PriorityQueue()\n",
        "data_queue.put((10, \"김사과\"))\n",
        "data_queue.put((5, \"반하나\"))\n",
        "data_queue.put((7, \"오렌지\"))\n",
        "data_queue.put((8, \"이메론\"))\n",
        "data_queue.put((2, \"박체리\"))\n",
        "print(data_queue.qsize())\n",
        "print(data_queue.get()) # 키값이 적을수록 우선순위가 높음\n",
        "print(data_queue.get())"
      ],
      "metadata": {
        "colab": {
          "base_uri": "https://localhost:8080/"
        },
        "id": "kB01ix16T36S",
        "outputId": "c8ef30a5-126d-45ac-f69a-0ead404f8f8d"
      },
      "execution_count": null,
      "outputs": [
        {
          "output_type": "stream",
          "name": "stdout",
          "text": [
            "5\n",
            "(2, '박체리')\n",
            "(5, '반하나')\n"
          ]
        }
      ]
    },
    {
      "cell_type": "markdown",
      "source": [
        "### **1-3. 큐는 어디에 쓰일까?**\n",
        "* 멀티테스킹을 위한 프로세스 스케줄링 방식을 구현(운영체제)\n",
        "* 푸시메시지 저장"
      ],
      "metadata": {
        "id": "lz64IpWnUgNF"
      }
    },
    {
      "cell_type": "markdown",
      "source": [
        "### **문제**\n",
        "리스트 변수로 큐를 다루는 enqueue, dequeue 기능을 구현해보자"
      ],
      "metadata": {
        "id": "ueL_Vj9DWKNE"
      }
    },
    {
      "cell_type": "code",
      "source": [
        "queue_list = list()\n",
        "\n",
        "def enqueue(data):\n",
        "  queue_list.append(data)\n",
        "\n",
        "def dequeue():\n",
        "  data = queue_list[0]\n",
        "  del queue_list[0]\n",
        "  return data\n",
        "\n",
        "print(len(queue_list)) # 0\n",
        "\n",
        "for index in range(10):\n",
        "  enqueue(index)\n",
        "\n",
        "print(queue_list)\n",
        "\n",
        "print(dequeue())\n",
        "\n",
        "print(queue_list)\n",
        "\n",
        "print(dequeue())\n",
        "print(dequeue())\n",
        "\n",
        "print(queue_list)\n"
      ],
      "metadata": {
        "colab": {
          "base_uri": "https://localhost:8080/"
        },
        "id": "V1AgfQi2WWfW",
        "outputId": "5a794754-2110-4f67-9b76-7e17be476834"
      },
      "execution_count": null,
      "outputs": [
        {
          "output_type": "stream",
          "name": "stdout",
          "text": [
            "0\n",
            "[0, 1, 2, 3, 4, 5, 6, 7, 8, 9]\n",
            "0\n",
            "[1, 2, 3, 4, 5, 6, 7, 8, 9]\n",
            "1\n",
            "2\n",
            "[3, 4, 5, 6, 7, 8, 9]\n"
          ]
        }
      ]
    },
    {
      "cell_type": "code",
      "source": [
        ""
      ],
      "metadata": {
        "id": "gn9_0QiKXOE8"
      },
      "execution_count": null,
      "outputs": []
    }
  ]
}