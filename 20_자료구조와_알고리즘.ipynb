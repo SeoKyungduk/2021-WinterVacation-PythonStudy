{
  "nbformat": 4,
  "nbformat_minor": 0,
  "metadata": {
    "colab": {
      "name": "20_자료구조와 알고리즘.ipynb",
      "provenance": []
    },
    "kernelspec": {
      "name": "python3",
      "display_name": "Python 3"
    },
    "language_info": {
      "name": "python"
    }
  },
  "cells": [
    {
      "cell_type": "markdown",
      "source": [
        "# **1. 자료구조**"
      ],
      "metadata": {
        "id": "owzgrMiL4zMg"
      }
    },
    {
      "cell_type": "markdown",
      "source": [
        "* 용어 : 자료구조, data structure\n",
        "* 대량의 데이터를 효율적으로 관리할 수 있는 데이터의 구조를 의미\n",
        "* 코드상에서 효율적으로 데이터를 처리하기 위해, 데이터의 특성에 따라 체계적으로 구조화해야 함\n",
        "\n",
        "> 대표적인 자료구조는 배열, 스택, 링크드리스트, 해쉬테이블, 힙 등..."
      ],
      "metadata": {
        "id": "nbbnLvm252BB"
      }
    },
    {
      "cell_type": "markdown",
      "source": [
        "# **2. 알고리즘**"
      ],
      "metadata": {
        "id": "OdlG4EuB627J"
      }
    },
    {
      "cell_type": "markdown",
      "source": [
        "* 용어 : 알고리즘, algorithm\n",
        "* 어떤 문제를 풀기 위한 절차 및 방법\n",
        "* 어떤 문제에 대해 특정한 \"입력\"을 넣으면 원하는 \"출력\"을 얻을 수 있도록 만드는 프로그램"
      ],
      "metadata": {
        "id": "6k4LMBIy7LT1"
      }
    },
    {
      "cell_type": "markdown",
      "source": [
        "# **3. 자료구조와 알고리즘이 중요한 이유**"
      ],
      "metadata": {
        "id": "tvviZPoI8Ix1"
      }
    },
    {
      "cell_type": "markdown",
      "source": [
        "* 어떤 자료구조와 알고리즘을 쓰느냐에 따라 프로그램의 성능의 차이가 많음"
      ],
      "metadata": {
        "id": "tsB0VAFr8NwC"
      }
    },
    {
      "cell_type": "markdown",
      "source": [
        "# **4. 파이썬을 활용한 자료구조와 알고리즘**"
      ],
      "metadata": {
        "id": "SAmaLURz-F0_"
      }
    },
    {
      "cell_type": "markdown",
      "source": [
        "* 어떤 언어로든 자료구조와 알고리즘은 익힐 수 있음\n",
        "* 예전에는 C언어 또는 C++로 작성하는 경우가 많았음\n",
        "* 최근에는 언어로 인한 제약/평가는 없어짐\n",
        "* 가장 쉽고 빠르게 자료구조/알고리즘을 익힐 수 있는 언어가 파이썬"
      ],
      "metadata": {
        "id": "RDf4CVKg-J2O"
      }
    },
    {
      "cell_type": "code",
      "source": [
        ""
      ],
      "metadata": {
        "id": "81mRP3e7_MWW"
      },
      "execution_count": null,
      "outputs": []
    }
  ]
}