{
  "nbformat": 4,
  "nbformat_minor": 0,
  "metadata": {
    "colab": {
      "name": "6_리스트.inpynb",
      "provenance": [],
      "collapsed_sections": []
    },
    "kernelspec": {
      "name": "python3",
      "display_name": "Python 3"
    },
    "language_info": {
      "name": "python"
    }
  },
  "cells": [
    {
      "cell_type": "markdown",
      "source": [
        "# **1. 리스트(List)**"
      ],
      "metadata": {
        "id": "PAnozS_A6qqV"
      }
    },
    {
      "cell_type": "markdown",
      "source": [
        "* 여러가지 데이터를 ,(콤마)로 구분하여 [  ]감싼 자료구조"
      ],
      "metadata": {
        "id": "TucJCIea7CX_"
      }
    },
    {
      "cell_type": "code",
      "source": [
        "li1 = [1, 3, 5, 7]\n",
        "print(li1)\n",
        "\n",
        "li2 = list([1, 3, 5])\n",
        "print(li2)\n",
        "\n",
        "li3 = ['Python', 'C++', 'JavaScript', 'Java']\n",
        "print(li3)\n",
        "\n",
        "li4 = [1, 1.5, 'Python', True] # 타입이 다른 데이터를 포함\n",
        "print(li4)\n",
        "\n",
        "li5 = [1, 2, 'Python', ['apple', 'banana']] # 리스트 안에 리스트를 포함\n",
        "print(li5)"
      ],
      "metadata": {
        "colab": {
          "base_uri": "https://localhost:8080/"
        },
        "id": "15nEnYlr7Jt0",
        "outputId": "12bb6698-21d3-4269-d537-ce40e9d1c271"
      },
      "execution_count": null,
      "outputs": [
        {
          "output_type": "stream",
          "name": "stdout",
          "text": [
            "[1, 3, 5, 7]\n",
            "[1, 3, 5]\n",
            "['Python', 'C++', 'JavaScript', 'Java']\n",
            "[1, 1.5, 'Python', True]\n",
            "[1, 2, 'Python', ['apple', 'banana']]\n"
          ]
        }
      ]
    },
    {
      "cell_type": "markdown",
      "source": [
        "# 2. 리스트 인덱싱"
      ],
      "metadata": {
        "id": "-KAPfAxy7VDW"
      }
    },
    {
      "cell_type": "code",
      "source": [
        "li1 = [1, 3, 5, 7]\n",
        "print(li1[0])\n",
        "print(li1[1])\n",
        "print(li1[-1])\n",
        "print(li1[0] + li1[2])"
      ],
      "metadata": {
        "colab": {
          "base_uri": "https://localhost:8080/"
        },
        "id": "Tuz-ofPV87Sm",
        "outputId": "bc87c002-38fe-4b83-8619-f110bb583699"
      },
      "execution_count": null,
      "outputs": [
        {
          "output_type": "stream",
          "name": "stdout",
          "text": [
            "1\n",
            "3\n",
            "7\n",
            "6\n"
          ]
        }
      ]
    },
    {
      "cell_type": "code",
      "source": [
        "li2 = [1, 3, 4, ['😎', '😊', '😍']]\n",
        "print(li2[0])\n",
        "print(li2[-1])\n",
        "print(li2[-1][1])"
      ],
      "metadata": {
        "colab": {
          "base_uri": "https://localhost:8080/"
        },
        "id": "dDqBXb4a9Cs5",
        "outputId": "e81211d2-2d7c-4391-b590-cf05c517a3b7"
      },
      "execution_count": null,
      "outputs": [
        {
          "output_type": "stream",
          "name": "stdout",
          "text": [
            "1\n",
            "['😎', '😊', '😍']\n",
            "😊\n"
          ]
        }
      ]
    },
    {
      "cell_type": "code",
      "source": [
        "li3 = [1, 3, 5, ['apple', 'banana', ['🎄', '🎃']]]\n",
        "print(li3[2])\n",
        "print(li3[-2])\n",
        "print(li3[-1])\n",
        "print(li3[-1][-2])\n",
        "print(li3[-1][-1][-1])"
      ],
      "metadata": {
        "colab": {
          "base_uri": "https://localhost:8080/"
        },
        "id": "kHsU9d15-UO4",
        "outputId": "51d570e6-9c89-499c-b1bc-dea8ea0c9e36"
      },
      "execution_count": null,
      "outputs": [
        {
          "output_type": "stream",
          "name": "stdout",
          "text": [
            "5\n",
            "5\n",
            "['apple', 'banana', ['🎄', '🎃']]\n",
            "banana\n",
            "🎃\n"
          ]
        }
      ]
    },
    {
      "cell_type": "markdown",
      "source": [
        "# 3. 리스트 슬라이싱"
      ],
      "metadata": {
        "id": "R5h9bTAU-zaK"
      }
    },
    {
      "cell_type": "code",
      "source": [
        "li4 = [10, 20, 30, 40, 50]\n",
        "print(li4)\n",
        "print(li4[0:3])\n",
        "print(type(li4))\n",
        "\n",
        "li5 = li4\n",
        "print(li5)\n",
        "li5[0] = 100\n",
        "print(li5)\n",
        "print(li4)\n",
        "\n",
        "li6 = [10, 20, 30, ['apple', 'banana', 'orange'], 40, ['🎁', '👍']]\n",
        "print(li6[2:6])\n",
        "print(li6[5][:1])"
      ],
      "metadata": {
        "colab": {
          "base_uri": "https://localhost:8080/"
        },
        "id": "hc-yxns7_ZVT",
        "outputId": "18b9663c-933d-4b90-ee74-91a5ad887a5e"
      },
      "execution_count": null,
      "outputs": [
        {
          "output_type": "stream",
          "name": "stdout",
          "text": [
            "[10, 20, 30, 40, 50]\n",
            "[10, 20, 30]\n",
            "<class 'list'>\n",
            "[10, 20, 30, 40, 50]\n",
            "[100, 20, 30, 40, 50]\n",
            "[100, 20, 30, 40, 50]\n",
            "[30, ['apple', 'banana', 'orange'], 40, ['🎁', '👍']]\n",
            "['🎁']\n"
          ]
        }
      ]
    },
    {
      "cell_type": "markdown",
      "source": [
        "# 4. 리스트 연산자"
      ],
      "metadata": {
        "id": "oTRnG7Q6_kH7"
      }
    },
    {
      "cell_type": "code",
      "source": [
        "li7 = [10, 20, 30]\n",
        "li8 = [40, 50, 60]\n",
        "\n",
        "print(li7 + li8) # [10, 20, 30, 40, 50, 60]\n",
        "print(li8 + li7) # [40, 50, 60, 10, 20, 30]\n",
        "print(li7*3) # [10, 20, 30, 10, 20, 30, 10, 20, 30]\n",
        "print('🎃' * 30)\n",
        "\n",
        "li9 = [10, 20, 30]\n",
        "# print(li9[0] + '🎄') # unsupported operand type(s) for +: 'int' and 'str'\n",
        "li9[1] = '🎈'\n",
        "print(li9)\n",
        "print('10' + '👍')"
      ],
      "metadata": {
        "colab": {
          "base_uri": "https://localhost:8080/"
        },
        "id": "Tgr63gpvCbUJ",
        "outputId": "10e4f763-5921-4089-fef3-e57dccc2e774"
      },
      "execution_count": null,
      "outputs": [
        {
          "output_type": "stream",
          "name": "stdout",
          "text": [
            "[10, 20, 30, 40, 50, 60]\n",
            "[40, 50, 60, 10, 20, 30]\n",
            "[10, 20, 30, 10, 20, 30, 10, 20, 30]\n",
            "🎃🎃🎃🎃🎃🎃🎃🎃🎃🎃🎃🎃🎃🎃🎃🎃🎃🎃🎃🎃🎃🎃🎃🎃🎃🎃🎃🎃🎃🎃\n",
            "[10, '🎈', 30]\n",
            "10👍\n"
          ]
        }
      ]
    },
    {
      "cell_type": "markdown",
      "source": [
        "# **5. 리스트의 수정 / 삭제**"
      ],
      "metadata": {
        "id": "9Dyfl5ryClIy"
      }
    },
    {
      "cell_type": "code",
      "source": [
        "li10 = [10, 20, 30]\n",
        "li10[1] = 100\n",
        "print(li10)\n",
        "\n",
        "li10[1:2] = ['🍕','🍔','🍟']\n",
        "print(li10)\n",
        "\n",
        "li10 = [10, 20, 30]\n",
        "li10[1] = ['🍕','🍔','🍟']\n",
        "print(li10)\n",
        "\n",
        "print(li10[0:3])\n",
        "li10[1:3] = []\n",
        "print(li10)\n",
        "\n",
        "del li10[0]\n",
        "print(li10)"
      ],
      "metadata": {
        "colab": {
          "base_uri": "https://localhost:8080/"
        },
        "id": "tIjE5k_4DwKT",
        "outputId": "ef66ebd8-8f53-4261-a670-0a33060f8e4e"
      },
      "execution_count": null,
      "outputs": [
        {
          "output_type": "stream",
          "name": "stdout",
          "text": [
            "[10, 100, 30]\n",
            "[10, '🍕', '🍔', '🍟', 30]\n",
            "[10, ['🍕', '🍔', '🍟'], 30]\n",
            "[10, ['🍕', '🍔', '🍟'], 30]\n",
            "[10]\n",
            "[]\n"
          ]
        }
      ]
    },
    {
      "cell_type": "markdown",
      "source": [
        "# **6. 리스트 함수**"
      ],
      "metadata": {
        "id": "RFg74SL3D0_f"
      }
    },
    {
      "cell_type": "code",
      "source": [
        "li11 = [10, 20, 30]\n",
        "\n",
        "# append() : 리스트에 데이터를 추가\n",
        "li11.append(100)\n",
        "print(li11)\n",
        "\n",
        "li11.append([40, 50])\n",
        "print(li11)"
      ],
      "metadata": {
        "colab": {
          "base_uri": "https://localhost:8080/"
        },
        "id": "OuvZhlmJIKrL",
        "outputId": "e92094b9-0aa2-44a8-f185-0150a68d1940"
      },
      "execution_count": null,
      "outputs": [
        {
          "output_type": "stream",
          "name": "stdout",
          "text": [
            "[10, 20, 30, 100]\n",
            "[10, 20, 30, 100, [40, 50]]\n"
          ]
        }
      ]
    },
    {
      "cell_type": "code",
      "source": [
        "li12 = [10, 20, 30, 40, 50]\n",
        "# pop() : 리스트에 마지막에 저장된 데이터를 반환하고 해당 데이터를 삭제\n",
        "print(12)\n",
        "# print(li12.pop())\n",
        "temp = li12.pop()\n",
        "print(temp)\n",
        "print(li12)"
      ],
      "metadata": {
        "colab": {
          "base_uri": "https://localhost:8080/"
        },
        "id": "B8oN8Z6bIpTD",
        "outputId": "29682793-f35f-42dd-a1a2-7ec0b731a4ef"
      },
      "execution_count": null,
      "outputs": [
        {
          "output_type": "stream",
          "name": "stdout",
          "text": [
            "12\n",
            "[10, 20, 30, 40]\n"
          ]
        }
      ]
    },
    {
      "cell_type": "code",
      "source": [
        "li13 = [10, 20, 30, 10, 20, 80]\n",
        "\n",
        "# remove() : 매개변수로 전달된 데이터를 제거, 처음 출현하는 데이터를 제거\n",
        "li13.remove(20)\n",
        "print(li13)\n",
        "\n",
        "li13.remove(20)\n",
        "print(li13)"
      ],
      "metadata": {
        "colab": {
          "base_uri": "https://localhost:8080/"
        },
        "id": "5dnznj8uI6k1",
        "outputId": "929a98d5-3e1b-4d51-aeda-bbaa6864ae0e"
      },
      "execution_count": null,
      "outputs": [
        {
          "output_type": "stream",
          "name": "stdout",
          "text": [
            "[10, 30, 10, 20, 80]\n",
            "[10, 30, 10, 80]\n"
          ]
        }
      ]
    },
    {
      "cell_type": "code",
      "source": [
        "li14 = [10, 20, 30]\n",
        "\n",
        "# insert() : 리스트의 특정 위치에 데이터를 삽입\n",
        "li14.insert(1, 100) # 1번 자리에 데이터 100을 삽입\n",
        "print(li14)"
      ],
      "metadata": {
        "colab": {
          "base_uri": "https://localhost:8080/"
        },
        "id": "8XBy_-tXJzxG",
        "outputId": "12272bbe-8193-4a06-fe39-f23fa54c0d53"
      },
      "execution_count": null,
      "outputs": [
        {
          "output_type": "stream",
          "name": "stdout",
          "text": [
            "[10, 100, 20, 30]\n"
          ]
        }
      ]
    },
    {
      "cell_type": "code",
      "source": [
        "li15 = [10, 20, 30, 40, 50]\n",
        "\n",
        "# index() : 리스트에 저장된 데이터가 있을 경우 위치를 반환(없으면 에러)\n",
        "print(li15.index(30))\n",
        "# print(li15.index(100)) # 100 is no in list"
      ],
      "metadata": {
        "id": "l4UX-f1MKMrE"
      },
      "execution_count": null,
      "outputs": []
    },
    {
      "cell_type": "code",
      "source": [
        "li16 = ['🍖', '🍗', '🧂', '🥗', '🌯']\n",
        "\n",
        "# reverse() : 리스트에 저장된 데이터를 반대의 순서로 변환\n",
        "li16.reverse()\n",
        "print(li16)"
      ],
      "metadata": {
        "colab": {
          "base_uri": "https://localhost:8080/"
        },
        "id": "i8-NEjJAK2FE",
        "outputId": "8c596ad4-0c10-4d52-a0b2-b9e65301fa38"
      },
      "execution_count": null,
      "outputs": [
        {
          "output_type": "stream",
          "name": "stdout",
          "text": [
            "['🌯', '🥗', '🧂', '🍗', '🍖']\n"
          ]
        }
      ]
    },
    {
      "cell_type": "code",
      "source": [
        "li17 = [10, 40, 30, 100, 90, 50]\n",
        "# sort() : 리스트에 저장된 데이터를 정렬\n",
        "li17.sort() # 오름차순\n",
        "print(li17)\n",
        "li17.sort(reverse=True) # 내림차순\n",
        "print(li17)\n",
        "\n",
        "li18 = ['Apple', 'apple', 'orange', 'banana', 'melon']\n",
        "li18.sort()\n",
        "print(li18)"
      ],
      "metadata": {
        "colab": {
          "base_uri": "https://localhost:8080/"
        },
        "id": "9mBJ8jw5LZ1-",
        "outputId": "7d35076c-685d-4964-a453-83ae8b760e83"
      },
      "execution_count": null,
      "outputs": [
        {
          "output_type": "stream",
          "name": "stdout",
          "text": [
            "[10, 30, 40, 50, 90, 100]\n",
            "[100, 90, 50, 40, 30, 10]\n",
            "['Apple', 'apple', 'banana', 'melon', 'orange']\n"
          ]
        }
      ]
    },
    {
      "cell_type": "code",
      "source": [
        "# count() : 리스트에 포함된 특정 데이터의 갯수를 반환\n",
        "li19 = [10, 20, 30, 50, 20, 40, 30, 20]\n",
        "\n",
        "print(li19.count(20)) # 3\n",
        "print(li19.count(15)) # 0"
      ],
      "metadata": {
        "id": "ixLuiisVLojH",
        "colab": {
          "base_uri": "https://localhost:8080/"
        },
        "outputId": "dcb43d07-bce2-42fd-fc3b-a7bc7da1c1d5"
      },
      "execution_count": null,
      "outputs": [
        {
          "output_type": "stream",
          "name": "stdout",
          "text": [
            "3\n",
            "0\n"
          ]
        }
      ]
    },
    {
      "cell_type": "code",
      "source": [
        "# extend() : 리스트를 확인(리스트에 리스트를 더함)\n",
        "li20 = [1, 2, 3]\n",
        "\n",
        "li20.extend([40, 50])\n",
        "print(li20)\n",
        "\n",
        "li21 = [1, 2, 3]\n",
        "li21 = li21 + [40, 50] # li21 += [40, 50]\n",
        "print(li21)"
      ],
      "metadata": {
        "id": "-X44cppxOpKh",
        "colab": {
          "base_uri": "https://localhost:8080/"
        },
        "outputId": "d37c5cc1-53bb-4156-acaa-945c237a4702"
      },
      "execution_count": null,
      "outputs": [
        {
          "output_type": "stream",
          "name": "stdout",
          "text": [
            "[1, 2, 3, 40, 50]\n",
            "[1, 2, 3, 40, 50]\n"
          ]
        }
      ]
    },
    {
      "cell_type": "code",
      "source": [
        ""
      ],
      "metadata": {
        "id": "ZiT7IWJL9835"
      },
      "execution_count": null,
      "outputs": []
    }
  ]
}