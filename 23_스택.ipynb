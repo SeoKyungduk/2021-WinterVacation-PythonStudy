{
  "nbformat": 4,
  "nbformat_minor": 0,
  "metadata": {
    "colab": {
      "name": "23_스택.ipynb",
      "provenance": [],
      "collapsed_sections": []
    },
    "kernelspec": {
      "name": "python3",
      "display_name": "Python 3"
    },
    "language_info": {
      "name": "python"
    }
  },
  "cells": [
    {
      "cell_type": "markdown",
      "source": [
        "# **1. 스택이란?**"
      ],
      "metadata": {
        "id": "JFleI84hMqk4"
      }
    },
    {
      "cell_type": "markdown",
      "source": [
        "* 데이터를 제한적으로 접근할 수 있는 구조\n",
        "* 한쪽 끝에서만 자료를 넣거나 뺄 수 있는 구조\n",
        "* 가장 나중에 쌓은 데이터를 가장 먼저 빼낼 수 있는 구조\n",
        "* LIFO(Last Input First Out)"
      ],
      "metadata": {
        "id": "D6fr9E9pM6r0"
      }
    },
    {
      "cell_type": "markdown",
      "source": [
        "### **1-1 스택의 구조**\n",
        "* 스택은 LIFO 또는 FILO 데이터 관리 방식\n",
        "* 스택의 활용 -> 컴퓨터 내부의 프로세스 구조의 함수 동작 방식\n",
        "* 주소 기능\n",
        " * Push() : 데이터를 스택에 쌓기\n",
        " * pop() 데이터를 스택에서 꺼내기"
      ],
      "metadata": {
        "id": "po6TjvnONZuM"
      }
    },
    {
      "cell_type": "markdown",
      "source": [
        "1-2. 스택의 장단점\n",
        "* 장점\n",
        " * 구조가 단순해서 구현이 쉬움\n",
        " * 데이터 저장/읽기 속도가 빠름\n",
        "* 단점\n",
        " * 데이터 최대 개수를 미리 정해야 함(파이썬의 경우 재귀함수는 1000번까지만 호출이 가능)\n",
        " * 저장 공간의 낭비가 발생할 수 있음(미리 최대 개수만큼 저장공간을 확보해야 함)\n",
        "\n",
        "> 스택은 단순하고 빠른 성능을 위해 사용하므로 보통 배열 구조를 활용해서 구현하는 것이 일반적"
      ],
      "metadata": {
        "id": "cBZlJMStN7qz"
      }
    },
    {
      "cell_type": "code",
      "source": [
        "# 파이썬 리스트 기능에서 제공하는 메소드로 스택 사용하기\n",
        "data_stack = list()\n",
        "print(data_stack)\n",
        "\n",
        "data_stack.append(1)\n",
        "data_stack.append(10)\n",
        "data_stack.append(5)\n",
        "print(data_stack)\n",
        "\n",
        "print(data_stack.pop())\n",
        "print(data_stack)"
      ],
      "metadata": {
        "id": "inD2_cfvOqML",
        "colab": {
          "base_uri": "https://localhost:8080/"
        },
        "outputId": "56b50255-d855-41c5-9d89-cc5422b5706d"
      },
      "execution_count": null,
      "outputs": [
        {
          "output_type": "stream",
          "name": "stdout",
          "text": [
            "[]\n",
            "[1, 10, 5]\n",
            "5\n",
            "[1, 10]\n"
          ]
        }
      ]
    },
    {
      "cell_type": "markdown",
      "source": [
        "### **문제.**\n",
        "리스트 변수로 스택을 다루는 pop, push 기능을 직접 구현해보자. (단, pop, push 함수는 사용하지 않음)"
      ],
      "metadata": {
        "id": "t6o3P9-pO5dw"
      }
    },
    {
      "cell_type": "code",
      "source": [
        "stack_list = list()\n",
        "\n",
        "# 데이터를 쌓는 함수\n",
        "def push(data):\n",
        "  stack_list.append(data)\n",
        "\n",
        "# 마지막 데이터부터 추출하는 함수\n",
        "def pop():\n",
        "  data = stack_list[-1]\n",
        "  del stack_list[-1]\n",
        "  return data\n",
        "\n",
        "# 활용\n",
        "for index in range(10):\n",
        "  push(index)\n",
        "\n",
        "print(stack_list)\n",
        "\n",
        "print(pop())\n",
        "\n",
        "print(stack_list)\n",
        "\n",
        "print(pop())\n",
        "\n",
        "print(stack_list)"
      ],
      "metadata": {
        "colab": {
          "base_uri": "https://localhost:8080/"
        },
        "id": "0CWarIM6PmhZ",
        "outputId": "f93c87e7-2066-42af-bed0-9022f61d2e9f"
      },
      "execution_count": null,
      "outputs": [
        {
          "output_type": "stream",
          "name": "stdout",
          "text": [
            "[0, 1, 2, 3, 4, 5, 6, 7, 8, 9]\n",
            "9\n",
            "[0, 1, 2, 3, 4, 5, 6, 7, 8]\n",
            "8\n",
            "[0, 1, 2, 3, 4, 5, 6, 7]\n"
          ]
        }
      ]
    },
    {
      "cell_type": "code",
      "source": [
        ""
      ],
      "metadata": {
        "id": "S6xOq8ItQII7"
      },
      "execution_count": null,
      "outputs": []
    }
  ]
}