{
  "nbformat": 4,
  "nbformat_minor": 0,
  "metadata": {
    "colab": {
      "name": "9_반복문(제어문).ipynb",
      "provenance": [],
      "collapsed_sections": []
    },
    "kernelspec": {
      "name": "python3",
      "display_name": "Python 3"
    },
    "language_info": {
      "name": "python"
    }
  },
  "cells": [
    {
      "cell_type": "markdown",
      "source": [
        "# 1. 대입 연산자"
      ],
      "metadata": {
        "id": "buBcwCBtIAqg"
      }
    },
    {
      "cell_type": "markdown",
      "source": [
        "* =, +=, -=, *=, /=, %=\n",
        "* 왼쪽에 저장된 값과 오른쪽의 값을 연산한 뒤에 다시 왼쪽에 대입"
      ],
      "metadata": {
        "id": "vn959550IG7Z"
      }
    },
    {
      "cell_type": "code",
      "source": [
        "num = 10\n",
        "# num = num + 1\n",
        "num += 1\n",
        "print(num)\n",
        "num -= 1\n",
        "print(num)\n",
        "num *= 10\n",
        "print(num)\n",
        "num /= 10\n",
        "print(num)\n",
        "num %= 2 # 2로 나눈 나머지 값\n",
        "print(num)"
      ],
      "metadata": {
        "colab": {
          "base_uri": "https://localhost:8080/"
        },
        "id": "sMDFmY8BIXhW",
        "outputId": "a144c343-5b56-4d1f-94d5-b4cf26f0be15"
      },
      "execution_count": null,
      "outputs": [
        {
          "output_type": "stream",
          "name": "stdout",
          "text": [
            "11\n",
            "10\n",
            "100\n",
            "10.0\n",
            "0.0\n"
          ]
        }
      ]
    },
    {
      "cell_type": "markdown",
      "source": [
        "# **2. while 문**"
      ],
      "metadata": {
        "id": "QVsLihbnHb8G"
      }
    },
    {
      "cell_type": "markdown",
      "source": [
        "```\n",
        "while 조건식:\n",
        "  조건식이 True인 경우 반복할 문장\n",
        "```"
      ],
      "metadata": {
        "id": "e-x8tKvbHjj1"
      }
    },
    {
      "cell_type": "code",
      "source": [
        "i = 1\n",
        "while i <= 5:\n",
        "  print('Hello Python')\n",
        "  i += 1\n",
        "\n",
        "print('현재 i의 값 : {}'.format(i))"
      ],
      "metadata": {
        "colab": {
          "base_uri": "https://localhost:8080/"
        },
        "id": "4zfgAvcoJRI8",
        "outputId": "f3cccee1-649a-4225-c923-de98c8d88a43"
      },
      "execution_count": null,
      "outputs": [
        {
          "output_type": "stream",
          "name": "stdout",
          "text": [
            "Hello Python\n",
            "Hello Python\n",
            "Hello Python\n",
            "Hello Python\n",
            "Hello Python\n",
            "현재 i의 값 : 6\n"
          ]
        }
      ]
    },
    {
      "cell_type": "code",
      "source": [
        "# 1 ~ 10까지의 함\n",
        "i = 1\n",
        "sum = 0\n",
        "\n",
        "while i <= 10:\n",
        "  sum += i # sum = sum + i \n",
        "  # 0 + 1 = 1\n",
        "  # 1 + 2 = 3\n",
        "  # 3 + 3 = 6\n",
        "  # 6 + 4 = 10\n",
        "  # 10 + 5 = 15\n",
        "  # 15 + 6 = 21\n",
        "  # 21 + 7 = 28\n",
        "  # 28 + 8 = 36\n",
        "  # 36 + 9 = 45\n",
        "  # 45 + 10 = 55\n",
        "  i += 1\n",
        "\n",
        "print('1부터 10까지 총합 : {}'.format(sum))"
      ],
      "metadata": {
        "colab": {
          "base_uri": "https://localhost:8080/"
        },
        "id": "JjRpS1QPJxcy",
        "outputId": "16a32deb-5d13-4d66-b815-a5b3b5ab2ec4"
      },
      "execution_count": null,
      "outputs": [
        {
          "output_type": "stream",
          "name": "stdout",
          "text": [
            "1부터 10까지 총합 : 55\n"
          ]
        }
      ]
    },
    {
      "cell_type": "markdown",
      "source": [
        "### **문제**"
      ],
      "metadata": {
        "id": "svju9e6nMgGE"
      }
    },
    {
      "cell_type": "markdown",
      "source": [
        "원하는 단을 입력해서 구구단을 출력하는 프로그램을 작성해보자."
      ],
      "metadata": {
        "id": "lrH7qaX5MuLy"
      }
    },
    {
      "cell_type": "code",
      "source": [
        "dan = int(input('원하는 단을 입력하세요 '))\n",
        "print('{} 단'.format(dan))\n",
        "\n",
        "i = 1\n",
        "while i <= 9:\n",
        "  print('{} * {} = {}'.format(dan, i, dan * i))\n",
        "  i += 1"
      ],
      "metadata": {
        "colab": {
          "base_uri": "https://localhost:8080/"
        },
        "id": "JvW6Doe6Nohi",
        "outputId": "9d2f3506-eeaf-4362-9943-291cd15b1d94"
      },
      "execution_count": null,
      "outputs": [
        {
          "output_type": "stream",
          "name": "stdout",
          "text": [
            "원하는 단을 입력하세요 5\n",
            "5 단\n",
            "5 * 1 = 5\n",
            "5 * 2 = 10\n",
            "5 * 3 = 15\n",
            "5 * 4 = 20\n",
            "5 * 5 = 25\n",
            "5 * 6 = 30\n",
            "5 * 7 = 35\n",
            "5 * 8 = 40\n",
            "5 * 9 = 45\n"
          ]
        }
      ]
    },
    {
      "cell_type": "markdown",
      "source": [
        "# 3. for 문"
      ],
      "metadata": {
        "id": "ug19GS8uO_Fc"
      }
    },
    {
      "cell_type": "markdown",
      "source": [
        "```\n",
        "for 변수 in range(범위):\n",
        "  반복할 문장\n",
        "```"
      ],
      "metadata": {
        "id": "mvTTjhptP546"
      }
    },
    {
      "cell_type": "code",
      "source": [
        "for i in range(0, 10, 1): # 0부터 10직전까지 1씩 증가\n",
        "  print('🎃', end = ' ')"
      ],
      "metadata": {
        "colab": {
          "base_uri": "https://localhost:8080/"
        },
        "id": "k8_1WzgLQGGX",
        "outputId": "c1953ba5-7f7a-4ef4-bda6-e087fec11ea9"
      },
      "execution_count": null,
      "outputs": [
        {
          "output_type": "stream",
          "name": "stdout",
          "text": [
            "🎃 🎃 🎃 🎃 🎃 🎃 🎃 🎃 🎃 🎃 "
          ]
        }
      ]
    },
    {
      "cell_type": "code",
      "source": [
        "for i in range(10): # 0부터 10직전까지 1씩 증가\n",
        "  print('🎃', end = ' ')"
      ],
      "metadata": {
        "colab": {
          "base_uri": "https://localhost:8080/"
        },
        "id": "DYcyUxnVQdf9",
        "outputId": "77fef3a8-fba5-42fb-f188-25f63ceeaf9c"
      },
      "execution_count": null,
      "outputs": [
        {
          "output_type": "stream",
          "name": "stdout",
          "text": [
            "🎃 🎃 🎃 🎃 🎃 🎃 🎃 🎃 🎃 🎃 "
          ]
        }
      ]
    },
    {
      "cell_type": "code",
      "source": [
        "for i in range(0, 10): # 0부터 10직전까지 1씩 증가\n",
        "  print('🎃', end = ' ')"
      ],
      "metadata": {
        "colab": {
          "base_uri": "https://localhost:8080/"
        },
        "id": "aaFSUfzcRAF0",
        "outputId": "66077b54-af8e-44a0-e2b9-fbb8e44fb839"
      },
      "execution_count": null,
      "outputs": [
        {
          "output_type": "stream",
          "name": "stdout",
          "text": [
            "🎃 🎃 🎃 🎃 🎃 🎃 🎃 🎃 🎃 🎃 "
          ]
        }
      ]
    },
    {
      "cell_type": "markdown",
      "source": [
        "### 문제"
      ],
      "metadata": {
        "id": "b_o-fhOaRLXK"
      }
    },
    {
      "cell_type": "markdown",
      "source": [
        "1 ~ 100까지 총합을 구하는 프로그램을 만들어보자."
      ],
      "metadata": {
        "id": "_eBN57jVRnRr"
      }
    },
    {
      "cell_type": "code",
      "source": [
        "sum = 0\n",
        "i = 1\n",
        "for i in range(101):\n",
        "  sum += i # sum = sum + i\n",
        "\n",
        "print(\"1부터 100까지의 합은 : {0}\".format(sum))"
      ],
      "metadata": {
        "colab": {
          "base_uri": "https://localhost:8080/"
        },
        "id": "qcJonakMRrgq",
        "outputId": "21cde8ab-91fc-4455-a199-90caa2b5d907"
      },
      "execution_count": null,
      "outputs": [
        {
          "output_type": "stream",
          "name": "stdout",
          "text": [
            "1부터 100까지의 합은 : 5050\n"
          ]
        }
      ]
    },
    {
      "cell_type": "markdown",
      "source": [
        "### 3-1. list를 for문과 함께 사용"
      ],
      "metadata": {
        "id": "lFU7wXo8SBC_"
      }
    },
    {
      "cell_type": "code",
      "source": [
        "li = ['apple', 'banana', 'orange', 'melon']\n",
        "\n",
        "for i in li:\n",
        "  print(i, end = ' ')"
      ],
      "metadata": {
        "colab": {
          "base_uri": "https://localhost:8080/"
        },
        "id": "T6AWnm5cWl3f",
        "outputId": "c7d061ed-6175-4ad0-ca95-ee4304efbc3e"
      },
      "execution_count": null,
      "outputs": [
        {
          "output_type": "stream",
          "name": "stdout",
          "text": [
            "apple banana orange melon "
          ]
        }
      ]
    },
    {
      "cell_type": "markdown",
      "source": [
        "### 3-2. tuple을 for문과 함께 사용"
      ],
      "metadata": {
        "id": "z5CaHaW6Wyn0"
      }
    },
    {
      "cell_type": "code",
      "source": [
        "tu = ('🍖', '🍟', '🍕', '🥞')\n",
        "for i in tu:\n",
        "  print(i, end = ' ')"
      ],
      "metadata": {
        "colab": {
          "base_uri": "https://localhost:8080/"
        },
        "id": "NCNhLNDNXBFS",
        "outputId": "f5b78730-780e-4bed-bfeb-23ae54049403"
      },
      "execution_count": null,
      "outputs": [
        {
          "output_type": "stream",
          "name": "stdout",
          "text": [
            "🍖 🍟 🍕 🥞 "
          ]
        }
      ]
    },
    {
      "cell_type": "markdown",
      "source": [
        "### **문제**"
      ],
      "metadata": {
        "id": "WumCLGLnXOcq"
      }
    },
    {
      "cell_type": "markdown",
      "source": [
        "score 리스트에 저장된 점수가 60점 이상인 학생이 몇명인지 알아보는 프로그램을 작성\n",
        "\n",
        "* score = [90, 30, 50, 80, 70, 100, 40]"
      ],
      "metadata": {
        "id": "qm6VpUZZXZ_L"
      }
    },
    {
      "cell_type": "code",
      "source": [
        "score = [90, 30, 50, 80, 70, 100, 40]\n",
        "count = 0\n",
        "\n",
        "for i in score:\n",
        "  if i >= 60:\n",
        "    count += 1\n",
        "print(\"60점 이상의 학생은 {0}명입니다.\".format(count))"
      ],
      "metadata": {
        "colab": {
          "base_uri": "https://localhost:8080/"
        },
        "id": "fb8_6-6SYRKY",
        "outputId": "399180d7-1b07-43fd-c7f5-5fb96e819c04"
      },
      "execution_count": null,
      "outputs": [
        {
          "output_type": "stream",
          "name": "stdout",
          "text": [
            "60점 이상의 학생은 4명입니다.\n"
          ]
        }
      ]
    },
    {
      "cell_type": "markdown",
      "source": [
        "# **4. 다중 반복분**"
      ],
      "metadata": {
        "id": "LO82JC52Z7ov"
      }
    },
    {
      "cell_type": "markdown",
      "source": [
        "* for 또는 while문이 2개이상 겹쳐있는 문장"
      ],
      "metadata": {
        "id": "KSQ0LTEtae6R"
      }
    },
    {
      "cell_type": "code",
      "source": [
        "for num1 in range(1, 4):\n",
        "  print('현재 num1 : {}'.format(num1))\n",
        "  for num2 in range(1, 5):\n",
        "    print('{}'.format('😚'))"
      ],
      "metadata": {
        "colab": {
          "base_uri": "https://localhost:8080/"
        },
        "id": "vev8CbPWakYT",
        "outputId": "38076b28-3943-4c52-ed30-824e210fd8f5"
      },
      "execution_count": null,
      "outputs": [
        {
          "output_type": "stream",
          "name": "stdout",
          "text": [
            "현재 num1 : 1\n",
            "😚\n",
            "😚\n",
            "😚\n",
            "😚\n",
            "현재 num1 : 2\n",
            "😚\n",
            "😚\n",
            "😚\n",
            "😚\n",
            "현재 num1 : 3\n",
            "😚\n",
            "😚\n",
            "😚\n",
            "😚\n"
          ]
        }
      ]
    },
    {
      "cell_type": "markdown",
      "source": [
        "'🎃' 이용하여 아래와 같은 도형을 만들어보자.\n",
        "\n",
        "🎃 🎃 🎃 🎃 🎃  \n",
        "🎃 🎃 🎃 🎃 🎃  \n",
        "🎃 🎃 🎃 🎃 🎃  \n",
        "🎃 🎃 🎃 🎃 🎃  "
      ],
      "metadata": {
        "id": "sxjbpxTkayaS"
      }
    },
    {
      "cell_type": "code",
      "source": [
        "for i in range(5):\n",
        "  for j in range(5):\n",
        "    print('🎃', end = ' ')\n",
        "  print()"
      ],
      "metadata": {
        "colab": {
          "base_uri": "https://localhost:8080/"
        },
        "id": "Whksg1xSbyuH",
        "outputId": "0ad84bbc-01ab-4858-ca54-076b028ef105"
      },
      "execution_count": null,
      "outputs": [
        {
          "output_type": "stream",
          "name": "stdout",
          "text": [
            "🎃 🎃 🎃 🎃 🎃 \n",
            "🎃 🎃 🎃 🎃 🎃 \n",
            "🎃 🎃 🎃 🎃 🎃 \n",
            "🎃 🎃 🎃 🎃 🎃 \n",
            "🎃 🎃 🎃 🎃 🎃 \n"
          ]
        }
      ]
    },
    {
      "cell_type": "markdown",
      "source": [
        "### **문제**"
      ],
      "metadata": {
        "id": "Dbkz80_RcVE0"
      }
    },
    {
      "cell_type": "markdown",
      "source": [
        "'🎃' 이용하여 아래와 같은 도형을 만들어보자.\n",
        "\n",
        "🎃 🎃 🎃 🎃 🎃  \n",
        "🎃 🎃 🎃 🎃  \n",
        "🎃 🎃 🎃  \n",
        "🎃 🎃  \n",
        "🎃  "
      ],
      "metadata": {
        "id": "S3sdCeKRchYl"
      }
    },
    {
      "cell_type": "code",
      "source": [
        "for i in range(5):\n",
        "  for j in range(i, 5):\n",
        "    print('🎃', end = ' ')\n",
        "  print()"
      ],
      "metadata": {
        "colab": {
          "base_uri": "https://localhost:8080/"
        },
        "id": "OXGjRWwQc8tS",
        "outputId": "e789c242-6278-4e45-b8ce-6dfe452430b8"
      },
      "execution_count": null,
      "outputs": [
        {
          "output_type": "stream",
          "name": "stdout",
          "text": [
            "🎃 🎃 🎃 🎃 🎃 \n",
            "🎃 🎃 🎃 🎃 \n",
            "🎃 🎃 🎃 \n",
            "🎃 🎃 \n",
            "🎃 \n"
          ]
        }
      ]
    },
    {
      "cell_type": "markdown",
      "source": [
        "2단부터 9단까지 구구단을 출력하는 프로그램을 만들어보자"
      ],
      "metadata": {
        "id": "0KshZIvnfBCL"
      }
    },
    {
      "cell_type": "code",
      "source": [
        "for i in range(2, 10):\n",
        "  print('{} 단'.format(i))\n",
        "  for j in range(1, 10):\n",
        "    print('{} * {} = {}'.format(i, i, j, i*j))\n",
        "  print()"
      ],
      "metadata": {
        "colab": {
          "base_uri": "https://localhost:8080/"
        },
        "id": "5rmgZhUZfZi2",
        "outputId": "3dfc205a-11d0-472e-80b0-fa67115d62f2"
      },
      "execution_count": null,
      "outputs": [
        {
          "output_type": "stream",
          "name": "stdout",
          "text": [
            "2 단\n",
            "2 * 2 = 1\n",
            "2 * 2 = 2\n",
            "2 * 2 = 3\n",
            "2 * 2 = 4\n",
            "2 * 2 = 5\n",
            "2 * 2 = 6\n",
            "2 * 2 = 7\n",
            "2 * 2 = 8\n",
            "2 * 2 = 9\n",
            "\n",
            "3 단\n",
            "3 * 3 = 1\n",
            "3 * 3 = 2\n",
            "3 * 3 = 3\n",
            "3 * 3 = 4\n",
            "3 * 3 = 5\n",
            "3 * 3 = 6\n",
            "3 * 3 = 7\n",
            "3 * 3 = 8\n",
            "3 * 3 = 9\n",
            "\n",
            "4 단\n",
            "4 * 4 = 1\n",
            "4 * 4 = 2\n",
            "4 * 4 = 3\n",
            "4 * 4 = 4\n",
            "4 * 4 = 5\n",
            "4 * 4 = 6\n",
            "4 * 4 = 7\n",
            "4 * 4 = 8\n",
            "4 * 4 = 9\n",
            "\n",
            "5 단\n",
            "5 * 5 = 1\n",
            "5 * 5 = 2\n",
            "5 * 5 = 3\n",
            "5 * 5 = 4\n",
            "5 * 5 = 5\n",
            "5 * 5 = 6\n",
            "5 * 5 = 7\n",
            "5 * 5 = 8\n",
            "5 * 5 = 9\n",
            "\n",
            "6 단\n",
            "6 * 6 = 1\n",
            "6 * 6 = 2\n",
            "6 * 6 = 3\n",
            "6 * 6 = 4\n",
            "6 * 6 = 5\n",
            "6 * 6 = 6\n",
            "6 * 6 = 7\n",
            "6 * 6 = 8\n",
            "6 * 6 = 9\n",
            "\n",
            "7 단\n",
            "7 * 7 = 1\n",
            "7 * 7 = 2\n",
            "7 * 7 = 3\n",
            "7 * 7 = 4\n",
            "7 * 7 = 5\n",
            "7 * 7 = 6\n",
            "7 * 7 = 7\n",
            "7 * 7 = 8\n",
            "7 * 7 = 9\n",
            "\n",
            "8 단\n",
            "8 * 8 = 1\n",
            "8 * 8 = 2\n",
            "8 * 8 = 3\n",
            "8 * 8 = 4\n",
            "8 * 8 = 5\n",
            "8 * 8 = 6\n",
            "8 * 8 = 7\n",
            "8 * 8 = 8\n",
            "8 * 8 = 9\n",
            "\n",
            "9 단\n",
            "9 * 9 = 1\n",
            "9 * 9 = 2\n",
            "9 * 9 = 3\n",
            "9 * 9 = 4\n",
            "9 * 9 = 5\n",
            "9 * 9 = 6\n",
            "9 * 9 = 7\n",
            "9 * 9 = 8\n",
            "9 * 9 = 9\n",
            "\n"
          ]
        }
      ]
    },
    {
      "cell_type": "code",
      "source": [
        ""
      ],
      "metadata": {
        "id": "upY2a5uZf7sJ"
      },
      "execution_count": null,
      "outputs": []
    }
  ]
}