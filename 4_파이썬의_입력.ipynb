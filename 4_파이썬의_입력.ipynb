{
  "nbformat": 4,
  "nbformat_minor": 0,
  "metadata": {
    "colab": {
      "name": "4_파이썬의 입력.ipynb",
      "provenance": []
    },
    "kernelspec": {
      "name": "python3",
      "display_name": "Python 3"
    },
    "language_info": {
      "name": "python"
    }
  },
  "cells": [
    {
      "cell_type": "markdown",
      "source": [
        "# **1. input 함수**"
      ],
      "metadata": {
        "id": "sAlVkXu7XhpL"
      }
    },
    {
      "cell_type": "markdown",
      "source": [
        "* 사용자에게 데이터를 입력받을 수 있는 함수\n",
        "* 데이터를 문자형으로 입력"
      ],
      "metadata": {
        "id": "SKPPozfwXsm1"
      }
    },
    {
      "cell_type": "code",
      "source": [
        "name = input()\n",
        "print(name)"
      ],
      "metadata": {
        "colab": {
          "base_uri": "https://localhost:8080/"
        },
        "id": "rhiXiBw4Xzr1",
        "outputId": "12056ebc-f8fb-4bc5-a328-0e043cb3adc6"
      },
      "execution_count": null,
      "outputs": [
        {
          "output_type": "stream",
          "name": "stdout",
          "text": [
            "안녕하세요\n",
            "안녕하세요\n"
          ]
        }
      ]
    },
    {
      "cell_type": "code",
      "source": [
        "print('이름을 입력하세요 : ', end='')\n",
        "name = input()\n",
        "print('%s님 안녕하세요!' % name)"
      ],
      "metadata": {
        "colab": {
          "base_uri": "https://localhost:8080/"
        },
        "id": "oXiN0bMpYJiz",
        "outputId": "efd69da3-e05a-4482-88e3-8d5175e1efd8"
      },
      "execution_count": null,
      "outputs": [
        {
          "output_type": "stream",
          "name": "stdout",
          "text": [
            "이름을 입력하세요 : 김사과\n",
            "김사과님 안녕하세요!\n"
          ]
        }
      ]
    },
    {
      "cell_type": "code",
      "source": [
        "# split() : 인수로 전달된 문자를 기준으로 데이터를 나눠서 저장\n",
        "print('이름과 나이, 몸무게를 입력하세요 : ', end='')\n",
        "name, age, weight = input().split(' ') # 김사과 20 50.5\n",
        "print('{}님의 나이는 {}살이며, 몸무게는 {}kg 입니다.'.format(name, age, weight))"
      ],
      "metadata": {
        "colab": {
          "base_uri": "https://localhost:8080/"
        },
        "id": "72XXcghcYYpV",
        "outputId": "c96d4c95-a706-4c5e-fdd8-81b704bd4a69"
      },
      "execution_count": null,
      "outputs": [
        {
          "output_type": "stream",
          "name": "stdout",
          "text": [
            "이름과 나이, 몸무게를 입력하세요 : 김사과 20 50.5\n",
            "김사과님의 나이는 20살이며, 몸무게는 50.5kg 입니다.\n"
          ]
        }
      ]
    },
    {
      "cell_type": "code",
      "source": [
        "# split() : 인수로 전달된 문자를 기준으로 데이터를 나눠서 저장\n",
        "print('이름과 나이, 몸무게를 입력하세요 : ', end='')\n",
        "name, age, weight = input().split('/') # 김사과 20 50.5\n",
        "print('{}님의 나이는 {}살이며, 몸무게는 {}kg 입니다.'.format(name, age, weight))"
      ],
      "metadata": {
        "colab": {
          "base_uri": "https://localhost:8080/"
        },
        "id": "aDudryrzaaDN",
        "outputId": "f813fd36-5f80-4904-a4c9-2feb9ccd5288"
      },
      "execution_count": null,
      "outputs": [
        {
          "output_type": "stream",
          "name": "stdout",
          "text": [
            "이름과 나이, 몸무게를 입력하세요 : 반하나/20/50.5\n",
            "반하나님의 나이는 20살이며, 몸무게는 50.5kg 입니다.\n"
          ]
        }
      ]
    },
    {
      "cell_type": "code",
      "source": [
        "kor, eng, math = input('시험 점수를 입력하세요 : ').split(',')\n",
        "print(kor + eng + math)\n",
        "print(type(kor), type(eng), type(math))\n",
        "\n",
        "# int() : 문자열을 정수 타입으로 변환\n",
        "# float() : 문자열을 실수 타입으로 변환\n",
        "# str() : 자료형을 문자 타입으로 변환\n",
        "print(int(kor) + int(eng) + int(math))\n",
        "\n",
        "# print(int(kor + eng + math)) # 908070의 정수형"
      ],
      "metadata": {
        "colab": {
          "base_uri": "https://localhost:8080/"
        },
        "id": "sQvwfUC3buGc",
        "outputId": "2525c490-b5c4-43a9-ee06-31bc028363b0"
      },
      "execution_count": null,
      "outputs": [
        {
          "output_type": "stream",
          "name": "stdout",
          "text": [
            "시험 점수를 입력하세요 : 90,80,70\n",
            "908070\n",
            "<class 'str'> <class 'str'> <class 'str'>\n",
            "240\n"
          ]
        }
      ]
    },
    {
      "cell_type": "markdown",
      "source": [
        "# **2. map 함수**"
      ],
      "metadata": {
        "id": "vlpCxWpob4vf"
      }
    },
    {
      "cell_type": "markdown",
      "source": [
        "* 미리 타입을 지정하여 입력받는 함수"
      ],
      "metadata": {
        "id": "QExyBkZ5dKf4"
      }
    },
    {
      "cell_type": "code",
      "source": [
        "kor, eng, math = map(int, input('시험 점수를 입력하세요.').split(' '))\n",
        "print(kor + eng + math)"
      ],
      "metadata": {
        "colab": {
          "base_uri": "https://localhost:8080/"
        },
        "id": "wrfyjgYVdNht",
        "outputId": "8cd5dc0b-c269-4c78-b624-8fc1b89e879b"
      },
      "execution_count": null,
      "outputs": [
        {
          "output_type": "stream",
          "name": "stdout",
          "text": [
            "시험 점수를 입력하세요.90 80 70\n",
            "240\n"
          ]
        }
      ]
    },
    {
      "cell_type": "code",
      "source": [
        ""
      ],
      "metadata": {
        "id": "vgNy73d7do4_"
      },
      "execution_count": null,
      "outputs": []
    }
  ]
}