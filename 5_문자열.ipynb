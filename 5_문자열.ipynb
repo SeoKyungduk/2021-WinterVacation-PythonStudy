{
  "nbformat": 4,
  "nbformat_minor": 0,
  "metadata": {
    "colab": {
      "name": "5_문자열.ipynb",
      "provenance": [],
      "authorship_tag": "ABX9TyOmYbU1HEgVU7FeQm1KIxss",
      "include_colab_link": true
    },
    "kernelspec": {
      "name": "python3",
      "display_name": "Python 3"
    },
    "language_info": {
      "name": "python"
    }
  },
  "cells": [
    {
      "cell_type": "markdown",
      "metadata": {
        "id": "view-in-github",
        "colab_type": "text"
      },
      "source": [
        "<a href=\"https://colab.research.google.com/github/SeoKyungduk/2021-WinterVacation-PythonStudy/blob/main/5_%EB%AC%B8%EC%9E%90%EC%97%B4.ipynb\" target=\"_parent\"><img src=\"https://colab.research.google.com/assets/colab-badge.svg\" alt=\"Open In Colab\"/></a>"
      ]
    },
    {
      "cell_type": "markdown",
      "source": [
        "# 1. 문자열의 저장"
      ],
      "metadata": {
        "id": "_--Cq8--rHty"
      }
    },
    {
      "cell_type": "code",
      "source": [
        "str1 = '오늘은 3일차 파이썬시간입니다'\n",
        "str2 = \"오늘은 3일차 파이썬시간입니다\"\n",
        "str3 = '''오늘은 3일차 \n",
        "파이썬시간입니다\n",
        "'''\n",
        "\n",
        "print(str1)\n",
        "print(str2)\n",
        "print(str3)"
      ],
      "metadata": {
        "colab": {
          "base_uri": "https://localhost:8080/"
        },
        "id": "uicyRIVHrxV9",
        "outputId": "88db0fe0-9446-436d-e648-178f68fd5f23"
      },
      "execution_count": null,
      "outputs": [
        {
          "output_type": "stream",
          "name": "stdout",
          "text": [
            "오늘은 3일차 파이썬시간입니다\n",
            "오늘은 3일차 파이썬시간입니다\n",
            "오늘은 3일차 \n",
            "파이썬시간입니다\n",
            "\n"
          ]
        }
      ]
    },
    {
      "cell_type": "markdown",
      "source": [
        "# 2. 문자열 인덱싱"
      ],
      "metadata": {
        "id": "zblZgg9lsM96"
      }
    },
    {
      "cell_type": "code",
      "source": [
        "str = \"Python can be easy to pick up whether you're a first time programmer or you're experienced with other languages.\"\n",
        "print(str)\n",
        "print(type(str)) # <class 'str'>"
      ],
      "metadata": {
        "colab": {
          "base_uri": "https://localhost:8080/"
        },
        "id": "qxDUicS1sfyy",
        "outputId": "25abdf1d-c2ea-4ad5-f416-b70cc207f596"
      },
      "execution_count": null,
      "outputs": [
        {
          "output_type": "stream",
          "name": "stdout",
          "text": [
            "Python can be easy to pick up whether you're a first time programmer or you're experienced with other languages.\n",
            "<class 'str'>\n"
          ]
        }
      ]
    },
    {
      "cell_type": "code",
      "source": [
        "print(str[0]) # P\n",
        "print(str[1]) # y\n",
        "print(str[20]) # o\n",
        "print(str[-1]) # . (마지막 문자)\n",
        "print(str[-2]) # s"
      ],
      "metadata": {
        "colab": {
          "base_uri": "https://localhost:8080/"
        },
        "id": "1GSWDM8YtWJu",
        "outputId": "1e093149-9b8e-4f98-80ae-2c09a88f7131"
      },
      "execution_count": null,
      "outputs": [
        {
          "output_type": "stream",
          "name": "stdout",
          "text": [
            "P\n",
            "y\n",
            "o\n",
            ".\n",
            "s\n"
          ]
        }
      ]
    },
    {
      "cell_type": "markdown",
      "source": [
        "# **3. 문자열 슬라이싱**"
      ],
      "metadata": {
        "id": "q7mtwYwEuikH"
      }
    },
    {
      "cell_type": "code",
      "source": [
        "str = \"Python can be easy to pick up whether you're a first time programmer or you're experienced with other languages.\"\n",
        "print(str[0:6]) # 인덱스 0부터 6직전까지 문자열\n",
        "print(str[14:22]) # easy to\n",
        "print(str[22:]) # 인덱스 22부터 끝까지 문자열\n",
        "print(str[0:21]) # 인덱스 0부터 21직전까지 문자열"
      ],
      "metadata": {
        "colab": {
          "base_uri": "https://localhost:8080/"
        },
        "id": "kvhVE4l9vOwe",
        "outputId": "bfa25d81-0688-4c24-93fb-dc9138e9cb88"
      },
      "execution_count": null,
      "outputs": [
        {
          "output_type": "stream",
          "name": "stdout",
          "text": [
            "Python\n",
            "easy to \n",
            "pick up whether you're a first time programmer or you're experienced with other languages.\n",
            "Python can be easy to\n"
          ]
        }
      ]
    },
    {
      "cell_type": "code",
      "source": [
        "str = \"Python can be easy to pick up whether you're a first time programmer or you're experienced with other languages.\"\n",
        "\n",
        "# len() : 인수로 입력된 문자열의 갯수를 반환\n",
        "print(len(str)) # 112\n",
        "\n",
        "# count() : 문자열에서 인수로 입력된 문자열의 출현 횟수를 반환\n",
        "print(str.count(\"s\")) # 3\n",
        "print(str.count('you')) # 2\n",
        "print(str.count('YOU')) # 0\n",
        "\n",
        "# find() : 인수로 입력된 문자열이 처음 나오는 위치를 인덱스로 반환\n",
        "print(str.find('p')) # 22\n",
        "print(str.find('z')) # 찾는 문자열이 없을 경우 -1\n",
        "\n",
        "# index() : 인수로 입력된 문자열이 처음 나오는 위치를 인덱스로 반환, 찾지 못하면 에러\n",
        "print(str.index('p')) # 22\n",
        "# print(str.index('z')) # substring not found\n",
        "\n",
        "# replace() : 문자열을 치환\n",
        "print(str.replace('Python', 'JavaScript'))\n",
        "\n",
        "# upper() : 대문자로 변환\n",
        "print(str.upper())\n",
        "\n",
        "# lower() : 소문자로 변환\n",
        "print(str.lower())\n",
        "\n",
        "str = '          Hello     Python          '\n",
        "print(str)\n",
        "\n",
        "# lstrip() : 문자열 왼쪽의 공백을 제거\n",
        "print(str.lstrip())\n",
        "\n",
        "# rstrip() : 문자열 오른쪽의 공백을 제거\n",
        "print(str.rstrip())\n",
        "\n",
        "# strip() : 문자열 양쪽 공백을 제거\n",
        "print(str.strip())\n",
        "\n",
        "str = \"Python\"\n",
        "\n",
        "# join() : 문자열에 특정 문자열을 삽입\n",
        "print('❤'.join(str))\n"
      ],
      "metadata": {
        "colab": {
          "base_uri": "https://localhost:8080/"
        },
        "id": "17cts7rzxD6e",
        "outputId": "b6682045-4c82-493c-c607-b498520fd63a"
      },
      "execution_count": null,
      "outputs": [
        {
          "output_type": "stream",
          "name": "stdout",
          "text": [
            "112\n",
            "3\n",
            "2\n",
            "0\n",
            "22\n",
            "-1\n",
            "22\n",
            "JavaScript can be easy to pick up whether you're a first time programmer or you're experienced with other languages.\n",
            "PYTHON CAN BE EASY TO PICK UP WHETHER YOU'RE A FIRST TIME PROGRAMMER OR YOU'RE EXPERIENCED WITH OTHER LANGUAGES.\n",
            "python can be easy to pick up whether you're a first time programmer or you're experienced with other languages.\n",
            "          Hello     Python          \n",
            "Hello     Python          \n",
            "          Hello     Python\n",
            "Hello     Python\n",
            "P❤y❤t❤h❤o❤n\n"
          ]
        }
      ]
    },
    {
      "cell_type": "code",
      "source": [
        ""
      ],
      "metadata": {
        "id": "uEPCjDRBxU2x"
      },
      "execution_count": null,
      "outputs": []
    }
  ]
}