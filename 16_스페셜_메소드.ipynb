{
  "nbformat": 4,
  "nbformat_minor": 0,
  "metadata": {
    "colab": {
      "name": "16_스페셜 메소드.ipynb",
      "provenance": [],
      "collapsed_sections": []
    },
    "kernelspec": {
      "name": "python3",
      "display_name": "Python 3"
    },
    "language_info": {
      "name": "python"
    }
  },
  "cells": [
    {
      "cell_type": "markdown",
      "source": [
        "# **1. 스페셜 메소드(Special Method)**"
      ],
      "metadata": {
        "id": "EwhNrhdbX6yE"
      }
    },
    {
      "cell_type": "markdown",
      "source": [
        "* _ _로 시작해서 _ _로 끝나는 특수함수\n",
        "* 해당 메소드들을 구현하면, 커스텀 객체에 여러가지 파이썬 내장 함수나 연산자를 적용 가능\n",
        "* 오버라이딩 가능한 함수 목록은 아래 링크에서 참조\n",
        "> https://docs.python.org/3/reference/datamodel.html\n"
      ],
      "metadata": {
        "id": "91gi74CxYEFk"
      }
    },
    {
      "cell_type": "code",
      "source": [
        "class Point:\n",
        "  def __init__(self, x, y):\n",
        "    self.x = x\n",
        "    self.y = y\n",
        "  def print_pt(self):\n",
        "    print(\"({0}, {1})\".format(self.x, self.y))\n",
        "  def __str__(self): # str()\n",
        "    return (\"({}, {})\".format(self.x, self.y))\n",
        "  def __add__(self, pt):\n",
        "    new_x = self.x + pt.x\n",
        "    new_y = self.y + pt.y\n",
        "    return Point(new_x, new_y)\n",
        "  def __sub__(self, pt):\n",
        "    new_x = self.x - pt.x\n",
        "    new_y = self.y - pt.y\n",
        "    return Point(new_x, new_y)\n",
        "  def __mul__(self, m):\n",
        "    return Point(self.x * m, self.y * m)\n",
        "  def length(self):\n",
        "    return self.x ** 2 + self.y ** 2\n",
        "  def __len__(self):\n",
        "    return self.x ** 2 + self.y ** 2\n",
        "  def __getitem__(self, index):\n",
        "    if index == 0:\n",
        "      return self.x\n",
        "    elif index == 1:\n",
        "      return self.y\n",
        "    else:\n",
        "      return -1"
      ],
      "metadata": {
        "id": "7oh0MzRVYbSC"
      },
      "execution_count": null,
      "outputs": []
    },
    {
      "cell_type": "code",
      "source": [
        "p1 = Point(3, 4)\n",
        "print(p1)\n",
        "p1.print_pt()"
      ],
      "metadata": {
        "colab": {
          "base_uri": "https://localhost:8080/"
        },
        "id": "lwh7gL_db43B",
        "outputId": "ceed4ec8-2d97-4853-e925-21afda766116"
      },
      "execution_count": null,
      "outputs": [
        {
          "output_type": "stream",
          "name": "stdout",
          "text": [
            "(3, 4)\n",
            "(3, 4)\n"
          ]
        }
      ]
    },
    {
      "cell_type": "code",
      "source": [
        "# str() : 객체를 매개변수로 저장하면 객체의 주소 및 클래스를 확인\n",
        "p2 = Point(5, 8)\n",
        "print(p2) # print(str(p2))\n",
        "print(str(p2))"
      ],
      "metadata": {
        "colab": {
          "base_uri": "https://localhost:8080/"
        },
        "id": "LNes4W1xcM8A",
        "outputId": "93cd4dc8-fd1f-44a8-adc9-2e5e151d9b6b"
      },
      "execution_count": null,
      "outputs": [
        {
          "output_type": "stream",
          "name": "stdout",
          "text": [
            "(5, 8)\n",
            "(5, 8)\n"
          ]
        }
      ]
    },
    {
      "cell_type": "code",
      "source": [
        "# __add__\n",
        "# 문제. p1.x + p2.x = p3.x , p1.y + p2.y = p3.y\n",
        "p3 = Point(0, 0)\n",
        "p3 = p1 + p2\n",
        "print(p3)"
      ],
      "metadata": {
        "colab": {
          "base_uri": "https://localhost:8080/"
        },
        "id": "441hBRz1dKyK",
        "outputId": "7bfdae8f-7211-4c3a-dcdf-863a660fafa2"
      },
      "execution_count": null,
      "outputs": [
        {
          "output_type": "stream",
          "name": "stdout",
          "text": [
            "(8, 12)\n"
          ]
        }
      ]
    },
    {
      "cell_type": "code",
      "source": [
        "# __sub__\n",
        "# 문제. p1.x - p2xx = p3.x, p1.y - p2.y = p3.y\n",
        "p4 = p1 - p2\n",
        "print(p4) # (-2, -4)"
      ],
      "metadata": {
        "colab": {
          "base_uri": "https://localhost:8080/"
        },
        "id": "S5mruI0KfWMX",
        "outputId": "aa4c9db3-433d-4ac1-af58-222fcd84fc83"
      },
      "execution_count": null,
      "outputs": [
        {
          "output_type": "stream",
          "name": "stdout",
          "text": [
            "(-2, -4)\n"
          ]
        }
      ]
    },
    {
      "cell_type": "code",
      "source": [
        "# __mul__\n",
        "p5 = p1 * 3\n",
        "print(p5) # (9, 12)"
      ],
      "metadata": {
        "colab": {
          "base_uri": "https://localhost:8080/"
        },
        "id": "zVbuLnPhffog",
        "outputId": "0eeabd03-7399-487b-819c-fd3fa14f36c5"
      },
      "execution_count": null,
      "outputs": [
        {
          "output_type": "stream",
          "name": "stdout",
          "text": [
            "(9, 12)\n"
          ]
        }
      ]
    },
    {
      "cell_type": "code",
      "source": [
        "print(p1.length())\n",
        "# print(len(p1))\n",
        "\n",
        "# __len__\n",
        "print(len(p1))"
      ],
      "metadata": {
        "colab": {
          "base_uri": "https://localhost:8080/"
        },
        "id": "Gl9LsCNdnn6O",
        "outputId": "ac09e73a-71b0-43e9-a4bf-1629e466f8c6"
      },
      "execution_count": null,
      "outputs": [
        {
          "output_type": "stream",
          "name": "stdout",
          "text": [
            "25\n",
            "25\n"
          ]
        }
      ]
    },
    {
      "cell_type": "code",
      "source": [
        "# __getitem__\n",
        "# p1 = Point(3, 4)\n",
        "print(p1[0]) # 3\n",
        "print(p1[1]) # 4\n",
        "print(p1[20]) # -1\n",
        "\n",
        "# p2 = Point(5, 8)\n",
        "print(p2[0]) # 5\n",
        "print(p2[1]) # 8\n",
        "print(p2[20]) # -1"
      ],
      "metadata": {
        "colab": {
          "base_uri": "https://localhost:8080/"
        },
        "id": "ydTFoxiKsG2Y",
        "outputId": "fed98d0e-5a3a-4325-d757-1f87a50473b4"
      },
      "execution_count": null,
      "outputs": [
        {
          "output_type": "stream",
          "name": "stdout",
          "text": [
            "3\n",
            "4\n",
            "-1\n",
            "5\n",
            "8\n",
            "-1\n"
          ]
        }
      ]
    },
    {
      "cell_type": "code",
      "source": [
        ""
      ],
      "metadata": {
        "id": "H4FUWPbNvMMS"
      },
      "execution_count": null,
      "outputs": []
    }
  ]
}