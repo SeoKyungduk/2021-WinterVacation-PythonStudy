{
  "nbformat": 4,
  "nbformat_minor": 0,
  "metadata": {
    "colab": {
      "name": "26_해쉬테이블.ipynb",
      "provenance": [],
      "collapsed_sections": []
    },
    "kernelspec": {
      "name": "python3",
      "display_name": "Python 3"
    },
    "language_info": {
      "name": "python"
    }
  },
  "cells": [
    {
      "cell_type": "markdown",
      "source": [
        "# **1. 해쉬 테이블(Hash Table)**"
      ],
      "metadata": {
        "id": "FEtFyRpFLr8Z"
      }
    },
    {
      "cell_type": "markdown",
      "source": [
        "* 키(key)에 데이터(value)를 저장하는 데이터 구조\n",
        "* 파이썬에서는 해쉬를 별도 구현할 필요가 없음\n",
        "* 파이썬 딕셔너리(Dictionary)타입이 해쉬 테이블의 예\n",
        "* key를 통해 데이터를 바로 찾을 수 있으므로 검색 속도가 빨라짐\n",
        "* 보통 배열로 미리 Hash Table 사이즈 만큼 생성 후에 사용"
      ],
      "metadata": {
        "id": "QvWJyz26N4jR"
      }
    },
    {
      "cell_type": "markdown",
      "source": [
        "# **2. 알아둘 용어**"
      ],
      "metadata": {
        "id": "STZc2amHPG3d"
      }
    },
    {
      "cell_type": "markdown",
      "source": [
        "* 해쉬(Hash) : 임의 값을 고정 길이로 변환하는 것\n",
        "* 해쉬 테이블(Hash Table) : 키 값의 연산에 의해 직접 접근이 가능한 데이터 구조\n",
        "* 해쉬 함수(Hashing Function) : key에 대해 산술 연산을 이용해 데이터 위치를 찾을 수 있는 함수\n",
        "* 해쉬 값(Hash vlue) 또는 해쉬 주소(Hash Address) : key를 해싱 함수로 연산해서 해쉬 값을 알아내고 이를 기반으로 해쉬 테이블에 해당 key에 대한 데이터 위치를 일관성 있게 찾을 수 있음\n",
        "* 슬롯(Slot) : 한 개의 데이터를 저장할 수 있는 공간"
      ],
      "metadata": {
        "id": "x_6DNZdfPeS9"
      }
    },
    {
      "cell_type": "markdown",
      "source": [
        "# **3. 간단한 해쉬 예**"
      ],
      "metadata": {
        "id": "nFI5OHRaS2Gl"
      }
    },
    {
      "cell_type": "markdown",
      "source": [
        "### **3-1. hash table 만들기**"
      ],
      "metadata": {
        "id": "piCAOYPES6fL"
      }
    },
    {
      "cell_type": "code",
      "source": [
        "hash_table = list([i for i in range(10)])\n",
        "hash_table"
      ],
      "metadata": {
        "colab": {
          "base_uri": "https://localhost:8080/"
        },
        "id": "XwP8pKCbTBUA",
        "outputId": "e6ffd911-617e-4840-ee7d-a2545a568b27"
      },
      "execution_count": null,
      "outputs": [
        {
          "output_type": "execute_result",
          "data": {
            "text/plain": [
              "[0, 1, 2, 3, 4, 5, 6, 7, 8, 9]"
            ]
          },
          "metadata": {},
          "execution_count": 63
        }
      ]
    },
    {
      "cell_type": "markdown",
      "source": [
        "### **3-2. 해쉬 함수 만들기**\n",
        "* 다양한 해쉬 함수 고안 기법이 있으며, 가장 간단한 방법인 Division법(나누기를 통한 나머지 값을 사용하는 기법)을 사용"
      ],
      "metadata": {
        "id": "0D-hMVs_Tgqz"
      }
    },
    {
      "cell_type": "code",
      "source": [
        " def hash_func(key):\n",
        "  return key % 5"
      ],
      "metadata": {
        "id": "A57DC0qXTQKf"
      },
      "execution_count": null,
      "outputs": []
    },
    {
      "cell_type": "markdown",
      "source": [
        "### **3-3. 해쉬 테이블에 저장하기**\n",
        "* 데이터에 따라 필요시 key 생성 방법 정의가 필요함"
      ],
      "metadata": {
        "id": "z8cg0mKUTpXu"
      }
    },
    {
      "cell_type": "code",
      "source": [
        "data1 = 'Apple'\n",
        "data2 = 'Banana'\n",
        "data3 = 'Orange'\n",
        "data4 = 'Melon'\n",
        "\n",
        "## ord() : 문자의 ASCII(아스키)코드 리턴\n",
        "print(ord(data1[0]), ord(data2[0]), ord(data3[0]))\n",
        "print(ord(data1[0]), hash_func(ord(data1[0])))"
      ],
      "metadata": {
        "id": "q7uJvcR6UAEu",
        "colab": {
          "base_uri": "https://localhost:8080/"
        },
        "outputId": "8f7a517c-ae34-4659-db7c-59638f6a7685"
      },
      "execution_count": null,
      "outputs": [
        {
          "output_type": "stream",
          "name": "stdout",
          "text": [
            "65 66 79\n",
            "65 0\n"
          ]
        }
      ]
    },
    {
      "cell_type": "code",
      "source": [
        "# 해쉬 테이블에 값을 저장하는 방법\n",
        "# data:value 와 같이 data와 value를 넣으면, 해당 data에 대한 key를 찾아서 해당 key에 대응하는 해쉬주소에 value를 저장하는 방법\n",
        "def storage_data(data, value):\n",
        "  key = ord(data[0])\n",
        "  hash_address = hash_func(key)\n",
        "  hash_table[hash_address] = value"
      ],
      "metadata": {
        "id": "H6Lar-jGU38Z"
      },
      "execution_count": null,
      "outputs": []
    },
    {
      "cell_type": "markdown",
      "source": [
        "### **3-4. 해쉬 테이블에서 특정 주소의 데이터를 가져오는 함수 만들기**"
      ],
      "metadata": {
        "id": "41KxdJs1WMAt"
      }
    },
    {
      "cell_type": "code",
      "source": [
        "storage_data('Apple', '010-1111-1111')\n",
        "storage_data('Banana', '010-2222-2222')\n",
        "storage_data('Orange', '010-3333-3333')"
      ],
      "metadata": {
        "id": "kWAyyis5WR-N"
      },
      "execution_count": null,
      "outputs": []
    },
    {
      "cell_type": "markdown",
      "source": [
        "### **3-5. 실제 데이터를 저장하고 읽어오기**"
      ],
      "metadata": {
        "id": "oNIJNQBVWeKd"
      }
    },
    {
      "cell_type": "code",
      "source": [
        "def get_data(data):\n",
        "  key = ord(data[0])\n",
        "  hash_address = hash_func(key)\n",
        "  return hash_table[hash_address]"
      ],
      "metadata": {
        "id": "psUuuzqTWh5I"
      },
      "execution_count": null,
      "outputs": []
    },
    {
      "cell_type": "code",
      "source": [
        "get_data('Apple')"
      ],
      "metadata": {
        "colab": {
          "base_uri": "https://localhost:8080/",
          "height": 35
        },
        "id": "2N53xXuMWuRF",
        "outputId": "e9114d8b-2df7-4e04-cab0-6c824f3844be"
      },
      "execution_count": null,
      "outputs": [
        {
          "output_type": "execute_result",
          "data": {
            "application/vnd.google.colaboratory.intrinsic+json": {
              "type": "string"
            },
            "text/plain": [
              "'010-1111-1111'"
            ]
          },
          "metadata": {},
          "execution_count": 69
        }
      ]
    },
    {
      "cell_type": "code",
      "source": [
        "get_data('Banana')"
      ],
      "metadata": {
        "colab": {
          "base_uri": "https://localhost:8080/",
          "height": 35
        },
        "id": "oCBlRONQW60z",
        "outputId": "c3ce2f60-78a4-4b52-f8bd-40be11ecfd2f"
      },
      "execution_count": null,
      "outputs": [
        {
          "output_type": "execute_result",
          "data": {
            "application/vnd.google.colaboratory.intrinsic+json": {
              "type": "string"
            },
            "text/plain": [
              "'010-2222-2222'"
            ]
          },
          "metadata": {},
          "execution_count": 70
        }
      ]
    },
    {
      "cell_type": "code",
      "source": [
        "get_data('Orange')"
      ],
      "metadata": {
        "colab": {
          "base_uri": "https://localhost:8080/",
          "height": 35
        },
        "id": "fCZpAZ1kaSfs",
        "outputId": "d71f2911-3899-4f80-8aed-521104ea9952"
      },
      "execution_count": null,
      "outputs": [
        {
          "output_type": "execute_result",
          "data": {
            "application/vnd.google.colaboratory.intrinsic+json": {
              "type": "string"
            },
            "text/plain": [
              "'010-3333-3333'"
            ]
          },
          "metadata": {},
          "execution_count": 71
        }
      ]
    },
    {
      "cell_type": "markdown",
      "source": [
        "# **4. 자료구조 해쉬 테이블의 장단점과 주요 용도**"
      ],
      "metadata": {
        "id": "mlDooz3naUl5"
      }
    },
    {
      "cell_type": "markdown",
      "source": [
        "* 장점\n",
        "  * 데이터 저장/읽기 속도가 빠름(검색 속도가 빠름)\n",
        "  * 해쉬는 키에 대한 데이터가 있는지(중복) 확인이 쉬움\n",
        "* 단점\n",
        "  * 일반적으로 저장공간이 많이 필요함\n",
        "  * 여러 키에 해당하는 주소가 동일할 경우 충돌을 해결하기 위한 별도 자료구조가 필요함\n",
        "* 주요 용도\n",
        "  * 검색이 많이 필요한 경우\n",
        "  * 저장, 삭제, 읽기가 빈번한 경우\n",
        "  * 캐쉬 구현시(중복 확인이 쉽기 때문)"
      ],
      "metadata": {
        "id": "ThbljWS8d7MX"
      }
    },
    {
      "cell_type": "markdown",
      "source": [
        "### **문제**\n",
        "리스트 변수를 활용하여 해쉬 테이블 구현하기\n",
        "1. 해쉬 함수 : key % 8\n",
        "2. 해쉬 키 생성 : hash(data)"
      ],
      "metadata": {
        "id": "fVXUEh2KeMx6"
      }
    },
    {
      "cell_type": "code",
      "source": [
        "hash_table = list([0 for i in range(8)])\n",
        "print(hash_table)"
      ],
      "metadata": {
        "colab": {
          "base_uri": "https://localhost:8080/"
        },
        "id": "S33CkEewesg9",
        "outputId": "424eb8d2-8dc3-407b-e5e6-9c14b5cecc97"
      },
      "execution_count": null,
      "outputs": [
        {
          "output_type": "stream",
          "name": "stdout",
          "text": [
            "[0, 0, 0, 0, 0, 0, 0, 0]\n"
          ]
        }
      ]
    },
    {
      "cell_type": "code",
      "source": [
        "def get_key(data):\n",
        "  return hash(data)\n",
        "\n",
        "def hash_function(key):\n",
        "  return key % 8\n",
        "\n",
        "def save_data(data, value):\n",
        "  hash_address = hash_function(get_key(data))\n",
        "  hash_table[hash_address] = value\n",
        "\n",
        "def read_data(data):\n",
        "  hash_address = hash_function(get_key(data))\n",
        "  return hash_table[hash_address]"
      ],
      "metadata": {
        "id": "TLm-0uzhezTl"
      },
      "execution_count": null,
      "outputs": []
    },
    {
      "cell_type": "code",
      "source": [
        "save_data('Apple', '010-1111-1111')"
      ],
      "metadata": {
        "id": "DrYEgM5ifBEq"
      },
      "execution_count": null,
      "outputs": []
    },
    {
      "cell_type": "code",
      "source": [
        "print(read_data('Apple'))"
      ],
      "metadata": {
        "colab": {
          "base_uri": "https://localhost:8080/"
        },
        "id": "QbjhiELbfEVg",
        "outputId": "560e5530-d99f-4e83-c696-ac260864edd0"
      },
      "execution_count": null,
      "outputs": [
        {
          "output_type": "stream",
          "name": "stdout",
          "text": [
            "010-1111-1111\n"
          ]
        }
      ]
    },
    {
      "cell_type": "markdown",
      "source": [
        "# 5. 충돌(Collision) 해결 알고리즘"
      ],
      "metadata": {
        "id": "qV9dMGKOfGij"
      }
    },
    {
      "cell_type": "markdown",
      "source": [
        "> 해쉬 테이블의 가장 큰 문제는 충돌(Collision)의 경우입니다. 이 문제는 충돌 또는 해쉬 충돌이라고 부릅니다."
      ],
      "metadata": {
        "id": "iejckcZejKgx"
      }
    },
    {
      "cell_type": "markdown",
      "source": [
        "### **5-1. Linear Probling 기법**\n",
        "* 폐쇄 해싱 또는 Close Hashing 기법 중 하나\n",
        "* 해쉬 테이블 저장공간 안에서 충돌 문제를 해결하는 기법\n",
        "* 충돌이 일어나면 해당 hash address의 다음 address 부터 맨 처음 나오는 빈공간에 저장하는 기법\n",
        "  * 저장공간 활용도를 높이기 위한 방법"
      ],
      "metadata": {
        "id": "wH3LF317jSAB"
      }
    },
    {
      "cell_type": "markdown",
      "source": [
        "### **문제**\n",
        "1. 해쉬 함수 : key % 8\n",
        "2. 해쉬 키 생성 : hash(data)"
      ],
      "metadata": {
        "id": "0x4-WoSajcUh"
      }
    },
    {
      "cell_type": "code",
      "source": [
        "hash_table = list([0 for i in range(8)])"
      ],
      "metadata": {
        "id": "jNW613cpj6JG"
      },
      "execution_count": null,
      "outputs": []
    },
    {
      "cell_type": "code",
      "source": [
        "def get_key(data):\n",
        "  return hash(data)\n",
        "\n",
        "def hash_function(key):\n",
        "  return key % 8\n",
        "\n",
        "def save_data(data, value):\n",
        "  index_key = get_key(data)\n",
        "  hash_address = hash_function(index_key)\n",
        "  if hash_table[hash_address] != 0:\n",
        "    for index in range(hash_address, len(hash_table)):\n",
        "      if hash_table[index] == 0:\n",
        "        hash_table[index] = [index_key, value]\n",
        "        return\n",
        "      elif hash_table[index][0] == index_key:\n",
        "        hash_table[index][1] == value\n",
        "        return\n",
        "  else:\n",
        "    hash_table[hash_address] = [index_key, value]\n",
        "      \n",
        "def read_data(data):\n",
        "  index_key = get_key(data)\n",
        "  hash_address = hash_function(index_key)\n",
        "\n",
        "  if hash_table[hash_address] != 0:\n",
        "    for index in range(hash_address, len(hash_table)):\n",
        "      if hash_table[index] == 0:\n",
        "        return None\n",
        "      elif hash_table[index][0] == index_key:\n",
        "        return hash_table[index][1]\n",
        "  else:\n",
        "    return None\n"
      ],
      "metadata": {
        "id": "pRicdWXnj9jq"
      },
      "execution_count": null,
      "outputs": []
    },
    {
      "cell_type": "code",
      "source": [
        "save_data('Apple', '010-1111-1111')\n",
        "save_data('Banana', '010-2222-2222')\n",
        "save_data('Orange', '010-3333-3333')\n",
        "save_data('Melon', '010-4444-4444')\n",
        "save_data('Cherry', '010-5555-5555')\n",
        "save_data('Avocado', '010-6666-6666')"
      ],
      "metadata": {
        "id": "0FAqwlj9k3R5"
      },
      "execution_count": null,
      "outputs": []
    },
    {
      "cell_type": "code",
      "source": [
        "print(hash('Apple') % 8)\n",
        "print(hash('Banana') % 8)\n",
        "print(hash('Orange') % 8)\n",
        "print(hash('Melon') % 8)\n",
        "print(hash('Cherry') % 8)\n",
        "print(hash('Avocado') % 8)"
      ],
      "metadata": {
        "colab": {
          "base_uri": "https://localhost:8080/"
        },
        "id": "4ZdvZSF9lQ3f",
        "outputId": "c9a4c4a6-cb1e-4d83-d216-c86f995dc38e"
      },
      "execution_count": null,
      "outputs": [
        {
          "output_type": "stream",
          "name": "stdout",
          "text": [
            "1\n",
            "6\n",
            "2\n",
            "6\n",
            "4\n",
            "2\n"
          ]
        }
      ]
    },
    {
      "cell_type": "code",
      "source": [
        "read_data('Watermelon')"
      ],
      "metadata": {
        "id": "HJgh7DpDlUU2"
      },
      "execution_count": null,
      "outputs": []
    },
    {
      "cell_type": "code",
      "source": [
        "hash_table"
      ],
      "metadata": {
        "colab": {
          "base_uri": "https://localhost:8080/"
        },
        "id": "nZlSWSwYlXwi",
        "outputId": "dbddc155-94a6-4b2d-8fac-fc4254d7ed1e"
      },
      "execution_count": null,
      "outputs": [
        {
          "output_type": "execute_result",
          "data": {
            "text/plain": [
              "[0,\n",
              " [2160326535380577697, '010-1111-1111'],\n",
              " [-5801102207333940670, '010-3333-3333'],\n",
              " [-600532097978018294, '010-6666-6666'],\n",
              " [1025306136601989556, '010-5555-5555'],\n",
              " 0,\n",
              " [6763372263409521638, '010-2222-2222'],\n",
              " [-7322761691021430258, '010-4444-4444']]"
            ]
          },
          "metadata": {},
          "execution_count": 96
        }
      ]
    },
    {
      "cell_type": "markdown",
      "source": [
        "### **5-2 Chaining 기법**\n",
        "* 개방 해쉬 또는 Open Hashing 기법 중 하나\n",
        "* 해쉬 테이블 저장공간 외의 공간을 활용하는 기법\n",
        "* 충돌이 일어나면, 링크드리스트라는 자료구조를 사용해서 링크드리스트로 데이터를 추가로 뒤에 연결시켜서 저장하는 기법"
      ],
      "metadata": {
        "id": "AFr8pnsLlbQF"
      }
    },
    {
      "cell_type": "code",
      "source": [
        "hash_table = list([0 for i in range(8)])"
      ],
      "metadata": {
        "id": "Tx9_HlN9zlV6"
      },
      "execution_count": null,
      "outputs": []
    },
    {
      "cell_type": "code",
      "source": [
        "def get_key(data):\n",
        "  return hash(data)\n",
        "\n",
        "def hash_function(key):\n",
        "  return key % 8\n",
        "\n",
        "def save_data(data, value):\n",
        "  index_key = get_key(data)\n",
        "  hash_address = hash_function(index_key)\n",
        "  if hash_table[hash_address] != 0:\n",
        "    for index in range(len(hash_table[hash_address])):\n",
        "      if hash_table[hash_address][index][0] == index_key:\n",
        "        hash_table[hash_address][index][1] = value\n",
        "        return\n",
        "    hash_table[hash_address].append([index_key, value])\n",
        "  else:\n",
        "    hash_table[hash_address] = [[index_key, value]]\n",
        "\n",
        "def read_data(data):\n",
        "  index_key = get_key(data)\n",
        "  hash_address = hash_function(index_key)\n",
        "  if hash_table[hash_address] != 0:\n",
        "    for index in range(len(hash_table[hash_address])):\n",
        "      if hash_table[hash_address][index][0] == index_key:\n",
        "        return hash_table[hash_address][index][1]\n",
        "  else:\n",
        "    return None"
      ],
      "metadata": {
        "id": "_ZmPzIxRY5rB"
      },
      "execution_count": null,
      "outputs": []
    },
    {
      "cell_type": "code",
      "source": [
        "save_data('Apple', '010-1111-1111')\n",
        "save_data('Banana', '010-2222-2222')\n",
        "save_data('Orange', '010-3333-3333')\n",
        "save_data('Melon', '010-4444-4444')\n",
        "save_data('Cherry', '010-5555-5555')\n",
        "save_data('Avocado', '010-6666-6666')\n",
        "save_data('Watermelon', '010-7777-7777')"
      ],
      "metadata": {
        "id": "zsQBFQ0lbIKt"
      },
      "execution_count": null,
      "outputs": []
    },
    {
      "cell_type": "code",
      "source": [
        "print(hash('Apple') % 8)\n",
        "print(hash('Banana') % 8)\n",
        "print(hash('Orange') % 8)\n",
        "print(hash('Melon') % 8)\n",
        "print(hash('Cherry') % 8)\n",
        "print(hash('Avocado') % 8)\n",
        "print(hash('Watermelon') % 8)"
      ],
      "metadata": {
        "colab": {
          "base_uri": "https://localhost:8080/"
        },
        "id": "BVtOD-vSbNHZ",
        "outputId": "7677058b-aba0-4cbc-a0ef-9d3f04f1ed01"
      },
      "execution_count": null,
      "outputs": [
        {
          "output_type": "stream",
          "name": "stdout",
          "text": [
            "0\n",
            "3\n",
            "3\n",
            "0\n",
            "4\n",
            "7\n",
            "1\n"
          ]
        }
      ]
    },
    {
      "cell_type": "code",
      "source": [
        "hash_table"
      ],
      "metadata": {
        "colab": {
          "base_uri": "https://localhost:8080/"
        },
        "id": "jpvBzDH0bPmS",
        "outputId": "4b0266f1-e8c3-40a5-b611-fde92d94c033"
      },
      "execution_count": null,
      "outputs": [
        {
          "output_type": "execute_result",
          "data": {
            "text/plain": [
              "[[[-9026859131495334576, '010-1111-1111'],\n",
              "  [-7959909263300417200, '010-4444-4444']],\n",
              " [[-9163110296098727471, '010-7777-7777']],\n",
              " 0,\n",
              " [[-7342030675226478301, '010-2222-2222'],\n",
              "  [-5437982740024721453, '010-3333-3333']],\n",
              " [[8742169404821699180, '010-5555-5555']],\n",
              " 0,\n",
              " 0,\n",
              " [[-7823977036130772033, '010-6666-6666']]]"
            ]
          },
          "metadata": {},
          "execution_count": 9
        }
      ]
    },
    {
      "cell_type": "code",
      "source": [
        "read_data('Watermelon')"
      ],
      "metadata": {
        "colab": {
          "base_uri": "https://localhost:8080/",
          "height": 35
        },
        "id": "aZncQEeHbRNH",
        "outputId": "689852d1-f237-485b-bc50-c8eade146a12"
      },
      "execution_count": null,
      "outputs": [
        {
          "output_type": "execute_result",
          "data": {
            "application/vnd.google.colaboratory.intrinsic+json": {
              "type": "string"
            },
            "text/plain": [
              "'010-7777-7777'"
            ]
          },
          "metadata": {},
          "execution_count": 10
        }
      ]
    },
    {
      "cell_type": "markdown",
      "source": [
        "# **6. 해쉬 함수와 키 생성 함수**"
      ],
      "metadata": {
        "id": "pQwda-7_cPe6"
      }
    },
    {
      "cell_type": "markdown",
      "source": [
        "* 파이썬의 hash() 함수는 실행할 때마다 값이 달라질 수 있음\n",
        "* 유명한 해쉬 함수들이 있음 : SHA(Secure Hash Algorithm, 안전한 해쉬 알고리즘)\n",
        "  * 어떤 데이터도 유일한 고정된 크기의 고정값을 리턴해주므로 해쉬 함수로 유용하게 활용 가능\n",
        "  \n",
        "> 데이터의 위 변조 유무 확인(정보의 무결성 확인)"
      ],
      "metadata": {
        "id": "nukOonbycuRZ"
      }
    },
    {
      "cell_type": "markdown",
      "source": [
        "### **6-1. SHA-1**"
      ],
      "metadata": {
        "id": "inTuWDahdK_D"
      }
    },
    {
      "cell_type": "code",
      "source": [
        "import hashlib\n",
        "\n",
        "data = 'test'.encode()\n",
        "print(data)\n",
        "hash_object = hashlib.sha1()\n",
        "print(hash_object)\n",
        "hash_object.update(data)\n",
        "hex_dig = hash_object.hexdigest()\n",
        "print(hex_dig) # 16진수\n",
        "print(int(hex_dig, 16)) # 10진수"
      ],
      "metadata": {
        "colab": {
          "base_uri": "https://localhost:8080/"
        },
        "id": "MiqXwOLXdWKN",
        "outputId": "658fc025-e3eb-4e18-c379-fac1ad007771"
      },
      "execution_count": null,
      "outputs": [
        {
          "output_type": "stream",
          "name": "stdout",
          "text": [
            "b'test'\n",
            "<sha1 HASH object @ 0x7fae64e2fde0>\n",
            "a94a8fe5ccb19ba61c4c0873d391e987982fbbd3\n",
            "966482230667555116936258103322711973649032657875\n"
          ]
        }
      ]
    },
    {
      "cell_type": "markdown",
      "source": [
        "* 컴퓨터 용량 단뒤\n",
        "- 1bit : 0 또는 1  \n",
        "- 8bit : 1byte  \n",
        "- 1024byte : 1KB  \n",
        "- 1024KB = 1MB  \n",
        "- 1024MB = 1GB  \n",
        "- 1024GB = 1TB  \n",
        "- 1024TB = 1PB  "
      ],
      "metadata": {
        "id": "uUGhj6ixddu5"
      }
    },
    {
      "cell_type": "markdown",
      "source": [
        "### **6-2. SHA-256**\n",
        "* SHA 알고리즘의 한 종류로 256비트로 구성되어 64자리 문자열을 반환\n",
        "* SHA-2 계열 중 하나이며 블록체인에서 가장 많이 채택하여 사용"
      ],
      "metadata": {
        "id": "AVqd_cb8fzeF"
      }
    },
    {
      "cell_type": "code",
      "source": [
        "import hashlib\n",
        "\n",
        "data = 'test'.encode()\n",
        "print(data)\n",
        "hash_object = hashlib.sha256()\n",
        "print(hash_object)\n",
        "hash_object.update(data)\n",
        "hex_dig = hash_object.hexdigest()\n",
        "print(hash_object.hexdigest()) # 16진수\n",
        "print(int(hex_dig, 16)) # 10진수"
      ],
      "metadata": {
        "colab": {
          "base_uri": "https://localhost:8080/"
        },
        "id": "bl27RfI0gHVu",
        "outputId": "907af336-7ba4-49bd-b5ba-86e28717dfef"
      },
      "execution_count": null,
      "outputs": [
        {
          "output_type": "stream",
          "name": "stdout",
          "text": [
            "b'test'\n",
            "<sha256 HASH object @ 0x7fae64702030>\n",
            "9f86d081884c7d659a2feaa0c55ad015a3bf4f1b2b0b822cd15d6c15b0f00a08\n",
            "72155939486846849509759369733266486982821795810448245423168957390607644363272\n"
          ]
        }
      ]
    },
    {
      "cell_type": "markdown",
      "source": [
        "### **문제.**\n",
        "Chaining 기법을 적용한 해쉬 테이블 코드에 키 생성 함수 sha256 해쉬 알고리즘을 사용하도록 변경해보자.\n",
        "1. 해쉬 함수 : key % 8\n",
        "2. 해쉬 키 생성 : sha256(data)"
      ],
      "metadata": {
        "id": "Vb0kqH8ygdnJ"
      }
    },
    {
      "cell_type": "code",
      "source": [
        "import hashlib\n",
        "\n",
        "hash_table = list([0 for i in range(8)])\n",
        "\n",
        "def get_key(data):\n",
        "  hash_object = hashlib.sha256()\n",
        "  hash_object.update(data.encode())\n",
        "  hex_dig = hash_object.hexdigest()\n",
        "  return int(hex_dig, 16)\n",
        "\n",
        "def hash_function(key):\n",
        "  return key % 8\n",
        "\n",
        "def save_data(data, value):\n",
        "  index_key = get_key(data)\n",
        "  hash_address = hash_function(index_key)\n",
        "  if hash_table[hash_address] != 0:\n",
        "    for index in range(len(hash_table[hash_address])):\n",
        "      if hash_table[hash_address][index][0] == index_key:\n",
        "        hash_table[hash_address][index][1] = value\n",
        "        return\n",
        "    hash_table[hash_address].append([index_key, value])\n",
        "  else:\n",
        "    hash_table[hash_address] = [[index_key, value]]\n",
        "\n",
        "\n",
        "def read_data(data):\n",
        "  index_key = get_key(data)\n",
        "  hash_address = hash_function(index_key)\n",
        "  if hash_table[hash_address] != 0:\n",
        "    for index in range(len(hash_table[hash_address])):\n",
        "      if hash_table[hash_address][index][0] == index_key:\n",
        "        return hash_table[hash_address][index][1]\n",
        "  else:\n",
        "    return None"
      ],
      "metadata": {
        "id": "Y0KewxrohbyD"
      },
      "execution_count": null,
      "outputs": []
    },
    {
      "cell_type": "code",
      "source": [
        "save_data('Apple', '010-1111-1111')\n",
        "save_data('Banana', '010-2222-2222')\n",
        "save_data('Orange', '010-3333-3333')\n",
        "save_data('Melon', '010-4444-4444')\n",
        "save_data('Cherry', '010-5555-5555')\n",
        "save_data('Avocado', '010-6666-6666')\n",
        "save_data('Watermelon', '010-7777-7777')"
      ],
      "metadata": {
        "id": "Lgo644euiDIy"
      },
      "execution_count": null,
      "outputs": []
    },
    {
      "cell_type": "code",
      "source": [
        "print(read_data('Melon'))"
      ],
      "metadata": {
        "colab": {
          "base_uri": "https://localhost:8080/"
        },
        "id": "7jE8mAeMlYJA",
        "outputId": "f672920d-b708-44a1-f841-0b07f1dbbe8b"
      },
      "execution_count": null,
      "outputs": [
        {
          "output_type": "stream",
          "name": "stdout",
          "text": [
            "010-4444-4444\n"
          ]
        }
      ]
    }
  ]
}