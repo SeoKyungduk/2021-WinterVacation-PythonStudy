{
  "nbformat": 4,
  "nbformat_minor": 0,
  "metadata": {
    "colab": {
      "name": "31_힙.ipynb",
      "provenance": [],
      "collapsed_sections": []
    },
    "kernelspec": {
      "name": "python3",
      "display_name": "Python 3"
    },
    "language_info": {
      "name": "python"
    }
  },
  "cells": [
    {
      "cell_type": "markdown",
      "source": [
        "# **1. 힙(Heap)**"
      ],
      "metadata": {
        "id": "M3fd3_AwWuX8"
      }
    },
    {
      "cell_type": "markdown",
      "source": [
        "### **1-1. 힙이란?**\n",
        "* 데이터에서 최대값과 최소값을 빠르게 찾기 위해 고안된 완전 이진 트리(Complete Binary Tree)\n",
        "* 완전 이진 트리 : 노드를 삽입할 때 최하단 왼쪽 노드부터 차례대로 삽입하는 트리"
      ],
      "metadata": {
        "id": "PIb2uAtYW2Be"
      }
    },
    {
      "cell_type": "markdown",
      "source": [
        "### **1-2. 힙을 사용하는 이유**\n",
        "* 배열에 데이터를 넣고 최대값, 최소값을 찾으려면 0(n)이 걸림\n",
        "* 힙에 데이터를 넣고 최대값, 최소값을 찾으면 $O(log n)$이 걸림\n",
        "* 우선순위 큐와 같이 최대값 또는 최소값을 빠르게 찾아야 하는 자료구조 및 알고리즘 구현 등에 활용됨"
      ],
      "metadata": {
        "id": "R79V_mIMXM7V"
      }
    },
    {
      "cell_type": "markdown",
      "source": [
        "# **2. 힙의 구조**"
      ],
      "metadata": {
        "id": "N6_Urb6JXmmo"
      }
    },
    {
      "cell_type": "markdown",
      "source": [
        "* 힙은 최대값을 구하기 위한 구조(최대 힙, Max Heep)와, 최소값을 구하기 위한 구조(최소 힙, Min Heap)로 분류할 수 있음\n",
        "* 힙은 아래와 같이 두 가지 조건을 가지고 있는 자료구조\n",
        "  1. 각노드의 값은 해당 노드의 자식 노드가 가진 값보다 크거나 같다.(최대 힙의 경우)\n",
        "  2. 완전 이진 트리 형태를 가짐"
      ],
      "metadata": {
        "id": "msue0yJHYAeS"
      }
    },
    {
      "cell_type": "markdown",
      "source": [
        "### **2-1. 힙과 이진 탐색 트리의 공통점과 차이점**\n",
        "* 공통점 : 힙과 이진 탐색 트리는 모두 이진 트리임\n",
        "* 차이점\n",
        "  1. 힙은 각 노드의 값이 자식 노드보다 크거나 같음\n",
        "  2. 인진 탐색 트리는 왼쪽 자식 노드의 값이 가장 작고, 그 다음 부모 노드, 그 다음 오른쪽 자식 노드 값이 가장 큼\n",
        "  3. 힙은 이진 탐색 트리의 조건인 자식 노드에서 작은 값은 왼쪽, 큰 값은 오른쪽이라는 조건이 없음\n",
        "    * 힙의 왼쪽 및 오른쪽 자식 노드의 값은 오른쪽이 클수도 있고, 왼쪽이 클수도 있음\n",
        "\n",
        "> 이진 탐색 트리는 탐색을 위한 구조, 힙은 최대/최소값 검색을 위한 구조 중 하나임"
      ],
      "metadata": {
        "id": "eJtmFjeAYgSg"
      }
    },
    {
      "cell_type": "markdown",
      "source": [
        "# **3. 힙의 동작**"
      ],
      "metadata": {
        "id": "8etUh3qPZl5g"
      }
    },
    {
      "cell_type": "markdown",
      "source": [
        "### **3-1. 힙에 데이터 삽입하기**\n",
        "* 힙은 완전 이진 트리이므로, 삽입할 노드는 기본적으로 왼쪽 최하단부 노드부터 채워지는 형태로 삽입\n",
        "* 채워진 노드 위치에서 부모 노드보다 값이 클 경우, 부모 노드와 위치를 바꿔주는 작업을 반복함(swap)"
      ],
      "metadata": {
        "id": "vw5Xrkn7ba2X"
      }
    },
    {
      "cell_type": "markdown",
      "source": [
        "# **4. 힙 구현**"
      ],
      "metadata": {
        "id": "-4eWTr1lbxz8"
      }
    },
    {
      "cell_type": "markdown",
      "source": [
        "* 일반적으로 힙 구현시 배열 자료구조를 활용함\n",
        "* 배열은 인덱스가 0번부터 시작하지만, 힙 구현의 편의를 위해 root 노드 인덱스 번호를 1로 지정하면, 구현이 좀 더 수월함"
      ],
      "metadata": {
        "id": "8lDuwRVZb7DF"
      }
    },
    {
      "cell_type": "markdown",
      "source": [
        "### **4-1. 힙에 데이터 삽입 구현(Max Heap 예)**"
      ],
      "metadata": {
        "id": "B3HM22SncFY2"
      }
    },
    {
      "cell_type": "code",
      "source": [
        "class Heap:\n",
        "  def __init__(self, data):\n",
        "    self.heap_array = list()\n",
        "    self.heap_array.append(None)\n",
        "    self.heap_array.append(data)"
      ],
      "metadata": {
        "id": "JYZzhpstcrD9"
      },
      "execution_count": 6,
      "outputs": []
    },
    {
      "cell_type": "code",
      "source": [
        "heap = Heap(1)\n",
        "heap.heap_array"
      ],
      "metadata": {
        "colab": {
          "base_uri": "https://localhost:8080/"
        },
        "id": "J_UCJfAkc-KP",
        "outputId": "2e234867-de07-4a04-a5a2-9842c92f83b0"
      },
      "execution_count": 7,
      "outputs": [
        {
          "output_type": "execute_result",
          "data": {
            "text/plain": [
              "[None, 1]"
            ]
          },
          "metadata": {},
          "execution_count": 7
        }
      ]
    },
    {
      "cell_type": "code",
      "source": [
        "# 인덱스 번호는 1번부터 시작하도록 설정\n",
        "class Heap:\n",
        "  def __init__(self, data):\n",
        "    self.heap_array = list()\n",
        "    self.heap_array.append(None)\n",
        "    self.heap_array.append(data)\n",
        "  \n",
        "  def insert(self, data):\n",
        "    if len(self.heap_array) == 0:\n",
        "      self.heap_array = list()\n",
        "      self.heap_array.append(None)\n",
        "      self.heap_array.append(data)\n",
        "      return True\n",
        "\n",
        "    self.heap_array.append(data) \n",
        "    return True"
      ],
      "metadata": {
        "id": "ooIe3wNbdBrZ"
      },
      "execution_count": 8,
      "outputs": []
    },
    {
      "cell_type": "code",
      "source": [
        "heap = Heap(15)\n",
        "heap.insert(10)\n",
        "heap.insert(8)\n",
        "heap.insert(5)\n",
        "heap.insert(4)\n",
        "heap.insert(20)\n",
        "heap.heap_array"
      ],
      "metadata": {
        "colab": {
          "base_uri": "https://localhost:8080/"
        },
        "id": "Qhliw01seo8U",
        "outputId": "1c16ff1f-6605-4260-d6ae-7c53f12f6a5d"
      },
      "execution_count": 9,
      "outputs": [
        {
          "output_type": "execute_result",
          "data": {
            "text/plain": [
              "[None, 15, 10, 8, 5, 4, 20]"
            ]
          },
          "metadata": {},
          "execution_count": 9
        }
      ]
    },
    {
      "cell_type": "code",
      "source": [
        "# 삽입한 노드가 부모 노드의 값보다 클 경우, 부모 노드와 삽입한 노드 위치를 바꿈\n",
        "# 삽입한 노드가 루트 노드가 되거나, 부모 노드보다 값이 작거나 같을 경우까지 반복\n",
        "\n",
        "class Heap:\n",
        "  def __init__(self, data):\n",
        "    self.heap_array = list()\n",
        "    self.heap_array.append(None)\n",
        "    self.heap_array.append(data)\n",
        "  \n",
        "  def move_up(self, inserted_idx):\n",
        "    if inserted_idx <= 1:\n",
        "      return False\n",
        "\n",
        "    parent_idx = inserted_idx // 2\n",
        "    if self.heap_array[inserted_idx] > self.heap_array[parent_idx]:\n",
        "      return True\n",
        "    else:\n",
        "      return False\n",
        "\n",
        "  def insert(self, data):\n",
        "    if len(self.heap_array) == 0:\n",
        "      self.heap_array = list()\n",
        "      self.heap_array.append(None)\n",
        "      self.heap_array.append(data)\n",
        "      return True\n",
        "\n",
        "    self.heap_array.append(data)\n",
        "    \n",
        "    inserted_idx = len(self.heap_array) - 1\n",
        "    \n",
        "    while self.move_up(inserted_idx):\n",
        "      parent_idx = inserted_idx // 2\n",
        "      self.heap_array[inserted_idx], self.heap_array[parent_idx] = self.heap_array[parent_idx], self.heap_array[inserted_idx]\n",
        "      inserted_idx = parent_idx\n",
        "    return True"
      ],
      "metadata": {
        "id": "hIiaZDGCeOCx"
      },
      "execution_count": 10,
      "outputs": []
    },
    {
      "cell_type": "code",
      "source": [
        "heap = Heap(15)\n",
        "heap.insert(10)\n",
        "heap.insert(8)\n",
        "heap.insert(5)\n",
        "heap.insert(4)\n",
        "heap.insert(20)\n",
        "heap.heap_array"
      ],
      "metadata": {
        "colab": {
          "base_uri": "https://localhost:8080/"
        },
        "id": "3LTN_BMWpBqX",
        "outputId": "232f1e8b-a9b6-4f26-f78a-d582015d38e6"
      },
      "execution_count": 11,
      "outputs": [
        {
          "output_type": "execute_result",
          "data": {
            "text/plain": [
              "[None, 20, 10, 15, 5, 4, 8]"
            ]
          },
          "metadata": {},
          "execution_count": 11
        }
      ]
    },
    {
      "cell_type": "markdown",
      "source": [
        "### **4-2. 힙에 데이터 삭제 구현(Max Heap 예)**\n",
        "* 보통 삭제는 최상단 노드(root 노드)를 삭제하는 것이 일반적임\n",
        "* 힙의 용도는 최대값 또는 최소값을 root 노드에 놓아서, 최대값과 최소값을 바로 꺼내 쓸 수 있도록 하는 것"
      ],
      "metadata": {
        "id": "8At83f0tpp3n"
      }
    },
    {
      "cell_type": "code",
      "source": [
        "class Heap:\n",
        "  def __init__(self, data):\n",
        "    self.heap_array = list()\n",
        "    self.heap_array.append(None)\n",
        "    self.heap_array.append(data)\n",
        "  \n",
        "  def move_up(self, inserted_idx):\n",
        "    if inserted_idx <= 1:\n",
        "      return False\n",
        "\n",
        "    parent_idx = inserted_idx // 2\n",
        "    if self.heap_array[inserted_idx] > self.heap_array[parent_idx]:\n",
        "      return True\n",
        "    else:\n",
        "      return False\n",
        "\n",
        "  def insert(self, data):\n",
        "    if len(self.heap_array) == 0:\n",
        "      self.heap_array = list()\n",
        "      self.heap_array.append(None)\n",
        "      self.heap_array.append(data)\n",
        "      return True\n",
        "\n",
        "    self.heap_array.append(data)\n",
        "    \n",
        "    inserted_idx = len(self.heap_array) - 1\n",
        "    \n",
        "    while self.move_up(inserted_idx):\n",
        "      parent_idx = inserted_idx // 2\n",
        "      self.heap_array[inserted_idx], self.heap_array[parent_idx] = self.heap_array[parent_idx], self.heap_array[inserted_idx]\n",
        "      inserted_idx = parent_idx\n",
        "    return True\n",
        "\n",
        "  def pop(self):\n",
        "    if len(self.heap_array) <= 1:\n",
        "      return None\n",
        "    returned_data = self.heap_array[1]\n",
        "    return returned_data"
      ],
      "metadata": {
        "id": "P3zhy6rmq0uY"
      },
      "execution_count": 12,
      "outputs": []
    },
    {
      "cell_type": "code",
      "source": [
        "heap = Heap(15)\n",
        "heap.insert(10)\n",
        "heap.insert(8)\n",
        "heap.insert(5)\n",
        "heap.insert(4)\n",
        "heap.insert(20)\n",
        "heap.heap_array"
      ],
      "metadata": {
        "colab": {
          "base_uri": "https://localhost:8080/"
        },
        "id": "fNgZ8Mawq82p",
        "outputId": "11c92308-097a-465f-b0c0-5720417fc35a"
      },
      "execution_count": 13,
      "outputs": [
        {
          "output_type": "execute_result",
          "data": {
            "text/plain": [
              "[None, 20, 10, 15, 5, 4, 8]"
            ]
          },
          "metadata": {},
          "execution_count": 13
        }
      ]
    },
    {
      "cell_type": "code",
      "source": [
        "heap.pop()"
      ],
      "metadata": {
        "colab": {
          "base_uri": "https://localhost:8080/"
        },
        "id": "D8iSJXzpsbNg",
        "outputId": "8f6b7c99-f6f8-4f4d-bcef-0fd4427e0b0a"
      },
      "execution_count": 14,
      "outputs": [
        {
          "output_type": "execute_result",
          "data": {
            "text/plain": [
              "20"
            ]
          },
          "metadata": {},
          "execution_count": 14
        }
      ]
    },
    {
      "cell_type": "markdown",
      "source": [
        "* 상단의 데이터 삭제시, 가장 최하단부 왼쪽에 위치한 노드(일반적으로 가장 마지막에 추가한 노드)를 root 노드로 이동\n",
        "* root 노드의 값이 child node 보다 작을 경우, root 노드의 child node 중 가장 큰 값을 가진 노드와 root 노드 위치를 바꿔주는 작업을 반복함(swap)"
      ],
      "metadata": {
        "id": "J50cXUKksveC"
      }
    },
    {
      "cell_type": "markdown",
      "source": [
        "* 특정 노드의 관련 노드 위치 알아내기\n",
        "  - 부모 노드 인덱스 번호 = 자식 노드 인덱스 번호 // 2\n",
        "  - 왼쪽 자식 노드 인덱스 번호 = 부모 노드 인덱스 번호 * 2\n",
        "  - 오른쪽 자식 노드 인덱스 번호 = 부모 노드 인덱스 번호 * 2 + 1"
      ],
      "metadata": {
        "id": "08JxrB4_yHQ-"
      }
    },
    {
      "cell_type": "code",
      "source": [
        "class Heap:\n",
        "  def __init__(self, data):\n",
        "    self.heap_array = list()\n",
        "    self.heap_array.append(None)\n",
        "    self.heap_array.append(data)\n",
        "\n",
        "\n",
        "  def move_up(self, inserted_idx):\n",
        "    if inserted_idx <= 1:\n",
        "      return False\n",
        "    \n",
        "    parent_idx = inserted_idx // 2\n",
        "    if self.heap_array[inserted_idx] > self.heap_array[parent_idx]:\n",
        "      return True\n",
        "    else:\n",
        "      return False\n",
        "\n",
        "  def insert(self, data):\n",
        "    if len(self.heap_array) == 0:\n",
        "      self.heap_array = list()\n",
        "      self.heap_array.append(None)\n",
        "      self.heap_array.append(data)\n",
        "      return True\n",
        "    \n",
        "    self.heap_array.append(data)\n",
        "\n",
        "    inserted_idx = len(self.heap_array) - 1\n",
        "\n",
        "    while self.move_up(inserted_idx):\n",
        "      parent_idx = inserted_idx // 2\n",
        "      self.heap_array[inserted_idx], self.heap_array[parent_idx] = self.heap_array[parent_idx], self.heap_array[inserted_idx]\n",
        "      inserted_idx = parent_idx\n",
        "    return True\n",
        "\n",
        "  def move_down(self, poped_idx):\n",
        "    left_child_poped_idx = poped_idx * 2\n",
        "    right_child_poped_idx = poped_idx * 2 + 1\n",
        "\n",
        "    # 왼쪽 자식 노드가 없을 때\n",
        "    if left_child_poped_idx >= len(self.heap_array):\n",
        "      return False\n",
        "    # 오른쪽 자식 노드만 없을 때\n",
        "    elif right_child_poped_idx >= len(self.heap_array):\n",
        "      if self.heap_array[poped_idx] < self.heap_array[left_child_poped_idx]:\n",
        "        return True\n",
        "      else:\n",
        "        return False\n",
        "    # 왼쪽, 오른쪽 자식 노드 모두 있을 때\n",
        "    else:\n",
        "      if self.heap_array[left_child_poped_idx] > self.heap_array[right_child_poped_idx]:\n",
        "        if self.heap_array[poped_idx] < self.heap_array[left_child_poped_idx]:\n",
        "          return True\n",
        "        else:\n",
        "          return False\n",
        "      else:\n",
        "        if self.heap_array[poped_idx] < self.heap_array[right_child_poped_idx]:\n",
        "          return True\n",
        "        else:\n",
        "          return False\n",
        "\n",
        "  def pop(self):\n",
        "    if len(self.heap_array) <= 1:\n",
        "      return None\n",
        "    returned_data = self.heap_array[1]\n",
        "    self.heap_array[1] = self.heap_array[-1] # 마지막 데이터\n",
        "    del self.heap_array[-1]\n",
        "    poped_idx = 1\n",
        "\n",
        "    while self.move_down(poped_idx):\n",
        "      left_child_poped_idx = poped_idx * 2\n",
        "      right_child_poped_idx = poped_idx * 2 + 1\n",
        "\n",
        "      # 오른쪽 자식 노드만 없을 때\n",
        "      if right_child_poped_idx >= len(self.heap_array):\n",
        "        if self.heap_array[poped_idx] < self.heap_array[left_child_poped_idx]:\n",
        "          self.heap_array[poped_idx], self.heap_array[left_child_poped_idx] = self.heap_array[left_child_poped_idx], self.heap_array[poped_idx]\n",
        "          poped_idx = left_child_poped_idx \n",
        "      # 왼쪽 오른쪽 자식 노드 모두 있을 때\n",
        "      else:\n",
        "        if self.heap_array[left_child_poped_idx] > self.heap_array[right_child_poped_idx]:\n",
        "          if self.heap_array[poped_idx] < self.heap_array[left_child_poped_idx]:\n",
        "            self.heap_array[poped_idx], self.heap_array[left_child_poped_idx] = self.heap_array[left_child_poped_idx], self.heap_array[poped_idx]\n",
        "            poped_idx = left_child_poped_idx \n",
        "        else:\n",
        "          if self.heap_array[poped_idx] < self.heap_array[right_child_poped_idx]:\n",
        "            self.heap_array[poped_idx], self.heap_array[right_child_poped_idx] = self.heap_array[right_child_poped_idx], self.heap_array[poped_idx]\n",
        "            poped_idx = right_child_poped_idx \n",
        "    return returned_data"
      ],
      "metadata": {
        "id": "anL7QD8dwqdV"
      },
      "execution_count": 15,
      "outputs": []
    },
    {
      "cell_type": "code",
      "source": [
        "heap = Heap(15)\n",
        "heap.insert(10)\n",
        "heap.insert(8)\n",
        "heap.insert(5)\n",
        "heap.insert(4)\n",
        "heap.insert(20)\n",
        "heap.heap_array"
      ],
      "metadata": {
        "colab": {
          "base_uri": "https://localhost:8080/"
        },
        "id": "hwzSUej32L1t",
        "outputId": "cc55d590-7693-4623-a37e-8d696ed62e4c"
      },
      "execution_count": 16,
      "outputs": [
        {
          "output_type": "execute_result",
          "data": {
            "text/plain": [
              "[None, 20, 10, 15, 5, 4, 8]"
            ]
          },
          "metadata": {},
          "execution_count": 16
        }
      ]
    },
    {
      "cell_type": "code",
      "source": [
        "heap.pop()"
      ],
      "metadata": {
        "colab": {
          "base_uri": "https://localhost:8080/"
        },
        "id": "vFXJc7Rw2eAP",
        "outputId": "d9f8abf5-1c81-4f3b-ee90-759776a153e9"
      },
      "execution_count": 17,
      "outputs": [
        {
          "output_type": "execute_result",
          "data": {
            "text/plain": [
              "20"
            ]
          },
          "metadata": {},
          "execution_count": 17
        }
      ]
    },
    {
      "cell_type": "code",
      "source": [
        "heap.pop()"
      ],
      "metadata": {
        "id": "Zwuxbxuh2fYV",
        "colab": {
          "base_uri": "https://localhost:8080/"
        },
        "outputId": "4c473974-6665-4269-cd8f-39390d3d749b"
      },
      "execution_count": 18,
      "outputs": [
        {
          "output_type": "execute_result",
          "data": {
            "text/plain": [
              "15"
            ]
          },
          "metadata": {},
          "execution_count": 18
        }
      ]
    },
    {
      "cell_type": "code",
      "source": [
        "heap.pop()"
      ],
      "metadata": {
        "colab": {
          "base_uri": "https://localhost:8080/"
        },
        "id": "gQXfMp7MZbLR",
        "outputId": "4a0aafd5-3a0e-49ab-ec1e-47932238406a"
      },
      "execution_count": 19,
      "outputs": [
        {
          "output_type": "execute_result",
          "data": {
            "text/plain": [
              "10"
            ]
          },
          "metadata": {},
          "execution_count": 19
        }
      ]
    },
    {
      "cell_type": "code",
      "source": [
        ""
      ],
      "metadata": {
        "id": "tMVhdO63Zbea"
      },
      "execution_count": null,
      "outputs": []
    }
  ]
}