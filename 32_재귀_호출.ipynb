{
  "nbformat": 4,
  "nbformat_minor": 0,
  "metadata": {
    "colab": {
      "name": "32_재귀 호출.ipynb",
      "provenance": [],
      "collapsed_sections": []
    },
    "kernelspec": {
      "name": "python3",
      "display_name": "Python 3"
    },
    "language_info": {
      "name": "python"
    }
  },
  "cells": [
    {
      "cell_type": "markdown",
      "source": [
        "# **1. 재귀 호출(recursive call)**"
      ],
      "metadata": {
        "id": "gXiSYzxHd6jq"
      }
    },
    {
      "cell_type": "markdown",
      "source": [
        "* 함수 안에서 동일한 함수를 호출하는 형태\n",
        "* 여러 알고리즘, 고급 정렬 알고리즘 작성시 자주 사용됨"
      ],
      "metadata": {
        "id": "54AcNbtheI9x"
      }
    },
    {
      "cell_type": "markdown",
      "source": [
        "### **1-1. 재귀 호출 분석**\n",
        "* 간단한 경우\n",
        "  - 2! = 1 * 2\n",
        "  - 3! = 1 * 2 * 3\n",
        "  - 4! = 1 * 2 * 3 * 4 = 4 * 3!\n",
        "* 규칙이 생김 : n! = n * (n-1)!\n",
        "  1. 함수를 만듬\n",
        "  2. 함수(n)은 n > 1 이면 return n X 함수(n-1)\n",
        "  3. 함수(n)은 n = 1 이면 return n\n",
        "* 검증\n",
        "  1. 2!\n",
        "    - 함수(2) 이면 2 > 1 이므로 2 * 함수(1)\n",
        "    - 함수(1)은 1이므로 return 2 * 1, 답은 2\n",
        "  2. 3!\n",
        "    - 함수(3) 이면 3 > 1 이므로 3 * 함수(2)\n",
        "    - 함수(2)는 결국 1번ㄴ에 의해 2! 이므로 return 2 * 1 = 2\n",
        "    - 3 * 함수(2) = 3 * 2 = 3 * 2 * 1, 답은 6\n",
        "  3. 4!\n",
        "    - 함수(4) 이면 4 > 1 이므로 4 * 함수(3)\n",
        "    - 함수(3)은 결국 2번에 의해 3 * 2 * 1 = 6\n",
        "    - 4 * 함수(3) = 4 * 6, 답 24"
      ],
      "metadata": {
        "id": "XaIDnEV-eu0-"
      }
    },
    {
      "cell_type": "code",
      "source": [
        "# 위 분석을 코드로 표현\n",
        "def factorial(num):\n",
        "  if num > 1:\n",
        "    return num * factorial(num - 1)\n",
        "  else:\n",
        "    return num"
      ],
      "metadata": {
        "id": "o2BJxlsse0tD"
      },
      "execution_count": 14,
      "outputs": []
    },
    {
      "cell_type": "code",
      "source": [
        "for num in range(5):\n",
        "  print(factorial(num))"
      ],
      "metadata": {
        "colab": {
          "base_uri": "https://localhost:8080/"
        },
        "id": "m8RNsNKvhG9w",
        "outputId": "0f7e142a-c05b-4c3d-eb1b-0ae86b791bd8"
      },
      "execution_count": 15,
      "outputs": [
        {
          "output_type": "stream",
          "name": "stdout",
          "text": [
            "0\n",
            "1\n",
            "2\n",
            "6\n",
            "24\n"
          ]
        }
      ]
    },
    {
      "cell_type": "markdown",
      "source": [
        "### **1-2. 재귀 호출의 시간 복잡도**\n",
        "* factorial(n)은 n-1 번의 factorial() 함수를 호출해서 곱셈을 함\n",
        "  - n-1번 반복문을 호출한 것과 동일\n",
        "  - factorial() 함수를 호출할 때마다 지역변수 n이 생성됨\n",
        "* 시간 복잡도는 0(n-1)이므로 0(n)"
      ],
      "metadata": {
        "id": "QCp1RWHqhS9c"
      }
    },
    {
      "cell_type": "markdown",
      "source": [
        "### **1-3. 재귀 호출의 일반적인 형태**\n",
        "\n",
        "형태 1.\n",
        "```\n",
        "def function(입력):\n",
        "  if 입력 > 일정값:\n",
        "    return function(입력 - 1)\n",
        "  else:\n",
        "    return 일정값, 입력값, 또는 특정값\n",
        "```\n",
        "\n",
        "형태 2.\n",
        "```\n",
        "def function(입력):\n",
        "  if 입력 <= 일정값:\n",
        "    return 일정값, 입력값 또는 특정값\n",
        "  function(입력보다 작은 값)\n",
        "  return 결과값\n",
        "```"
      ],
      "metadata": {
        "id": "woylvEe3kr5n"
      }
    },
    {
      "cell_type": "code",
      "source": [
        "def factorial(num):\n",
        "  if num <= 1:\n",
        "    return num\n",
        "  return num * factorial(num - 1)"
      ],
      "metadata": {
        "id": "Af3xEPKWljFp"
      },
      "execution_count": 16,
      "outputs": []
    },
    {
      "cell_type": "code",
      "source": [
        "for num in range(10):\n",
        "  print(factorial(num))"
      ],
      "metadata": {
        "colab": {
          "base_uri": "https://localhost:8080/"
        },
        "id": "oe2N0eOql3ts",
        "outputId": "869e2587-1bb1-4a2f-92d0-f6eee44294a1"
      },
      "execution_count": 17,
      "outputs": [
        {
          "output_type": "stream",
          "name": "stdout",
          "text": [
            "0\n",
            "1\n",
            "2\n",
            "6\n",
            "24\n",
            "120\n",
            "720\n",
            "5040\n",
            "40320\n",
            "362880\n"
          ]
        }
      ]
    },
    {
      "cell_type": "markdown",
      "source": [
        "### **1-4. 재귀 호출의 전형적인 예**\n",
        "* 함수는 내부적으로 스택처럼 관리\n",
        "* [코드분석]( http://pythontutor.com/live.html#code=%23%20factorial%20%ED%95%A8%EC%88%98%20%EC%95%88%EC%97%90%EC%84%9C%20factorial%20%ED%95%A8%EC%88%98%EB%A5%BC%20%ED%98%B8%EC%B6%9C%0Adef%20factorial%28num%29%3A%0A%20%20%20%20if%20num%20%3E%201%3A%0A%20%20%20%20%20%20%20%20return%20num%20*%20factorial%28num%20-%201%29%0A%20%20%20%20else%3A%0A%20%20%20%20%20%20%20%20return%20num%0A%0Afactorial%285%29&cumulative=false&curInstr=22&heapPrimitives=false&mode=display&origin=opt-live.js&py=3&rawInputLstJSON=%5B%5D&textReferences=false)\n",
        "\n",
        "> 파이썬에서 재귀 함수는 깊이가(한 번에 호출되는) 1000회 이하가 되어야 함"
      ],
      "metadata": {
        "id": "I_cC7cbpl7Cg"
      }
    },
    {
      "cell_type": "markdown",
      "source": [
        "### **연습 문제**\n",
        "다음 함수를 재귀 함수를 활용해서 1부터 num까지의 곱이 출력되도록 만들어보자\n",
        "\n",
        "```\n",
        "def multiple(data):\n",
        "  if data <= 1:\n",
        "    return data\n",
        "\n",
        "  return ...\n",
        "\n",
        "multiple(10)\n",
        "```"
      ],
      "metadata": {
        "id": "h5si5hHioHdd"
      }
    },
    {
      "cell_type": "code",
      "source": [
        "def multiple(num):\n",
        "  return_value = 1\n",
        "  for index in range(1, num + 1):\n",
        "    return_value = return_value * index\n",
        "  return return_value"
      ],
      "metadata": {
        "id": "nKV1k64Gtotd"
      },
      "execution_count": 18,
      "outputs": []
    },
    {
      "cell_type": "code",
      "source": [
        "multiple(4)"
      ],
      "metadata": {
        "colab": {
          "base_uri": "https://localhost:8080/"
        },
        "id": "OyZhtq1Ut6IA",
        "outputId": "608a8c59-9595-41cb-c5dc-9b7ea6df3911"
      },
      "execution_count": 19,
      "outputs": [
        {
          "output_type": "execute_result",
          "data": {
            "text/plain": [
              "24"
            ]
          },
          "metadata": {},
          "execution_count": 19
        }
      ]
    },
    {
      "cell_type": "code",
      "source": [
        "def multiple(num):\n",
        "  if num <= 1:\n",
        "    return num\n",
        "  return num * multiple(num - 1)"
      ],
      "metadata": {
        "id": "-awZcJtpt8qN"
      },
      "execution_count": 20,
      "outputs": []
    },
    {
      "cell_type": "code",
      "source": [
        "multiple(4)"
      ],
      "metadata": {
        "colab": {
          "base_uri": "https://localhost:8080/"
        },
        "id": "GJPLg19WuPIZ",
        "outputId": "b6b719d7-4b09-410d-c5c1-e9497feead87"
      },
      "execution_count": 21,
      "outputs": [
        {
          "output_type": "execute_result",
          "data": {
            "text/plain": [
              "24"
            ]
          },
          "metadata": {},
          "execution_count": 21
        }
      ]
    },
    {
      "cell_type": "markdown",
      "source": [
        "### **문제. 숫자가 들어 있는 리스트가 주어졌을 때, 리스트의 합을 리턴하는 함수를 만들어보자**\n",
        "* 재귀함수를 사용\n",
        "* 임의의 값으로 리스트 만들기\n",
        "```\n",
        "import random\n",
        "data = random.sample(range(100), 10)\n",
        "```"
      ],
      "metadata": {
        "id": "VMsBBjKcuQQk"
      }
    },
    {
      "cell_type": "code",
      "source": [
        "import random\n",
        "data = random.sample(range(100), 10)\n",
        "data"
      ],
      "metadata": {
        "colab": {
          "base_uri": "https://localhost:8080/"
        },
        "id": "0v3zvN66wPSx",
        "outputId": "3fe69539-6ac7-46d6-b9e1-d217f4cc1c3f"
      },
      "execution_count": 31,
      "outputs": [
        {
          "output_type": "execute_result",
          "data": {
            "text/plain": [
              "[49, 57, 46, 17, 0, 74, 41, 11, 79, 96]"
            ]
          },
          "metadata": {},
          "execution_count": 31
        }
      ]
    },
    {
      "cell_type": "code",
      "source": [
        "def sum_list(data):\n",
        "  if len(data) <= 1:\n",
        "    return data[0]\n",
        "  return data[0] + sum_list(data[1:])"
      ],
      "metadata": {
        "id": "tHdNpY8pytNj"
      },
      "execution_count": 32,
      "outputs": []
    },
    {
      "cell_type": "code",
      "source": [
        "sum_list(data)"
      ],
      "metadata": {
        "colab": {
          "base_uri": "https://localhost:8080/"
        },
        "id": "WgLcTv7Py0U7",
        "outputId": "2ac3755e-4174-4ff6-e311-c60f66622e98"
      },
      "execution_count": 33,
      "outputs": [
        {
          "output_type": "execute_result",
          "data": {
            "text/plain": [
              "470"
            ]
          },
          "metadata": {},
          "execution_count": 33
        }
      ]
    },
    {
      "cell_type": "markdown",
      "source": [
        "### **문제. 회문은 순서를 거꾸로 읽어도 제대로 읽은 것과 같은 단어와 문장을 의미합니다. 회문을 판별할 수 있는 함수를 리스트 슬라이싱을 활용하여 만들어보자.**\n",
        "* 재귀함수를 사용\n",
        "* 회문이면 True, 회문이 아닐 경우 False를 반환"
      ],
      "metadata": {
        "id": "y1J5NrVTy1jP"
      }
    },
    {
      "cell_type": "code",
      "source": [
        "def palindrome(string):\n",
        "  if len(string) <= 1:\n",
        "    return True\n",
        "  \n",
        "  if string[0] == string[-1]:\n",
        "    return palindrome(string[1:-1])\n",
        "  else:\n",
        "    return False"
      ],
      "metadata": {
        "id": "SRElGeAM2I67"
      },
      "execution_count": 49,
      "outputs": []
    },
    {
      "cell_type": "code",
      "source": [
        "palindrome('motor')"
      ],
      "metadata": {
        "colab": {
          "base_uri": "https://localhost:8080/"
        },
        "id": "AWXsTWiI4TKm",
        "outputId": "cb08fecd-6f0b-4e9a-c3fb-ea1ecda61128"
      },
      "execution_count": 50,
      "outputs": [
        {
          "output_type": "execute_result",
          "data": {
            "text/plain": [
              "False"
            ]
          },
          "metadata": {},
          "execution_count": 50
        }
      ]
    },
    {
      "cell_type": "code",
      "source": [
        "palindrome('wow')"
      ],
      "metadata": {
        "colab": {
          "base_uri": "https://localhost:8080/"
        },
        "id": "To7YIlkJ4VwJ",
        "outputId": "abff2027-7840-4f81-9850-de9550155270"
      },
      "execution_count": 51,
      "outputs": [
        {
          "output_type": "execute_result",
          "data": {
            "text/plain": [
              "True"
            ]
          },
          "metadata": {},
          "execution_count": 51
        }
      ]
    },
    {
      "cell_type": "markdown",
      "source": [
        "### **문제. 정수 n을 입력받아 아래와 같이 처리하는 프로그램을 만들어보자.**\n",
        "1. n이 홀수면 3 * n + 1을 함\n",
        "2. n이 짝수면 n을 2로 나눔\n",
        "3. 이렇게 계속 진행해서 n이 결국 1이 될 때까지 1과 2의 과정을 반복함\n",
        "\n",
        "```\n",
        "3\n",
        "10\n",
        "5\n",
        "16\n",
        "8\n",
        "4\n",
        "2\n",
        "1\n",
        "```"
      ],
      "metadata": {
        "id": "uhdn8SQg4jtQ"
      }
    },
    {
      "cell_type": "code",
      "source": [
        "def func(n):\n",
        "  print(n)\n",
        "  if n == 1:\n",
        "    return n\n",
        "\n",
        "  if n % 2 == 1:\n",
        "    return (func((3 * n) + 1))\n",
        "  else:\n",
        "    return (func(int(n / 2)))"
      ],
      "metadata": {
        "id": "ImJBBF3L5ygt"
      },
      "execution_count": 52,
      "outputs": []
    },
    {
      "cell_type": "code",
      "source": [
        "func(3)"
      ],
      "metadata": {
        "colab": {
          "base_uri": "https://localhost:8080/"
        },
        "id": "DWN87cMV_ScZ",
        "outputId": "04b79945-3065-4490-8a32-606ab4351b9c"
      },
      "execution_count": 53,
      "outputs": [
        {
          "output_type": "stream",
          "name": "stdout",
          "text": [
            "3\n",
            "10\n",
            "5\n",
            "16\n",
            "8\n",
            "4\n",
            "2\n",
            "1\n"
          ]
        },
        {
          "output_type": "execute_result",
          "data": {
            "text/plain": [
              "1"
            ]
          },
          "metadata": {},
          "execution_count": 53
        }
      ]
    },
    {
      "cell_type": "markdown",
      "source": [
        "### **앞으로 공부해야 할 것들**"
      ],
      "metadata": {
        "id": "jFljgh_l_VyT"
      }
    },
    {
      "cell_type": "markdown",
      "source": [
        "* 퀵 정렬\n",
        "* 병합 정렬\n",
        "\n",
        "* 이진 탐색\n",
        "* 순차 탐색\n",
        "* 너비 우선 탐색\n",
        "* 깊이 우선 탐색\n",
        "\n",
        "* 탐욕 알고리즘\n",
        "* 최단 경로 알고리즘\n",
        "* 다익스트라 알고리즘"
      ],
      "metadata": {
        "id": "Vz21v36J_y4c"
      }
    },
    {
      "cell_type": "code",
      "source": [
        ""
      ],
      "metadata": {
        "id": "4heHFXlP_9EW"
      },
      "execution_count": null,
      "outputs": []
    }
  ]
}