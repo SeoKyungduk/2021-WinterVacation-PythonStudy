{
  "nbformat": 4,
  "nbformat_minor": 0,
  "metadata": {
    "colab": {
      "name": "28_시간 복잡도.ipynb",
      "provenance": [],
      "collapsed_sections": []
    },
    "kernelspec": {
      "name": "python3",
      "display_name": "Python 3"
    },
    "language_info": {
      "name": "python"
    }
  },
  "cells": [
    {
      "cell_type": "markdown",
      "source": [
        "# **1. 알고리즘 복잡도 표현방법**"
      ],
      "metadata": {
        "id": "rRZAUaGN3xbO"
      }
    },
    {
      "cell_type": "markdown",
      "source": [
        "### **1-1. 알고리즘 복잡도 계산이 필요한 이유**"
      ],
      "metadata": {
        "id": "BN2ryOIH35aO"
      }
    },
    {
      "cell_type": "markdown",
      "source": [
        "하나의 문제를 푸는 알고리즘은 다양할 수 있음\n",
        "* 정수의 절대값을 구하는 방법\n",
        "  * 방법 1 : 값이 음수인지 확인해서 0보다 작으면 음수일 때 -1을 곱하기\n",
        "  * 방법 2 : 정수값을 제곱한 값에 다시 루트를 씌우기\n",
        "\n",
        "> 다양한 알고리즘 중 어떤 알고리즘이 더 좋은지 분석하기 위해 복잡도를 정의하고 계산함"
      ],
      "metadata": {
        "id": "Se5QYGQ84Kar"
      }
    },
    {
      "cell_type": "markdown",
      "source": [
        "### **1-2. 알고리즘 복잡도 계산 항목**\n",
        "* 시간 복잡도 : 알고리즘 실행 속도\n",
        "* 공간 복잡도 : 알고리즘이 사용하는 메모리 사이즈\n",
        "\n",
        "> 다양한 알고리즘 중 어떤 알고리즘이 더 좋은지 분석하기 위해 복잡도를 정의하고 계산함"
      ],
      "metadata": {
        "id": "UVqQJ_gI4zzB"
      }
    },
    {
      "cell_type": "markdown",
      "source": [
        "### **1-3. 프로그램에서 시간 복잡도에 가장 영향을 많이 미치는 요소는 반복문**\n",
        "* 입력의 크기가 커지면 커질수록 반복문이 알고리즘 수행 시간을 지배함"
      ],
      "metadata": {
        "id": "vBqLa-417Awu"
      }
    },
    {
      "cell_type": "markdown",
      "source": [
        "### **1-4. 알고리즘 성능 표기법**\n",
        "* 오메가 표기법\n",
        "  * 알고리즘 최상의 실행 시간을 표기\n",
        "* 세타 표기법\n",
        "  * 알고리즘 평균 실행시간을 표기\n",
        "  * 가장 많이 일반적으로 사용함\n",
        "  * 아무리 최악의 상황이라도 이 정도의 성능은 보장함을 의미"
      ],
      "metadata": {
        "id": "Z9ErnaSXxm1Z"
      }
    },
    {
      "cell_type": "markdown",
      "source": [
        "### **1-5. 빅오 표기법**\n",
        "* 입력 n에 따라 결정되는 시간 복잡도 함수\n",
        "* O(1) < O($log n$) < O(n) < O(n$log n$) < O($n^2$) < O($2^n$) < O(n!)\n",
        "* 입력 n에 따라 시간 복잡도가 늘어날 수 있음\n",
        "\n",
        "<img src='https://t1.daumcdn.net/cfile/tistory/99EF1E395C7EB4B601'>"
      ],
      "metadata": {
        "id": "QODwKADayy40"
      }
    },
    {
      "cell_type": "markdown",
      "source": [
        "O(1) : input의 크기가 소요 시간에 영향이 없으며 반복문이 없으면 대체로 O(1)\n",
        "```\n",
        "def print_list(mylist):\n",
        "  print(mylist[0])\n",
        "```\n",
        "\n",
        "O($log n$) : up&down의 예, BST 자료구죠의 예, 매번 숫자를 제시할 때마다 경우의 수가 절반이 줄어들기 때문에 최악의 경우에도 빠르게 원하는 숫자를 찾아낼 수 있음\n",
        "```\n",
        "  def print_pot(n):\n",
        "    i = n\n",
        "    while i > 1:\n",
        "      print(i)\n",
        "      i = i / 2\n",
        "```\n",
        "\n",
        "O(n) : 선형 복잡도라고 부르며, 입력값이 증가함에 따라 시간 또한 같은 비율로 증가하는 것을 의미\n",
        "```\n",
        "  def print_each(mylist):\n",
        "    for i in range(len(mylist)):\n",
        "      print(mylist[i]))\n",
        "```\n",
        "O(n2) : 2차 복잡도라고 부르며, 입력값이 증가함에 따라 시간이 n의 제곱수의 비율로 증가하는 것\n",
        "```\n",
        "  def print_each2(mylist):\n",
        "    for i in range(len(mylist):\n",
        "      for j in range(len(mylist):\n",
        "        print(mylist[i], mylist[j])\n",
        "```\n",
        "\n",
        "O(n$log n$) : 로그 복잡도라고 부르며 입력값이 증가함에 따라 lon n의 제곱수의 비율로 증가하는 것을 의미\n",
        "```\n",
        "  def print_pot2(n):\n",
        "    for i in range(n):\n",
        "      j=1\n",
        "      while j<n:\n",
        "        print(i, j)\n",
        "          j=j*2\n",
        "```"
      ],
      "metadata": {
        "id": "m3b3h5uVy88w"
      }
    },
    {
      "cell_type": "markdown",
      "source": [
        "### **1-6. 실제 알고리즘을 예로 각 알고리즘 시간 복잡도와 빅오 표기법 알아보기**"
      ],
      "metadata": {
        "id": "U6fHE-tGzDA-"
      }
    },
    {
      "cell_type": "markdown",
      "source": [
        "### **1부터 n까지 합을 구하는 알고리즘**"
      ],
      "metadata": {
        "id": "ZOHmMdtizLt_"
      }
    },
    {
      "cell_type": "markdown",
      "source": [
        "알고리즘 1"
      ],
      "metadata": {
        "id": "d66geELzzN9g"
      }
    },
    {
      "cell_type": "code",
      "source": [
        "def sum_all(n):\n",
        "  total = 0\n",
        "  for num in range(1, n+1):\n",
        "    total += num\n",
        "  return total"
      ],
      "metadata": {
        "id": "m9SlIB8lzQD9"
      },
      "execution_count": null,
      "outputs": []
    },
    {
      "cell_type": "code",
      "source": [
        "sum_all(100) # O(n)"
      ],
      "metadata": {
        "colab": {
          "base_uri": "https://localhost:8080/"
        },
        "id": "7-JQ_JYUzRLX",
        "outputId": "34d9c4eb-db28-4a96-eb53-8f96bdf65098"
      },
      "execution_count": null,
      "outputs": [
        {
          "output_type": "execute_result",
          "data": {
            "text/plain": [
              "5050"
            ]
          },
          "metadata": {},
          "execution_count": 3
        }
      ]
    },
    {
      "cell_type": "markdown",
      "source": [
        "알고리즘 2\n",
        "\n",
        "<font size=5em>$\\frac { n (n + 1) }{ 2 }$</font>"
      ],
      "metadata": {
        "id": "ZT7gY9qpzSst"
      }
    },
    {
      "cell_type": "code",
      "source": [
        "def sum_all(n):\n",
        "  return int(n * (n+1) / 2)"
      ],
      "metadata": {
        "id": "iJIHf6rJzVHt"
      },
      "execution_count": null,
      "outputs": []
    },
    {
      "cell_type": "code",
      "source": [
        "sum_all(100) # O(1)"
      ],
      "metadata": {
        "colab": {
          "base_uri": "https://localhost:8080/"
        },
        "id": "J5LaUC3XzXRP",
        "outputId": "8586dfa0-65e8-4bce-e3e3-226b5eae7470"
      },
      "execution_count": null,
      "outputs": [
        {
          "output_type": "execute_result",
          "data": {
            "text/plain": [
              "5050"
            ]
          },
          "metadata": {},
          "execution_count": 5
        }
      ]
    },
    {
      "cell_type": "markdown",
      "source": [
        "> 이와 같이 동일한 문제를 푸는 알고리즘은 다양할 수 있음. 어떤 알고리즘이 보다 좋은지 객관적으로 비교하기 위해 빅오 표기법등의 시간 복잡도 계산법을 사용함"
      ],
      "metadata": {
        "id": "PQU2fgL1zYTF"
      }
    },
    {
      "cell_type": "markdown",
      "source": [
        "# **2. 프로그램 수행시간 측정 코드**"
      ],
      "metadata": {
        "id": "ruIuVbLQzaI7"
      }
    },
    {
      "cell_type": "code",
      "source": [
        "import time\n",
        "\n",
        "# 측정시간을 timestamp로 저장\n",
        "start_time = time.time()\n",
        "\n",
        "print(time.localtime(start_time))\n",
        "\n",
        "# 프로그램 작성 구간\n",
        "# 블라블라 ~~~\n",
        "\n",
        "end_time = time.time()\n",
        "print(time.localtime(end_time))\n",
        "print('총 프로그램 동작 시간 : ', end_time - start_time)"
      ],
      "metadata": {
        "colab": {
          "base_uri": "https://localhost:8080/"
        },
        "id": "9y4lvVgizcRr",
        "outputId": "c5eb9245-7875-4245-d27c-34e6d9a3beb5"
      },
      "execution_count": null,
      "outputs": [
        {
          "output_type": "stream",
          "name": "stdout",
          "text": [
            "time.struct_time(tm_year=2022, tm_mon=3, tm_mday=4, tm_hour=7, tm_min=21, tm_sec=13, tm_wday=4, tm_yday=63, tm_isdst=0)\n",
            "time.struct_time(tm_year=2022, tm_mon=3, tm_mday=4, tm_hour=7, tm_min=21, tm_sec=13, tm_wday=4, tm_yday=63, tm_isdst=0)\n",
            "총 프로그램 동작 시간 :  0.0013103485107421875\n"
          ]
        }
      ]
    },
    {
      "cell_type": "code",
      "source": [
        ""
      ],
      "metadata": {
        "id": "o5J85ApwzdVw"
      },
      "execution_count": null,
      "outputs": []
    }
  ]
}