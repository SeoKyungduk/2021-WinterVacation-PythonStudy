{
  "nbformat": 4,
  "nbformat_minor": 0,
  "metadata": {
    "colab": {
      "name": "12_사용자 정의 함수.ipynb",
      "provenance": [],
      "collapsed_sections": []
    },
    "kernelspec": {
      "name": "python3",
      "display_name": "Python 3"
    },
    "language_info": {
      "name": "python"
    }
  },
  "cells": [
    {
      "cell_type": "markdown",
      "source": [
        "# 1. 함수"
      ],
      "metadata": {
        "id": "SVxU50PW7LtM"
      }
    },
    {
      "cell_type": "markdown",
      "source": [
        "* 반복적으로 사용되는 가치 있는 부분을 묶어서 하나의 집합으로 만듬\n",
        "* 코드를 재활용하기 위한 목적"
      ],
      "metadata": {
        "id": "OsB1ixxS7SUH"
      }
    },
    {
      "cell_type": "markdown",
      "source": [
        "### **1-1. 이름만 있는 함수**\n",
        "```\n",
        "def 함수명():\n",
        "  함수가 호출되면 실행할 문장\n",
        "```"
      ],
      "metadata": {
        "id": "jcmaVJp08aHu"
      }
    },
    {
      "cell_type": "code",
      "source": [
        "def func1():\n",
        "  print(\"Hello Python!\")"
      ],
      "metadata": {
        "id": "Cq1-DD2q9NlR"
      },
      "execution_count": null,
      "outputs": []
    },
    {
      "cell_type": "code",
      "source": [
        "func1()\n",
        "func1()\n",
        "func1()"
      ],
      "metadata": {
        "colab": {
          "base_uri": "https://localhost:8080/"
        },
        "id": "YsPC7iqP9rwY",
        "outputId": "30ca8881-d627-44c4-8188-a237d2293e1c"
      },
      "execution_count": null,
      "outputs": [
        {
          "output_type": "stream",
          "name": "stdout",
          "text": [
            "Hello Python!\n",
            "Hello Python!\n",
            "Hello Python!\n"
          ]
        }
      ]
    },
    {
      "cell_type": "code",
      "source": [
        "for i in range(5):\n",
        "  func1()"
      ],
      "metadata": {
        "colab": {
          "base_uri": "https://localhost:8080/"
        },
        "id": "f82e7z7k9txw",
        "outputId": "71803c6a-df30-45e5-f35e-da00dee00afd"
      },
      "execution_count": null,
      "outputs": [
        {
          "output_type": "stream",
          "name": "stdout",
          "text": [
            "Hello Python!\n",
            "Hello Python!\n",
            "Hello Python!\n",
            "Hello Python!\n",
            "Hello Python!\n"
          ]
        }
      ]
    },
    {
      "cell_type": "markdown",
      "source": [
        "### **1-2. 매개변수가 있는 함수**\n",
        "```\n",
        "def 함수명(매개변수1, 매개변수2 ...):\n",
        "  함수가 호출되면 실행할 문장\n",
        "```"
      ],
      "metadata": {
        "id": "RteLSrCL-DVv"
      }
    },
    {
      "cell_type": "code",
      "source": [
        "def func2(num):\n",
        "  print(\"입력받은 숫자 : %d\" % num)"
      ],
      "metadata": {
        "id": "t2VOXK_y-ej1"
      },
      "execution_count": null,
      "outputs": []
    },
    {
      "cell_type": "code",
      "source": [
        "func2(10)\n",
        "func2(20)\n",
        "func2(30)"
      ],
      "metadata": {
        "colab": {
          "base_uri": "https://localhost:8080/"
        },
        "id": "MzY5LZwy-vAu",
        "outputId": "792c9510-5285-42f7-c16d-f256a247228e"
      },
      "execution_count": null,
      "outputs": [
        {
          "output_type": "stream",
          "name": "stdout",
          "text": [
            "입력받은 숫자 : 10\n",
            "입력받은 숫자 : 20\n",
            "입력받은 숫자 : 30\n"
          ]
        }
      ]
    },
    {
      "cell_type": "code",
      "source": [
        "def func3(start, end):\n",
        "  sum = 0\n",
        "  for i in range(start, end + 1, 1):\n",
        "    sum += i\n",
        "  print(start, \"부터\", end, '까지의 합은', sum)"
      ],
      "metadata": {
        "id": "8KZUy2Uv-1YF"
      },
      "execution_count": null,
      "outputs": []
    },
    {
      "cell_type": "code",
      "source": [
        "func3(1, 10)\n",
        "func3(1, 100)\n",
        "func3(5, 15)"
      ],
      "metadata": {
        "colab": {
          "base_uri": "https://localhost:8080/"
        },
        "id": "TeTfo5xS_nBu",
        "outputId": "c21e4c21-1d5d-40d9-c44c-a85f6f2e9bdc"
      },
      "execution_count": null,
      "outputs": [
        {
          "output_type": "stream",
          "name": "stdout",
          "text": [
            "1 부터 10 까지의 합은 55\n",
            "1 부터 100 까지의 합은 5050\n",
            "5 부터 15 까지의 합은 110\n"
          ]
        }
      ]
    },
    {
      "cell_type": "markdown",
      "source": [
        "### **1-3. 리턴값이 있는 함수**\n",
        "```\n",
        "def 함수명(매개변수1, 매개변수2 ...):\n",
        "  함수가 호출되면 실행할 문장\n",
        "  return 값\n",
        "```"
      ],
      "metadata": {
        "id": "0gYdaM9a_ocl"
      }
    },
    {
      "cell_type": "code",
      "source": [
        "def func4():\n",
        "  return \"🎁\""
      ],
      "metadata": {
        "id": "yizV4xfvAX9j"
      },
      "execution_count": null,
      "outputs": []
    },
    {
      "cell_type": "code",
      "source": [
        "print(func4())"
      ],
      "metadata": {
        "colab": {
          "base_uri": "https://localhost:8080/"
        },
        "id": "7d1_x5YwAheg",
        "outputId": "d8b5a276-f837-46d9-fe28-1a0969a7de15"
      },
      "execution_count": null,
      "outputs": [
        {
          "output_type": "stream",
          "name": "stdout",
          "text": [
            "🎁\n"
          ]
        }
      ]
    },
    {
      "cell_type": "code",
      "source": [
        "present = func4()\n",
        "print(present)"
      ],
      "metadata": {
        "colab": {
          "base_uri": "https://localhost:8080/"
        },
        "id": "lLqWgXmAA0Lf",
        "outputId": "35730cdd-d395-403b-e582-92d3af516b1b"
      },
      "execution_count": null,
      "outputs": [
        {
          "output_type": "stream",
          "name": "stdout",
          "text": [
            "🎁\n"
          ]
        }
      ]
    },
    {
      "cell_type": "code",
      "source": [
        "def func5(num1, num2):\n",
        "  return num1 + num2"
      ],
      "metadata": {
        "id": "tak4LBOzA92O"
      },
      "execution_count": null,
      "outputs": []
    },
    {
      "cell_type": "code",
      "source": [
        "print(func5(10, 5))\n",
        "\n",
        "result = func5(20, 10)\n",
        "print(result)"
      ],
      "metadata": {
        "colab": {
          "base_uri": "https://localhost:8080/"
        },
        "id": "bOJuS5kxBJfj",
        "outputId": "8e2faf93-c05a-4b31-ee4f-b321fe8a6213"
      },
      "execution_count": null,
      "outputs": [
        {
          "output_type": "stream",
          "name": "stdout",
          "text": [
            "15\n",
            "30\n"
          ]
        }
      ]
    },
    {
      "cell_type": "markdown",
      "source": [
        "### **1-4. 디폴트 매개변수**\n",
        "```\n",
        "def 함수명(매개변수1 = 값1, 매개변수2 = 값2 ...):\n",
        "  함수를 호출하면 실행할 문장\n",
        "  return 값\n",
        "```"
      ],
      "metadata": {
        "id": "699G33K-BMc3"
      }
    },
    {
      "cell_type": "code",
      "source": [
        "def func6(num1 = 0, num2 = 0):\n",
        "  return num1 + num2"
      ],
      "metadata": {
        "id": "b17uiR7TChZk"
      },
      "execution_count": null,
      "outputs": []
    },
    {
      "cell_type": "code",
      "source": [
        "print(func6(10, 5))\n",
        "print(func6())\n",
        "print(func6(10))"
      ],
      "metadata": {
        "colab": {
          "base_uri": "https://localhost:8080/"
        },
        "id": "PbQL5i4aCvk_",
        "outputId": "4870bcd8-06fe-466b-9622-2ae5e23e37f3"
      },
      "execution_count": null,
      "outputs": [
        {
          "output_type": "stream",
          "name": "stdout",
          "text": [
            "15\n",
            "0\n",
            "10\n"
          ]
        }
      ]
    },
    {
      "cell_type": "markdown",
      "source": [
        "### **1-5. 매개변수의 갯수가 가변적인 함수**\n",
        "```\n",
        "def 함수명(*매개변수):\n",
        "  함수가 호출되면 실행할 문장\n",
        "  return 값\n",
        "```\n",
        "> 매개변수는 함수안에서 튜플형태로 사용"
      ],
      "metadata": {
        "id": "2MafGcs5C0N_"
      }
    },
    {
      "cell_type": "code",
      "source": [
        "def func7(*args):\n",
        "  result = 0\n",
        "  for i in args:\n",
        "    result += i\n",
        "  return result"
      ],
      "metadata": {
        "id": "sMAC_AzuEDKk"
      },
      "execution_count": null,
      "outputs": []
    },
    {
      "cell_type": "code",
      "source": [
        "print(func7(10))\n",
        "print(func7(10, 30, 20, 70, 50))\n",
        "print(func7(5, 3, 8, 10, 13, 2, 4, 7, 9))"
      ],
      "metadata": {
        "colab": {
          "base_uri": "https://localhost:8080/"
        },
        "id": "s7a4tOMYEkiv",
        "outputId": "4f958320-bf17-40a8-a2c6-9fe32ad736e7"
      },
      "execution_count": null,
      "outputs": [
        {
          "output_type": "stream",
          "name": "stdout",
          "text": [
            "10\n",
            "180\n",
            "61\n"
          ]
        }
      ]
    },
    {
      "cell_type": "markdown",
      "source": [
        "### **1-6. 매개변수를 딕셔너리 구조로 전달받는 함수**\n",
        "```\n",
        "def 함수명(**매개변수):\n",
        "  함수가 호출되면 실행될 문장\n",
        "  return 값\n",
        "```"
      ],
      "metadata": {
        "id": "WPwvinLGEl_a"
      }
    },
    {
      "cell_type": "code",
      "source": [
        "def func8(**args):\n",
        "  return args"
      ],
      "metadata": {
        "id": "2RsyLvCLFLjy"
      },
      "execution_count": null,
      "outputs": []
    },
    {
      "cell_type": "code",
      "source": [
        "user = func8(userid = 'apple', name = '김사과', age = 20)\n",
        "print(user)"
      ],
      "metadata": {
        "colab": {
          "base_uri": "https://localhost:8080/"
        },
        "id": "rRpHcPgqF0XR",
        "outputId": "d9c4f68b-3016-444d-e111-185f0cb837f4"
      },
      "execution_count": null,
      "outputs": [
        {
          "output_type": "stream",
          "name": "stdout",
          "text": [
            "{'userid': 'apple', 'name': '김사과', 'age': 20}\n"
          ]
        }
      ]
    },
    {
      "cell_type": "markdown",
      "source": [
        "### **1-7. 리턴값이 여러개인 함수**\n",
        "```\n",
        "def 함수명(매개변수1, 매개변수2 ..):\n",
        "  함수가 호출되면 실행될 문장\n",
        "  return 값, 값\n",
        "```"
      ],
      "metadata": {
        "id": "YtWDGS0eGATS"
      }
    },
    {
      "cell_type": "code",
      "source": [
        "def func9(num1, num2):\n",
        "  return num1 + num2, num1 - num2, num1 * num2, num1 / num2"
      ],
      "metadata": {
        "id": "egEELiX0GfsJ"
      },
      "execution_count": null,
      "outputs": []
    },
    {
      "cell_type": "code",
      "source": [
        "result1, result2, result3, result4 = func9(10, 3)\n",
        "print(result1, result2, result3, result4)"
      ],
      "metadata": {
        "colab": {
          "base_uri": "https://localhost:8080/"
        },
        "id": "LtQTIk6sGwSU",
        "outputId": "5b691794-ed3e-47f6-e41a-c98354be1218"
      },
      "execution_count": null,
      "outputs": [
        {
          "output_type": "stream",
          "name": "stdout",
          "text": [
            "13 7 30 3.3333333333333335\n"
          ]
        }
      ]
    },
    {
      "cell_type": "markdown",
      "source": [
        "### 문제"
      ],
      "metadata": {
        "id": "JvUzWCN1G5Ei"
      }
    },
    {
      "cell_type": "markdown",
      "source": [
        "데이터 90, 80, 50, 100, 80을 매개변수로 전달해서 최대값, 최소값을 출력하는 함수를 만들어 활용해보자(단, return을 사용. 내장함수를 사용하지 않음)"
      ],
      "metadata": {
        "id": "01lf75D4J-hu"
      }
    },
    {
      "cell_type": "code",
      "source": [
        "def maxmin(*args):\n",
        "  max, min = args[0], args[0]\n",
        "  for i in args:\n",
        "    if max < i:\n",
        "      max = i\n",
        "\n",
        "    if min > i:\n",
        "      min = i\n",
        "  return max, min"
      ],
      "metadata": {
        "id": "MTCcgz2vNv8J"
      },
      "execution_count": null,
      "outputs": []
    },
    {
      "cell_type": "code",
      "source": [
        "max, min = maxmin(90, 80, 50, 100, 80)\n",
        "print(\"최대값 : \", max)\n",
        "print(\"최솟값 : \", min)"
      ],
      "metadata": {
        "colab": {
          "base_uri": "https://localhost:8080/"
        },
        "id": "BQO7cSUSPBIJ",
        "outputId": "288c632c-5475-4069-c707-4dd52b3d0559"
      },
      "execution_count": null,
      "outputs": [
        {
          "output_type": "stream",
          "name": "stdout",
          "text": [
            "최대값 :  100\n",
            "최솟값 :  50\n"
          ]
        }
      ]
    },
    {
      "cell_type": "code",
      "source": [
        "max, min = maxmin(5, 9, 10, 14, 21, 3, 1, 6)\n",
        "print(\"최대값 : \", max)\n",
        "print(\"최솟값 : \", min)"
      ],
      "metadata": {
        "colab": {
          "base_uri": "https://localhost:8080/"
        },
        "id": "O9GVXZ77QMvw",
        "outputId": "3d201111-80d2-4d8a-b141-c0fa82248ebb"
      },
      "execution_count": null,
      "outputs": [
        {
          "output_type": "stream",
          "name": "stdout",
          "text": [
            "최대값 :  21\n",
            "최솟값 :  1\n"
          ]
        }
      ]
    },
    {
      "cell_type": "code",
      "source": [
        ""
      ],
      "metadata": {
        "id": "VH0AAX2EQa4s"
      },
      "execution_count": null,
      "outputs": []
    }
  ]
}