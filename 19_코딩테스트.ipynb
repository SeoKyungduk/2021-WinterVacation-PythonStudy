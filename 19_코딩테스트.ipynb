{
  "nbformat": 4,
  "nbformat_minor": 0,
  "metadata": {
    "colab": {
      "name": "19_코딩테스트.ipynb",
      "provenance": [],
      "collapsed_sections": []
    },
    "kernelspec": {
      "name": "python3",
      "display_name": "Python 3"
    },
    "language_info": {
      "name": "python"
    }
  },
  "cells": [
    {
      "cell_type": "markdown",
      "source": [
        "# **1. 수 정렬하기**\n",
        "\n",
        "https://www.acmicpc.net/problem/2750"
      ],
      "metadata": {
        "id": "yefX1kv4lZIi"
      }
    },
    {
      "cell_type": "code",
      "source": [
        "n = int(input())\n",
        "\n",
        "data = list()\n",
        "\n",
        "for i in range(n):\n",
        "  data.append(int(input()))\n",
        "\n",
        "data.sort()\n",
        "\n",
        "for i in range(len(data)):\n",
        "  print(data[i])"
      ],
      "metadata": {
        "colab": {
          "base_uri": "https://localhost:8080/"
        },
        "id": "yNoT4BLtld-w",
        "outputId": "709b5b73-7a3e-404c-fa13-47d35e3c4485"
      },
      "execution_count": null,
      "outputs": [
        {
          "output_type": "stream",
          "name": "stdout",
          "text": [
            "5\n",
            "5\n",
            "4\n",
            "3\n",
            "2\n",
            "1\n",
            "1\n",
            "2\n",
            "3\n",
            "4\n",
            "5\n"
          ]
        }
      ]
    },
    {
      "cell_type": "markdown",
      "source": [
        "# **2. 음계**\n",
        "https://www.acmicpc.net/problem/2920"
      ],
      "metadata": {
        "id": "r1qT5llFlfst"
      }
    },
    {
      "cell_type": "code",
      "source": [
        "num = list(map(int, input().split(' ')))\n",
        "\n",
        "ascending = True\n",
        "descending = True\n",
        "\n",
        "for i in range(1, 8):\n",
        "  if num[i] > num[i - 1]:\n",
        "    descending = False\n",
        "  elif num[i] < num[i - 1]:\n",
        "    ascending = False\n",
        "  \n",
        "if ascending:\n",
        "  print('ascending')\n",
        "elif descending:\n",
        "  print('descending')\n",
        "else:\n",
        "  print('mixed')"
      ],
      "metadata": {
        "colab": {
          "base_uri": "https://localhost:8080/"
        },
        "id": "Jd4XL72NlxQL",
        "outputId": "2a648b60-5ff7-471c-8d49-9eda79436d56"
      },
      "execution_count": null,
      "outputs": [
        {
          "output_type": "stream",
          "name": "stdout",
          "text": [
            "1 2 3 4 5 6 7 8\n",
            "ascending\n"
          ]
        }
      ]
    },
    {
      "cell_type": "markdown",
      "source": [
        "# **3. 나이순 정렬**"
      ],
      "metadata": {
        "id": "CqR5XCJel3iV"
      }
    },
    {
      "cell_type": "markdown",
      "source": [
        "https://www.acmicpc.net/problem/10814"
      ],
      "metadata": {
        "id": "FzV2zZVRmNAo"
      }
    },
    {
      "cell_type": "code",
      "source": [
        "n = int(input())\n",
        "\n",
        "array = []\n",
        "\n",
        "for _ in range(n):\n",
        "  data = input().split(' ')\n",
        "  array.append((int(data[0]), data[1]))\n",
        "\n",
        "# print(array)\n",
        "\n",
        "# sorted(리스트, key=lambda) -> key에 제공된 값을 기준으로 정렬\n",
        "array = sorted(array, key=lambda x: x[0])\n",
        "\n",
        "for i in array:\n",
        "  print(i[0], i[1])"
      ],
      "metadata": {
        "colab": {
          "base_uri": "https://localhost:8080/"
        },
        "id": "5u1AjBkpmQ8u",
        "outputId": "9c1c759d-614d-4ea8-ed49-446326c2c1eb"
      },
      "execution_count": null,
      "outputs": [
        {
          "output_type": "stream",
          "name": "stdout",
          "text": [
            "3\n",
            "21 Junkyu\n",
            "21 Dohyun\n",
            "20 Sunyoung\n",
            "20 Sunyoung\n",
            "21 Junkyu\n",
            "21 Dohyun\n"
          ]
        }
      ]
    },
    {
      "cell_type": "markdown",
      "source": [
        "### **sort()**\n",
        "* 리스트의 메소드\n",
        "* 원래 목록의 영향"
      ],
      "metadata": {
        "id": "4BmgCWBYnPB3"
      }
    },
    {
      "cell_type": "code",
      "source": [
        "li = [1, 4, 4, 5, 2]\n",
        "li.sort()\n",
        "print(li)"
      ],
      "metadata": {
        "colab": {
          "base_uri": "https://localhost:8080/"
        },
        "id": "fi-FAvP9oPuG",
        "outputId": "12713c1c-fe66-45c1-fcb0-694df17b5c75"
      },
      "execution_count": null,
      "outputs": [
        {
          "output_type": "stream",
          "name": "stdout",
          "text": [
            "[1, 2, 4, 4, 5]\n"
          ]
        }
      ]
    },
    {
      "cell_type": "markdown",
      "source": [
        "### **sorted()**\n",
        "* 파이썬 표준 내장함수\n",
        "* 새로운 정렬 결과를 리턴, 원래 자료는 영향을 받지 않음"
      ],
      "metadata": {
        "id": "lOk9WKCLnpU8"
      }
    },
    {
      "cell_type": "code",
      "source": [
        "li = [1, 4, 3, 6, 2]\n",
        "result = sorted(li)\n",
        "print(li)\n",
        "print(result)"
      ],
      "metadata": {
        "colab": {
          "base_uri": "https://localhost:8080/"
        },
        "id": "jNAJZlcbn1KN",
        "outputId": "385c8696-fd31-40b4-cc1f-b5a7d100e895"
      },
      "execution_count": null,
      "outputs": [
        {
          "output_type": "stream",
          "name": "stdout",
          "text": [
            "[1, 4, 3, 6, 2]\n",
            "[1, 2, 3, 4, 6]\n"
          ]
        }
      ]
    },
    {
      "cell_type": "code",
      "source": [
        ""
      ],
      "metadata": {
        "id": "WHfs7wK1oZBh"
      },
      "execution_count": null,
      "outputs": []
    }
  ]
}