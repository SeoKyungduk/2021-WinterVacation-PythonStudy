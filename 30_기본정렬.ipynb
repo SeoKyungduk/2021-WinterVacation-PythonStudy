{
  "nbformat": 4,
  "nbformat_minor": 0,
  "metadata": {
    "colab": {
      "name": "30_기본정렬.ipynb",
      "provenance": [],
      "collapsed_sections": []
    },
    "kernelspec": {
      "name": "python3",
      "display_name": "Python 3"
    },
    "language_info": {
      "name": "python"
    }
  },
  "cells": [
    {
      "cell_type": "markdown",
      "source": [
        "# **1. 정렬(sort)이란?**"
      ],
      "metadata": {
        "id": "mVRsUBokOrPi"
      }
    },
    {
      "cell_type": "markdown",
      "source": [
        "* 어떤 데이터들이 주어졌을 때 이를 정해진 순서대로 나열하는 것\n",
        "* 프로그램 개발시 빈번하게 정렬을 필요로 함\n",
        "* 다양한 알고리즘이 고안되었으며 알고리즘 학습의 필수사항"
      ],
      "metadata": {
        "id": "KiC_Ww7IOzsS"
      }
    },
    {
      "cell_type": "markdown",
      "source": [
        "### **1-1. 버블 정렬(buble sort)**\n",
        "* 두 인접한 데이터를 비교해서, 앞에 있는 데이터가 뒤에 있는 데이터보다 크면(or 작으면) 자리를 바꾸는 정렬 알고리즘\n",
        "\n",
        "<img src=\"https://upload.wikimedia.org/wikipedia/commons/c/c8/Bubble-sort-example-300px.gif\" width=500>\n"
      ],
      "metadata": {
        "id": "IHHXBLTZPEzV"
      }
    },
    {
      "cell_type": "code",
      "source": [
        "def bubblesort(data):\n",
        "  for index1 in range(len(data) - 1): # 0 ~ 3\n",
        "    for index2 in range(len(data) - index1 - 1):\n",
        "      if data[index2] > data[index2 + 1]:\n",
        "        data[index2], data[index2 + 1] = data[index2 + 1], data[index2]\n",
        "  \n",
        "  return data"
      ],
      "metadata": {
        "id": "bRecY7ikPWe2"
      },
      "execution_count": null,
      "outputs": []
    },
    {
      "cell_type": "code",
      "source": [
        "data_list = [80, 90, 100, 70, 50]\n",
        "bubblesort(data_list) # 50, 70, 80, 90, 100"
      ],
      "metadata": {
        "colab": {
          "base_uri": "https://localhost:8080/"
        },
        "id": "vE-s0SfYQdnB",
        "outputId": "3e7fe12a-8f22-4242-99a2-907f637e4d81"
      },
      "execution_count": null,
      "outputs": [
        {
          "output_type": "execute_result",
          "data": {
            "text/plain": [
              "[50, 70, 80, 90, 100]"
            ]
          },
          "metadata": {},
          "execution_count": 6
        }
      ]
    },
    {
      "cell_type": "markdown",
      "source": [
        "### **1-2. 삽입 정렬(insertion sort)**\n",
        "* 삽입 정렬은 두 번째 인덱스부터 시작\n",
        "* 해당 인덱스(key값) 앞에 있는 데이터(A)부터 비교해서 key값이 더 작으면(or 크면), 데이터(A)값을 뒤 인덱스로 복사\n",
        "* key값이 더 큰 데이터를 만날 때까지 반복, 큰 데이터를 만난 위치 바로 뒤에 key값을 이동\n",
        "<img src=\"https://upload.wikimedia.org/wikipedia/commons/9/9c/Insertion-sort-example.gif\">\n"
      ],
      "metadata": {
        "id": "akV5-ZGaQmeg"
      }
    },
    {
      "cell_type": "code",
      "source": [
        "def insertion_sort(data):\n",
        "  for index1 in range(len(data) - 1): # 0 ~ 3\n",
        "    for index2 in range(index1 + 1, 0, -1):\n",
        "      if data[index2] < data[index2 - 1]:\n",
        "        data[index2], data[index2 - 1] = data[index2 - 1], data[index2]\n",
        "      else:\n",
        "        break\n",
        "    \n",
        "  return data"
      ],
      "metadata": {
        "id": "I0SCpU9nYxUN"
      },
      "execution_count": null,
      "outputs": []
    },
    {
      "cell_type": "code",
      "source": [
        "data_list = [80, 90, 100, 70, 50]\n",
        "insertion_sort(data_list) # 50, 70, 80, 90, 100"
      ],
      "metadata": {
        "colab": {
          "base_uri": "https://localhost:8080/"
        },
        "id": "Ed_cqB9UgI3-",
        "outputId": "7bee6e5a-bbf0-470d-bad5-51f1a3184ce9"
      },
      "execution_count": null,
      "outputs": [
        {
          "output_type": "execute_result",
          "data": {
            "text/plain": [
              "[50, 70, 80, 90, 100]"
            ]
          },
          "metadata": {},
          "execution_count": 12
        }
      ]
    },
    {
      "cell_type": "markdown",
      "source": [
        "### **1-3. 선택 정렬(selection sort)**\n",
        "* 주어진 데이터 중, 최소값을 찾음\n",
        "* 해당 최소값을 데이터 맨 앞에 위치한 값과 교체함\n",
        "* 맨 앞의 위치를 뺀 나머지 데이터를 동일한 방법으로 반복\n",
        "\n",
        "<img src=\"https://upload.wikimedia.org/wikipedia/commons/9/94/Selection-Sort-Animation.gif\" width=100>\n"
      ],
      "metadata": {
        "id": "KjhOVGCjgJUP"
      }
    },
    {
      "cell_type": "code",
      "source": [
        "def selection_sort(data):\n",
        "  for stand in range(len(data) - 1):\n",
        "    lowest = stand\n",
        "    for index in range(stand + 1, len(data)):\n",
        "      if data[lowest] > data[index]:\n",
        "        lowest = index\n",
        "    data[lowest], data[stand] = data[stand], data[lowest]\n",
        "  return data"
      ],
      "metadata": {
        "id": "Km9wWicgiem3"
      },
      "execution_count": 1,
      "outputs": []
    },
    {
      "cell_type": "code",
      "source": [
        "data_list = [80, 90, 100, 70, 50]\n",
        "selection_sort(data_list) # 50, 70, 80, 90, 100"
      ],
      "metadata": {
        "id": "YAjMYShFjGir",
        "colab": {
          "base_uri": "https://localhost:8080/"
        },
        "outputId": "1f46de6f-c29c-4f04-aa27-3d8bd88405dc"
      },
      "execution_count": 2,
      "outputs": [
        {
          "output_type": "execute_result",
          "data": {
            "text/plain": [
              "[50, 70, 80, 90, 100]"
            ]
          },
          "metadata": {},
          "execution_count": 2
        }
      ]
    },
    {
      "cell_type": "code",
      "source": [
        ""
      ],
      "metadata": {
        "id": "Miuk3xsRjJXH"
      },
      "execution_count": null,
      "outputs": []
    }
  ]
}