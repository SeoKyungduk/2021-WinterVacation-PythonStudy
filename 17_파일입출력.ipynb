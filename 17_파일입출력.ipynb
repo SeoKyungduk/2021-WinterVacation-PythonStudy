{
  "nbformat": 4,
  "nbformat_minor": 0,
  "metadata": {
    "colab": {
      "name": "17_파일입출력.ipynb",
      "provenance": [],
      "collapsed_sections": []
    },
    "kernelspec": {
      "name": "python3",
      "display_name": "Python 3"
    },
    "language_info": {
      "name": "python"
    }
  },
  "cells": [
    {
      "cell_type": "markdown",
      "source": [
        "# 1. 파일 열기"
      ],
      "metadata": {
        "id": "frjjGWMQ0-ui"
      }
    },
    {
      "cell_type": "markdown",
      "source": [
        "```\n",
        "  파일변수 = open('텍스트 파일 이름', '파일 열기 모드')\n",
        "```\n",
        "* 파일 열기 모드 : w(출력), a(추가), r(입력)\n",
        "* w는 지정된 경로에 파일이 없으면 파일을 만든 후 저장하고, 파일이 있으면 기존의 모든 데이터를 지우고 다시 저장\n",
        "* a는 지정된 경로에 파일이 없으면 파일을 만든 후 , 저장하고 파일이 있으면 기존의 데이터 뒤에 저장\n",
        "* r은 지정된 경로에 파일이 없으면 에러\n",
        "* 출력시(w, a) 작업이 완료되면 반드시 close() 메소드를 사용해서 파일을 닫아야 정상적으로 데이터가 저장되고, 입력시 파일을 닫지 않아도 정상적으로 처리됨"
      ],
      "metadata": {
        "id": "QcF3gdgg1G7-"
      }
    },
    {
      "cell_type": "code",
      "source": [
        "file = open('data.txt', 'w')\n",
        "for i in range(10):\n",
        "  file.write('파일 열기 테스트' + str(i) + '\\n')\n",
        "file.close()\n",
        "print('data.txt 파일에 쓰기 완료!!!')\n"
      ],
      "metadata": {
        "colab": {
          "base_uri": "https://localhost:8080/"
        },
        "id": "eACF_WK93MSm",
        "outputId": "58f57c5d-43bb-406a-ea50-fae9114fd106"
      },
      "execution_count": null,
      "outputs": [
        {
          "output_type": "stream",
          "name": "stdout",
          "text": [
            "data.txt 파일에 쓰기 완료!!!\n"
          ]
        }
      ]
    },
    {
      "cell_type": "markdown",
      "source": [
        "* 절대 경로 : 디스크 드라이브의 최상위(root) 폴더(디렉토리)부터 텍스트 파일이 저장될 폴더까지의 경로 \n",
        "  - D:\\Ai\\Python\\data.txt\n",
        "* 상대 경로 : 현재 화면에 표시되는 소스파일이 위치한 폴더부터 테스트 파일이 저장될 폴더까지의 경로\n",
        "  - data.txt (현재 폴더)\n",
        "  - ../data.txt (상위 폴더)\n",
        "  - ./data/data.txt (하위 폴더)"
      ],
      "metadata": {
        "id": "1rIMMTni36bn"
      }
    },
    {
      "cell_type": "code",
      "source": [
        "file = open('./data/data.txt', 'a') # a는 기존에 있는 것에 이어서 쓰고 w는 새로운 것을 새로 만들어 씀\n",
        "for i in range(10):\n",
        "  # file.write('파일 열기 테스트' + str(i) + '\\n')\n",
        "  file.write('<파일 열기 테스트>' + str(i) + '\\n')\n",
        "file.close()\n",
        "print('data.txt 파일에 쓰기 완료!!!')\n"
      ],
      "metadata": {
        "colab": {
          "base_uri": "https://localhost:8080/"
        },
        "id": "GBy52uDa7xdw",
        "outputId": "00a35c85-4b1e-41f7-c005-c37a95b34b12"
      },
      "execution_count": null,
      "outputs": [
        {
          "output_type": "stream",
          "name": "stdout",
          "text": [
            "data.txt 파일에 쓰기 완료!!!\n"
          ]
        }
      ]
    },
    {
      "cell_type": "markdown",
      "source": [
        "### **문제.**\n",
        "키보드로 입력하는 문자열을 텍스트 파일에 저장(단, 'quit'가 입력되면 저장을 끝내고 프로그램을 종료함)"
      ],
      "metadata": {
        "id": "DGGpRamo-VfC"
      }
    },
    {
      "cell_type": "code",
      "source": [
        "file = open('./data/input.txt', 'w')\n",
        "while True:\n",
        "  string = input('>> ')\n",
        "  if string.lower() ==  'quit':\n",
        "    break\n",
        "  file.write(string + '\\n')\n",
        "file.close()\n",
        "print('input.txt 파일 저장완료!')"
      ],
      "metadata": {
        "colab": {
          "base_uri": "https://localhost:8080/"
        },
        "id": "V7UuUrk7GEEx",
        "outputId": "0c863473-e8ac-4068-f5c2-3a83056f7b6b"
      },
      "execution_count": null,
      "outputs": [
        {
          "output_type": "stream",
          "name": "stdout",
          "text": [
            ">> apple\n",
            ">> banana\n",
            ">> orange\n",
            ">> melon\n",
            ">> quit\n",
            "input.txt 파일 저장완료!\n"
          ]
        }
      ]
    },
    {
      "cell_type": "code",
      "source": [
        "with open('./data/input.txt', 'w') as file: # with를 사용하면 굳이 close()를 하지 않아도 됨\n",
        "  while True:\n",
        "    string = input('>> ')\n",
        "    if string.lower() ==  'quit':\n",
        "      break\n",
        "    file.write(string + '\\n')\n",
        "print('input.txt 파일 저장완료!')"
      ],
      "metadata": {
        "colab": {
          "base_uri": "https://localhost:8080/"
        },
        "id": "NIix4JAXHPbB",
        "outputId": "1c591430-169a-4203-d99a-cc855597819a"
      },
      "execution_count": null,
      "outputs": [
        {
          "output_type": "stream",
          "name": "stdout",
          "text": [
            ">> apple\n",
            ">> banana\n",
            ">> orange\n",
            ">> melon\n",
            ">> quit\n",
            "input.txt 파일 저장완료!\n"
          ]
        }
      ]
    },
    {
      "cell_type": "markdown",
      "source": [
        "# **2. 파일 읽기**"
      ],
      "metadata": {
        "id": "cHx0L0BvImXj"
      }
    },
    {
      "cell_type": "code",
      "source": [
        "file = open('./data/input.txt', 'r')\n",
        "lines = []\n",
        "\n",
        "while True:\n",
        "  line = file.readline() # readline() 함수는 한 번 읽고 끝.\n",
        "  if not line:\n",
        "    break\n",
        "  if len(line.strip()) != 0:\n",
        "    print(line, end = '')\n",
        "    lines.append(line.strip())\n",
        "file.close()\n",
        "print('data.txt 파일에 읽기 완료!!!')\n",
        "print(lines)"
      ],
      "metadata": {
        "colab": {
          "base_uri": "https://localhost:8080/"
        },
        "id": "2FHbFQ0yJFJQ",
        "outputId": "60bd1bee-8ece-461c-b5ca-55b71c8009f6"
      },
      "execution_count": null,
      "outputs": [
        {
          "output_type": "stream",
          "name": "stdout",
          "text": [
            "apple\n",
            "banana\n",
            "orange\n",
            "melon\n",
            "data.txt 파일에 읽기 완료!!!\n",
            "['apple', 'banana', 'orange', 'melon']\n"
          ]
        }
      ]
    },
    {
      "cell_type": "code",
      "source": [
        "file = open('./data/input.txt', 'r')\n",
        "\n",
        "lines = file.readlines() # readlines() 함수는 주어진 파일에 있는 것을 모두 읽어줌\n",
        "print(type(lines))\n",
        "print(lines)\n",
        "\n",
        "file.close()\n",
        "print('input.txt 파일에 읽기 완료!!!')\n",
        "print(lines)"
      ],
      "metadata": {
        "colab": {
          "base_uri": "https://localhost:8080/"
        },
        "id": "dWCBZDS-KZNa",
        "outputId": "8ac7335c-ca31-45ff-daf2-da3ef92e7b9b"
      },
      "execution_count": null,
      "outputs": [
        {
          "output_type": "stream",
          "name": "stdout",
          "text": [
            "<class 'list'>\n",
            "['apple\\n', 'banana\\n', 'orange\\n', 'melon\\n']\n",
            "input.txt 파일에 읽기 완료!!!\n",
            "['apple\\n', 'banana\\n', 'orange\\n', 'melon\\n']\n"
          ]
        }
      ]
    },
    {
      "cell_type": "code",
      "source": [
        ""
      ],
      "metadata": {
        "id": "6t3H1ByeLveN"
      },
      "execution_count": null,
      "outputs": []
    }
  ]
}