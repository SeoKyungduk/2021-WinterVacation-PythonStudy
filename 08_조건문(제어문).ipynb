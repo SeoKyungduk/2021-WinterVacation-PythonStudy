{
  "nbformat": 4,
  "nbformat_minor": 0,
  "metadata": {
    "colab": {
      "name": "8_조건문(제어문).ipynb",
      "provenance": [],
      "collapsed_sections": []
    },
    "kernelspec": {
      "name": "python3",
      "display_name": "Python 3"
    },
    "language_info": {
      "name": "python"
    }
  },
  "cells": [
    {
      "cell_type": "markdown",
      "source": [
        "# 1. 비교 연산자"
      ],
      "metadata": {
        "id": "ABGBT3BWEXyV"
      }
    },
    {
      "cell_type": "markdown",
      "source": [
        "* 결과는 Ture, False만 나옴\n",
        "*  < 작다, > 크다, >= 크거나 같다, <= 작거나 같다, != 다르다, == 같다"
      ],
      "metadata": {
        "id": "lm5iIi8UE-dq"
      }
    },
    {
      "cell_type": "code",
      "source": [
        "print(10 > 5)\n",
        "print(10 < 5)\n",
        "print(10 >= 5)\n",
        "print(10 <= 5)\n",
        "print(10 != 5)\n",
        "print(10 == 5)"
      ],
      "metadata": {
        "colab": {
          "base_uri": "https://localhost:8080/"
        },
        "id": "0hL21xbXFlZ0",
        "outputId": "4b57818c-d7ab-4426-83f9-7d2e265c21e7"
      },
      "execution_count": null,
      "outputs": [
        {
          "output_type": "stream",
          "name": "stdout",
          "text": [
            "True\n",
            "False\n",
            "True\n",
            "False\n",
            "True\n",
            "False\n"
          ]
        }
      ]
    },
    {
      "cell_type": "markdown",
      "source": [
        "# 2. if 문"
      ],
      "metadata": {
        "id": "7Vid-MXRFwAI"
      }
    },
    {
      "cell_type": "markdown",
      "source": [
        "```\n",
        "if  조건식(결과가 True 또는 Flase가 나오는 문장):\n",
        "  조건식이 True인 경우 실행할 문장\n",
        "```"
      ],
      "metadata": {
        "id": "j7Ow8FusGLIJ"
      }
    },
    {
      "cell_type": "code",
      "source": [
        "age = int(input('나이를 입력하세요 '))\n",
        "\n",
        "if age > 19:\n",
        "  print('성인입니다')\n",
        "print('프로그램을 종료합니다')"
      ],
      "metadata": {
        "colab": {
          "base_uri": "https://localhost:8080/"
        },
        "id": "pCZGIht7HCEK",
        "outputId": "44c057c2-c9af-4ad5-ff69-aeb01c27c922"
      },
      "execution_count": null,
      "outputs": [
        {
          "output_type": "stream",
          "name": "stdout",
          "text": [
            "나이를 입력하세요 15\n",
            "프로그램을 종료합니다\n"
          ]
        }
      ]
    },
    {
      "cell_type": "code",
      "source": [
        "age = int(input('나이를 입력하세요 '))\n",
        "\n",
        "if age > 19:\n",
        "  print('성인입니다')\n",
        "  print('넷플릭스 성인영화를 시청할 수 있습니다')\n",
        "print('프로그램을 종료합니다')"
      ],
      "metadata": {
        "colab": {
          "base_uri": "https://localhost:8080/"
        },
        "id": "Eiq-PcK7HjH9",
        "outputId": "cdc22e89-7c2c-4a86-ac36-aa5191c8783d"
      },
      "execution_count": null,
      "outputs": [
        {
          "output_type": "stream",
          "name": "stdout",
          "text": [
            "나이를 입력하세요 05\n",
            "프로그램을 종료합니다\n"
          ]
        }
      ]
    },
    {
      "cell_type": "code",
      "source": [
        "age = int(input('나이를 입력하세요 '))\n",
        "\n",
        "if age > 19: print('성인입니다')"
      ],
      "metadata": {
        "colab": {
          "base_uri": "https://localhost:8080/"
        },
        "id": "YGa37zlVIV5e",
        "outputId": "f1d6cf0b-5182-406a-811a-866e77002517"
      },
      "execution_count": null,
      "outputs": [
        {
          "output_type": "stream",
          "name": "stdout",
          "text": [
            "나이를 입력하세요 20\n",
            "성인입니다\n"
          ]
        }
      ]
    },
    {
      "cell_type": "markdown",
      "source": [
        "# **3. if ~ else 문**"
      ],
      "metadata": {
        "id": "HhR2SYLPMPf9"
      }
    },
    {
      "cell_type": "markdown",
      "source": [
        "```\n",
        "if  조건식(결과가 True 또는 Flase가 나오는 문장):\n",
        "  조건식이 True인 경우 실행할 문장\n",
        "else:\n",
        "  조건식이 False인 경우 실행할 문장\n",
        "```"
      ],
      "metadata": {
        "id": "9TJngchWIta6"
      }
    },
    {
      "cell_type": "code",
      "source": [
        "age = int(input('나이를 입력하세요 '))\n",
        "\n",
        "if age > 19:\n",
        "  print('성인입니다')\n",
        "else:\n",
        "  print('미성년입니다')\n",
        "print('프로그램을 종료합니다')"
      ],
      "metadata": {
        "colab": {
          "base_uri": "https://localhost:8080/"
        },
        "id": "LGszFVpQMj2Q",
        "outputId": "0be496eb-3500-46e2-a45d-8cb96344e782"
      },
      "execution_count": null,
      "outputs": [
        {
          "output_type": "stream",
          "name": "stdout",
          "text": [
            "나이를 입력하세요 15\n",
            "미성년입니다\n",
            "프로그램을 종료합니다\n"
          ]
        }
      ]
    },
    {
      "cell_type": "code",
      "source": [
        "age = int(input('나이를 입력하세요 '))\n",
        "\n",
        "if age > 19:\n",
        "  print('성인입니다')\n",
        "  print('넷플릭스 성인영화를 시청할 수 있습니다')\n",
        "else:\n",
        "  print('미성년입니다')\n",
        "  print('디즈니를 보세요')\n",
        "print('프로그램을 종료합니다')"
      ],
      "metadata": {
        "colab": {
          "base_uri": "https://localhost:8080/"
        },
        "id": "Be0cAwZNNk7z",
        "outputId": "44f22e2e-129f-4f19-a3de-2809e300af14"
      },
      "execution_count": null,
      "outputs": [
        {
          "output_type": "stream",
          "name": "stdout",
          "text": [
            "나이를 입력하세요 15\n",
            "미성년입니다\n",
            "디즈니를 보세요\n",
            "프로그램을 종료합니다\n"
          ]
        }
      ]
    },
    {
      "cell_type": "markdown",
      "source": [
        "# 4. if ~ elif ~ else 문"
      ],
      "metadata": {
        "id": "mbMBztDBN6tX"
      }
    },
    {
      "cell_type": "markdown",
      "source": [
        "```\n",
        "if  조건식1(결과가 True 또는 Flase가 나오는 문장):\n",
        "  조건식1이 True인 경우 실행할 문장\n",
        "elif 조건식2:\n",
        "  조건식2가 True인 경우 실행할 문장\n",
        "elif 조건식3:\n",
        "  조건식3이 True인 경우 실행할 문장\n",
        "...\n",
        "else:\n",
        "  모든 조건식이 False인 경우 실행할 문장\n",
        "```"
      ],
      "metadata": {
        "id": "RM8az6izOS2D"
      }
    },
    {
      "cell_type": "code",
      "source": [
        "age = int(input('나이를 입력하세요 '))\n",
        "\n",
        "if age > 19:\n",
        "  print('성인입니다')\n",
        "elif age > 14:\n",
        "  print('청소년입니다')\n",
        "elif age > 6:\n",
        "  print('어린이입니다')\n",
        "elif age > 0:\n",
        "  print('유아입니다')\n",
        "else:\n",
        "  print('입력이 잘못되었어요')\n",
        "print('프로그램을 종료합니다')"
      ],
      "metadata": {
        "colab": {
          "base_uri": "https://localhost:8080/"
        },
        "id": "Io1dt_9BO63X",
        "outputId": "3d5a191f-530e-46b4-9763-a7483a86b319"
      },
      "execution_count": null,
      "outputs": [
        {
          "output_type": "stream",
          "name": "stdout",
          "text": [
            "나이를 입력하세요 20\n",
            "성인입니다\n",
            "프로그램을 종료합니다\n"
          ]
        }
      ]
    },
    {
      "cell_type": "markdown",
      "source": [
        "### **문제**\n",
        "국어점수, 수학점수, 영어점수를 한 번에 입력받아 총점, 평균, 학점을 구하는 프로그램을 만들어보자.\n",
        "(단, 학점은 평균 기준이며 90점이상은 A학점, 80점이상은 B학점, 70점이상은 C학점, 60점이상은 D학점, 나머지는 F학점)"
      ],
      "metadata": {
        "id": "VPfDu6PGPXbY"
      }
    },
    {
      "cell_type": "code",
      "source": [
        "kor, math, eng = map(int, input('시험 점수를 입력하세요.').split(' '))\n",
        "\n",
        "total = kor + math + eng\n",
        "avg = (kor + math + eng) / 3\n",
        "\n",
        "if avg >= 90:\n",
        "  print('학점은 A학점 입니다. ')\n",
        "elif avg >= 80:\n",
        "  print('학점은 B학점 입니다.')\n",
        "elif avg >= 70:\n",
        "  print('학점은 C학점 입니다.')\n",
        "elif avg >= 60:\n",
        "  print('학점은 D학점 입니다.')\n",
        "else:\n",
        "  print('학점은 F학점입니다.')\n",
        "\n",
        "print('총 점수 : {0}'.format(total))\n",
        "print('평균 : {0}'.format(avg))"
      ],
      "metadata": {
        "colab": {
          "base_uri": "https://localhost:8080/"
        },
        "id": "IGzYF-2WQS4f",
        "outputId": "3fb4e0f4-8731-4a5e-caee-c177a22f96d6"
      },
      "execution_count": null,
      "outputs": [
        {
          "output_type": "stream",
          "name": "stdout",
          "text": [
            "시험 점수를 입력하세요.90 80 70\n",
            "학점은 B학점 입니다.\n",
            "총 점수 : 240\n",
            "평균 : 80.0\n"
          ]
        }
      ]
    },
    {
      "cell_type": "code",
      "source": [
        "kor, math, eng = map(int, input('국어점수 수학점수 영어점수를 입력하세요').split(' '))\n",
        "total = kor + math + eng\n",
        "avg = total / 3\n",
        "hak = \"\"\n",
        "\n",
        "if avg >= 90:\n",
        "  hak = 'A학점'\n",
        "elif avg >= 80:\n",
        "  hak = 'B학점'\n",
        "elif avg >= 70:\n",
        "  hak = 'C학점'\n",
        "elif avg >= 60:\n",
        "  hak = 'D학점'\n",
        "else:\n",
        "  hak = 'F학점'\n",
        "\n",
        "print('총점 : ', total)\n",
        "print('평균 : ', avg)\n",
        "print('학점 : ', hak)"
      ],
      "metadata": {
        "colab": {
          "base_uri": "https://localhost:8080/"
        },
        "id": "m8UXcdj0Ref7",
        "outputId": "9f4dce0b-2f2d-481a-d851-fb6b1aef54cb"
      },
      "execution_count": null,
      "outputs": [
        {
          "output_type": "stream",
          "name": "stdout",
          "text": [
            "국어점수 수학점수 영어점수를 입력하세요90 80 70\n",
            "총점 :  240\n",
            "평균 :  80.0\n",
            "학점 :  B학점\n"
          ]
        }
      ]
    },
    {
      "cell_type": "markdown",
      "source": [
        "# 5. 논리 연산자"
      ],
      "metadata": {
        "id": "rlnPSBWPU7GL"
      }
    },
    {
      "cell_type": "markdown",
      "source": [
        "### **5-1. AND 연산자**\n",
        "* 양쪽 두 식의 값이 모두 True인 경우 결과가 True가 되는 연산자\n",
        "\n",
        "| A | B | 결과 |\n",
        "|-----|-----|-----|\n",
        "|True|True|True|\n",
        "|True|False|False|\n",
        "|False|True|False|\n",
        "|False|False|False|\n",
        "\n",
        "> 정보처리기사의 합격기준은 모든 과목의 평균 점수가 60점 이상이고, 각 과목의 점수가 40점 이상이여야 함."
      ],
      "metadata": {
        "id": "VHgvOm1pVesu"
      }
    },
    {
      "cell_type": "code",
      "source": [
        "# 로그인 프로그램 작성\n",
        "# 아이디 : admin, 비밀번호 : 1234\n",
        "\n",
        "userid = input('아이디를 입력하세요')\n",
        "userpw = input('비밀번호를 입력하세요')\n",
        "\n",
        "if userid == 'admin' and userpw == '1234':\n",
        "  print('로그인 되었습니다.')\n",
        "else:\n",
        "  print('아이디 또는 비밀번호를 확인하세요.')"
      ],
      "metadata": {
        "colab": {
          "base_uri": "https://localhost:8080/"
        },
        "id": "J3K_v1WlXmvQ",
        "outputId": "a20dbce9-9bd7-454c-9e88-c25eb7f2dcf2"
      },
      "execution_count": null,
      "outputs": [
        {
          "output_type": "stream",
          "name": "stdout",
          "text": [
            "아이디를 입력하세요admin\n",
            "비밀번호를 입력하세요1234\n",
            "로그인 되었습니다.\n"
          ]
        }
      ]
    },
    {
      "cell_type": "markdown",
      "source": [
        "### **5-2. OR 연산자**\n",
        "* 양쪽 두 식의 값이 하나라도 True인 경우 결과가 True가 되는 연산자\n",
        "\n",
        "| A | B | 결과 |\n",
        "|-----|-----|-----|\n",
        "|True|True|True|\n",
        "|True|False|True|\n",
        "|False|True|True|\n",
        "|False|False|False|\n",
        "\n",
        "> 선생님이 엄빠 중 한 분만 데려오라고 함"
      ],
      "metadata": {
        "id": "d2IeCPenYKD5"
      }
    },
    {
      "cell_type": "code",
      "source": [
        "# 주민등록번호에 의한 성별 판별\n",
        "# 001011-3068518 # 문자로 받음, 그렇지 않으면 0부터 시작하면 오류남\n",
        "juminNo = input('주민등록번호 13자리를 - 없이 입력하세요')\n",
        "\n",
        "if juminNo[6] == '1' or juminNo[6] == '3':\n",
        "  print('남자')\n",
        "elif juminNo[6] == '2' or juminNo[6] == '4':\n",
        "  print('여자')\n",
        "else:\n",
        "  print('알 수 없음')"
      ],
      "metadata": {
        "colab": {
          "base_uri": "https://localhost:8080/"
        },
        "id": "mqYoTy5kdJcd",
        "outputId": "9c27ff1a-931a-4938-f028-148f9104b815"
      },
      "execution_count": null,
      "outputs": [
        {
          "output_type": "stream",
          "name": "stdout",
          "text": [
            "주민등록번호 13자리를 - 없이 입력하세요0010113068518\n",
            "남자\n"
          ]
        }
      ]
    },
    {
      "cell_type": "markdown",
      "source": [
        "### **문제**\n",
        "주민등록번호를 입력받아 현재 나이를 구하는 프로그램을 작성해보자"
      ],
      "metadata": {
        "id": "vHofdpl5ekWk"
      }
    },
    {
      "cell_type": "code",
      "source": [
        "juminNo = input('주민등록번호 13자리를 -없이 입력하세요')\n",
        "year = int(juminNo[:2]) # 001011 -> 00, 931011 -> 93\n",
        "\n",
        "if int(juminNo[6]) <= 2:  # 1900년대 사람이라면...\n",
        "  year = year + 1900 # 93 + 1900 = 1993\n",
        "else:\n",
        "  year = year + 2000 # 0 + 2000 = 2000\n",
        "\n",
        "age = 2022 - year\n",
        "print('현재 나이는 {}살입니다.'.format(age))"
      ],
      "metadata": {
        "colab": {
          "base_uri": "https://localhost:8080/"
        },
        "id": "Wz5lKgrxf000",
        "outputId": "ea036d20-61a4-4ca5-dc4d-81bdc83c29f0"
      },
      "execution_count": null,
      "outputs": [
        {
          "output_type": "stream",
          "name": "stdout",
          "text": [
            "주민등록번호 13자리를 -없이 입력하세요9904181122111\n",
            "현재 나이는 23살입니다.\n"
          ]
        }
      ]
    },
    {
      "cell_type": "code",
      "source": [
        "juminN0 = input('주민등록번호 13자리를 - 없이 입력하세요 : ')\n",
        "year = int(juminN0[0:2])\n",
        "\n",
        "if 1 <= int(juminN0[6]) <= 2:\n",
        "  year = year + 1900\n",
        "else:\n",
        "  year = year + 2000\n",
        "\n",
        "age = 2022 - year + 1\n",
        "\n",
        "print('현재 나이 : {0}'.format(age))"
      ],
      "metadata": {
        "colab": {
          "base_uri": "https://localhost:8080/"
        },
        "id": "Yx6w-Q3ahi54",
        "outputId": "a91410d9-97fa-475e-c8a1-bf7c6216f52b"
      },
      "execution_count": null,
      "outputs": [
        {
          "output_type": "stream",
          "name": "stdout",
          "text": [
            "주민등록번호 13자리를 - 없이 입력하세요 : 9904181111111\n",
            "현재 나이 : 24\n"
          ]
        }
      ]
    },
    {
      "cell_type": "code",
      "source": [
        ""
      ],
      "metadata": {
        "id": "-VLIOJhoi3BE"
      },
      "execution_count": null,
      "outputs": []
    }
  ]
}