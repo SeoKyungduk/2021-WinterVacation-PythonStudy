{
  "nbformat": 4,
  "nbformat_minor": 0,
  "metadata": {
    "colab": {
      "name": "2_파이썬의 출력.ipynb",
      "provenance": [],
      "authorship_tag": "ABX9TyNHfHBpFJWyOV3nUzAHtm5c",
      "include_colab_link": true
    },
    "kernelspec": {
      "name": "python3",
      "display_name": "Python 3"
    },
    "language_info": {
      "name": "python"
    }
  },
  "cells": [
    {
      "cell_type": "markdown",
      "metadata": {
        "id": "view-in-github",
        "colab_type": "text"
      },
      "source": [
        "<a href=\"https://colab.research.google.com/github/SeoKyungduk/2021-WinterVacation-PythonStudy/blob/main/2_%ED%8C%8C%EC%9D%B4%EC%8D%AC%EC%9D%98_%EC%B6%9C%EB%A0%A5.ipynb\" target=\"_parent\"><img src=\"https://colab.research.google.com/assets/colab-badge.svg\" alt=\"Open In Colab\"/></a>"
      ]
    },
    {
      "cell_type": "markdown",
      "source": [
        "# **1. print 함수**"
      ],
      "metadata": {
        "id": "iI4QyN-_JmTq"
      }
    },
    {
      "cell_type": "markdown",
      "source": [
        "* 매개변수로 지정된 데이터를 출력하고 줄을 바꿈"
      ],
      "metadata": {
        "id": "NN9XVf9fJ22I"
      }
    },
    {
      "cell_type": "code",
      "source": [
        "print(\"안녕하세요. 파이썬\")\n",
        "print(\"안녕히계세요. 여러분\")"
      ],
      "metadata": {
        "colab": {
          "base_uri": "https://localhost:8080/"
        },
        "id": "f-l1ZvHkKA36",
        "outputId": "5d49759d-7346-4e9f-fa40-b0f7bec849d3"
      },
      "execution_count": null,
      "outputs": [
        {
          "output_type": "stream",
          "name": "stdout",
          "text": [
            "안녕하세요. 파이썬\n",
            "안녕히계세요. 여러분\n"
          ]
        }
      ]
    },
    {
      "cell_type": "code",
      "source": [
        "'''\n",
        "여기는 여러줄을\n",
        "사용할 수 있는 주석문입니다.\n",
        "'''\n",
        "\"\"\"\n",
        "여기도 여러줄\n",
        "주석문 입니다.\n",
        "\"\"\"\n",
        "# 숫자 출력은 따옴표를 사용하지 않음\n",
        "print(100)\n",
        "# 문자 출력은 따옴표를 사용('' 또는 \"\")\n",
        "print('python')\n",
        "print(\"python\")"
      ],
      "metadata": {
        "colab": {
          "base_uri": "https://localhost:8080/"
        },
        "id": "DwczOuK46wA5",
        "outputId": "5d1f2971-fe5b-4851-88ba-869e5c1c6b39"
      },
      "execution_count": null,
      "outputs": [
        {
          "output_type": "stream",
          "name": "stdout",
          "text": [
            "100\n",
            "python\n",
            "python\n"
          ]
        }
      ]
    },
    {
      "cell_type": "code",
      "source": [
        "print('Hello','Python')\n",
        "print('Hello','Python','Hi','Python')\n",
        "print('Hello', end='') # end : 출력 후 어떻게 처리할지 여부에 대한 옵션\n",
        "print('Python')\n",
        "print('Hello', end=' ')\n",
        "print('Python')"
      ],
      "metadata": {
        "colab": {
          "base_uri": "https://localhost:8080/"
        },
        "id": "0LE2EAWV9Xz-",
        "outputId": "782feae1-edf1-448a-b63b-e860282a344b"
      },
      "execution_count": null,
      "outputs": [
        {
          "output_type": "stream",
          "name": "stdout",
          "text": [
            "Hello Python\n",
            "Hello Python Hi Python\n",
            "HelloPython\n",
            "Hello Python\n"
          ]
        }
      ]
    },
    {
      "cell_type": "code",
      "source": [
        "print(10 + 5) # 덧셈\n",
        "print(10 - 5) # 뺄셈\n",
        "print('10') # 문자\n",
        "print('10' + '5') # 연결 연산\n",
        "# print('10' + 5), 문자와 숫자를 계산할 수 없다.\n",
        "print('10', 5)"
      ],
      "metadata": {
        "colab": {
          "base_uri": "https://localhost:8080/"
        },
        "id": "lcz2jzbh-BD2",
        "outputId": "399d2a47-f87f-41ae-8242-8e3f0f674f75"
      },
      "execution_count": null,
      "outputs": [
        {
          "output_type": "stream",
          "name": "stdout",
          "text": [
            "15\n",
            "5\n",
            "10\n",
            "105\n",
            "10 5\n"
          ]
        }
      ]
    },
    {
      "cell_type": "markdown",
      "source": [
        "# 2. 출력 서식 지정하기"
      ],
      "metadata": {
        "id": "WDFmV-2H_2Wx"
      }
    },
    {
      "cell_type": "markdown",
      "source": [
        "1. %d(정수), %f(실수), %s(문자)를 사용하용 출력 서식을 지정\n",
        "2. 서식을 제외한 문자는 입력한 그대로 출력\n",
        "3. 서식을 지정해 출력할 데이터가 2개 이상일 경우 ()로 데이터를 묶어야 함"
      ],
      "metadata": {
        "id": "5nbkI-9FAxXP"
      }
    },
    {
      "cell_type": "code",
      "source": [
        "print('%d' % 100) # decimal\n",
        "print('%d' % 100.1) # decimal, 100.1은 소수이므로 정수인 100으로 출력함.\n",
        "\n",
        "print('%f' % 180.5) # float\n",
        "\n",
        "print('%s' % 'Python') # string\n",
        "print('%s' % 100) # 100을 문자로 출력함."
      ],
      "metadata": {
        "colab": {
          "base_uri": "https://localhost:8080/"
        },
        "id": "NQH9aUfFBMWY",
        "outputId": "df8b2c86-cd33-4ebc-f2fc-c869567c346b"
      },
      "execution_count": null,
      "outputs": [
        {
          "output_type": "stream",
          "name": "stdout",
          "text": [
            "100\n",
            "100\n",
            "180.500000\n",
            "Python\n",
            "100\n"
          ]
        }
      ]
    },
    {
      "cell_type": "code",
      "source": [
        "print('%5d' % 100) \n",
        "print('%5d' % 10000)\n",
        "print('%05d' % 100)"
      ],
      "metadata": {
        "colab": {
          "base_uri": "https://localhost:8080/"
        },
        "id": "v-yYJd_ABWkX",
        "outputId": "2912abad-c250-4779-919f-f3afa5c1ec42"
      },
      "execution_count": null,
      "outputs": [
        {
          "output_type": "stream",
          "name": "stdout",
          "text": [
            "  100\n",
            "10000\n",
            "00100\n"
          ]
        }
      ]
    },
    {
      "cell_type": "code",
      "source": [
        "print('%6.2f' % 123.45)\n",
        "print('%6.2f' % 123.456) # 반올림\n",
        "print('%6.2f' % 123.4) # 남은 자리는 0으로 채움"
      ],
      "metadata": {
        "colab": {
          "base_uri": "https://localhost:8080/"
        },
        "id": "0osXx0EtCPoT",
        "outputId": "25b1ec6e-bdb3-411e-e4f6-b98bef5ab426"
      },
      "execution_count": null,
      "outputs": [
        {
          "output_type": "stream",
          "name": "stdout",
          "text": [
            "123.45\n",
            "123.46\n",
            "123.40\n"
          ]
        }
      ]
    },
    {
      "cell_type": "code",
      "source": [
        "print('%5s' % 'abc')"
      ],
      "metadata": {
        "colab": {
          "base_uri": "https://localhost:8080/"
        },
        "id": "OG6w3N26CybN",
        "outputId": "9e8e9956-4846-49ed-fc5f-4bcb34d082dc"
      },
      "execution_count": null,
      "outputs": [
        {
          "output_type": "stream",
          "name": "stdout",
          "text": [
            "  abc\n"
          ]
        }
      ]
    },
    {
      "cell_type": "code",
      "source": [
        "# 5 + 3 = 8\n",
        "print('5 + 3 = 8')\n",
        "print('%d + %d = %d' % (5, 3, 5+3))\n",
        "\n",
        "# 5 * 3 = 15\n",
        "print('%d * %d = %d' % (5, 3, 5*3))\n",
        "\n",
        "# 5 / 3 = ?\n",
        "print('%d / %d = %d' % (5, 3, 5/3)) # 결과를 %d로 출력하면 정수로 출력\n",
        "print('%d / %d = %f' % (5, 3, 5/3)) # 결과를 %f로 출력하면 실수로 출력"
      ],
      "metadata": {
        "colab": {
          "base_uri": "https://localhost:8080/"
        },
        "id": "dG4PhiKUDSGt",
        "outputId": "9221119b-89bc-4030-d46d-da0fd104bfc3"
      },
      "execution_count": null,
      "outputs": [
        {
          "output_type": "stream",
          "name": "stdout",
          "text": [
            "5 + 3 = 8\n",
            "5 + 3 = 8\n",
            "5 * 3 = 15\n",
            "5 / 3 = 1\n",
            "5 / 3 = 1.666667\n"
          ]
        }
      ]
    },
    {
      "cell_type": "markdown",
      "source": [
        "# **3. format 함수와 출력 인덱스 사용**"
      ],
      "metadata": {
        "id": "9nnworI9D8ip"
      }
    },
    {
      "cell_type": "code",
      "source": [
        "# 인덱스 : 0부터 순서대로 진행되는 정수\n",
        "print('{0} {1}'.format('김사과', '학생'))\n",
        "print('{1} {0}'.format('김사과', '학생'))"
      ],
      "metadata": {
        "colab": {
          "base_uri": "https://localhost:8080/"
        },
        "id": "AzQzKUK2Ho42",
        "outputId": "262f8a66-7d88-4471-91ea-8e9afb605c80"
      },
      "execution_count": null,
      "outputs": [
        {
          "output_type": "stream",
          "name": "stdout",
          "text": [
            "김사과 학생\n",
            "학생 김사과\n"
          ]
        }
      ]
    },
    {
      "cell_type": "code",
      "source": [
        "print('{0:3s}님은 {1:03d}살입니다.'.format('김사과', 20))\n",
        "print('{0}님의 키는 {1:6.2f}cm입니다.'.format('류정원', 180.5))"
      ],
      "metadata": {
        "colab": {
          "base_uri": "https://localhost:8080/"
        },
        "id": "cLJUamerIVKa",
        "outputId": "027cc663-8707-41ea-8510-259f62c888e4"
      },
      "execution_count": null,
      "outputs": [
        {
          "output_type": "stream",
          "name": "stdout",
          "text": [
            "김사과님은 020살입니다.\n",
            "류정원님의 키는 180.50cm입니다.\n"
          ]
        }
      ]
    },
    {
      "cell_type": "code",
      "source": [
        ""
      ],
      "metadata": {
        "id": "qUl7YAY5I8_F"
      },
      "execution_count": null,
      "outputs": []
    }
  ]
}