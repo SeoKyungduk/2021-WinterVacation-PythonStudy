{
  "nbformat": 4,
  "nbformat_minor": 0,
  "metadata": {
    "colab": {
      "name": "18_오류처리.ipynb",
      "provenance": [],
      "collapsed_sections": []
    },
    "kernelspec": {
      "name": "python3",
      "display_name": "Python 3"
    },
    "language_info": {
      "name": "python"
    }
  },
  "cells": [
    {
      "cell_type": "markdown",
      "source": [
        "# **1. 오류처리**"
      ],
      "metadata": {
        "id": "Zm_J2SvRMpNO"
      }
    },
    {
      "cell_type": "markdown",
      "source": [
        "* 오류가 발생되었을 때 별도의 처리를 하거나 무시하고 프로그램을 실행하는 것\n",
        "* 오류가 발생될 것으로 예상되는 문장을 tyr 블록에 코딩하고 try 블록에 코딩된 내용을 실행하다가 오류가 발생되면 더 이상 try 블록의 내용을 실행하지 않고 해당 오류의 except 블록에 코딩된 내용을 싱행\n",
        "```\n",
        "try:\n",
        "  오류가 발생될 것으로 예상되는 문장\n",
        "  ...\n",
        "  ...\n",
        "except [오류이름1:]:\n",
        "  오류가 발생되면 실행할 문장\n",
        "  ...\n",
        "except [오류이름2:]\n",
        "  오류가 발생되면 실행할 문장\n",
        "  ...\n",
        "finally:\n",
        "  오류 발생 여부와 관계없이 무조건 실행해야할 문장\n",
        "  ...\n",
        "```\n",
        "* [ ]안의 오류 이름은 생략할 수 있음\n",
        "* finally는 선택사항"
      ],
      "metadata": {
        "id": "mheuT4aCTcHV"
      }
    },
    {
      "cell_type": "code",
      "source": [
        "try:\n",
        "  print(10 / 2)\n",
        "  # ZeroDivisionError\n",
        "  print(5 / 0) # 오류가 발생되면 오류가 발생된 문장부터 나머지 문장을 실행하지 않고 except 이동\n",
        "  print(4 / 2) # 오류가 발생되면 이 문장은 실행되지 않음\n",
        "except:\n",
        "  print('오류가 발생했습니다.')\n",
        "\n",
        "print('실행완료')"
      ],
      "metadata": {
        "colab": {
          "base_uri": "https://localhost:8080/"
        },
        "id": "6pMRPyA7VSNh",
        "outputId": "87aed22d-01bb-422f-dd19-92d5b512a3e9"
      },
      "execution_count": null,
      "outputs": [
        {
          "output_type": "stream",
          "name": "stdout",
          "text": [
            "5.0\n",
            "오류가 발생했습니다.\n",
            "실행완료\n"
          ]
        }
      ]
    },
    {
      "cell_type": "code",
      "source": [
        "print(10 / 2)\n",
        "print(5 / 0)"
      ],
      "metadata": {
        "colab": {
          "base_uri": "https://localhost:8080/",
          "height": 211
        },
        "id": "zmUuKySjWwiP",
        "outputId": "e88a3524-92a0-44f0-87b4-209ab3764b71"
      },
      "execution_count": null,
      "outputs": [
        {
          "output_type": "stream",
          "name": "stdout",
          "text": [
            "5.0\n"
          ]
        },
        {
          "output_type": "error",
          "ename": "ZeroDivisionError",
          "evalue": "ignored",
          "traceback": [
            "\u001b[0;31m---------------------------------------------------------------------------\u001b[0m",
            "\u001b[0;31mZeroDivisionError\u001b[0m                         Traceback (most recent call last)",
            "\u001b[0;32m<ipython-input-8-2c61818994b1>\u001b[0m in \u001b[0;36m<module>\u001b[0;34m()\u001b[0m\n\u001b[1;32m      1\u001b[0m \u001b[0mprint\u001b[0m\u001b[0;34m(\u001b[0m\u001b[0;36m10\u001b[0m \u001b[0;34m/\u001b[0m \u001b[0;36m2\u001b[0m\u001b[0;34m)\u001b[0m\u001b[0;34m\u001b[0m\u001b[0;34m\u001b[0m\u001b[0m\n\u001b[0;32m----> 2\u001b[0;31m \u001b[0mprint\u001b[0m\u001b[0;34m(\u001b[0m\u001b[0;36m5\u001b[0m \u001b[0;34m/\u001b[0m \u001b[0;36m0\u001b[0m\u001b[0;34m)\u001b[0m\u001b[0;34m\u001b[0m\u001b[0;34m\u001b[0m\u001b[0m\n\u001b[0m",
            "\u001b[0;31mZeroDivisionError\u001b[0m: division by zero"
          ]
        }
      ]
    },
    {
      "cell_type": "code",
      "source": [
        "data = [10, 20, 30]\n",
        "try:\n",
        "  print(data[2])\n",
        "  # IndexError\n",
        "  print(data[3]) # 오류가 발생되면 오류가 발생된 문장부터 나머지 문장을 실행하지 않고 except 이동\n",
        "  print(4/4)\n",
        "\n",
        "except:\n",
        "  print('오류가 발생했습니다.')\n",
        "\n",
        "print('실행완료')"
      ],
      "metadata": {
        "colab": {
          "base_uri": "https://localhost:8080/"
        },
        "id": "sR9UKpByWNrh",
        "outputId": "123f5cd0-10d0-4f27-b7c2-2b66c8296225"
      },
      "execution_count": null,
      "outputs": [
        {
          "output_type": "stream",
          "name": "stdout",
          "text": [
            "30\n",
            "오류가 발생했습니다.\n",
            "실행완료\n"
          ]
        }
      ]
    },
    {
      "cell_type": "code",
      "source": [
        "data = [10, 20, 30]\n",
        "print(data[2])\n",
        "print(data[3])"
      ],
      "metadata": {
        "colab": {
          "base_uri": "https://localhost:8080/",
          "height": 229
        },
        "id": "EMNGUTtKWi8F",
        "outputId": "8b7088ca-f700-4ded-a8ca-cbf98e9be445"
      },
      "execution_count": null,
      "outputs": [
        {
          "output_type": "stream",
          "name": "stdout",
          "text": [
            "30\n"
          ]
        },
        {
          "output_type": "error",
          "ename": "IndexError",
          "evalue": "ignored",
          "traceback": [
            "\u001b[0;31m---------------------------------------------------------------------------\u001b[0m",
            "\u001b[0;31mIndexError\u001b[0m                                Traceback (most recent call last)",
            "\u001b[0;32m<ipython-input-10-c91a757fa6a1>\u001b[0m in \u001b[0;36m<module>\u001b[0;34m()\u001b[0m\n\u001b[1;32m      1\u001b[0m \u001b[0mdata\u001b[0m \u001b[0;34m=\u001b[0m \u001b[0;34m[\u001b[0m\u001b[0;36m10\u001b[0m\u001b[0;34m,\u001b[0m \u001b[0;36m20\u001b[0m\u001b[0;34m,\u001b[0m \u001b[0;36m30\u001b[0m\u001b[0;34m]\u001b[0m\u001b[0;34m\u001b[0m\u001b[0;34m\u001b[0m\u001b[0m\n\u001b[1;32m      2\u001b[0m \u001b[0mprint\u001b[0m\u001b[0;34m(\u001b[0m\u001b[0mdata\u001b[0m\u001b[0;34m[\u001b[0m\u001b[0;36m2\u001b[0m\u001b[0;34m]\u001b[0m\u001b[0;34m)\u001b[0m\u001b[0;34m\u001b[0m\u001b[0;34m\u001b[0m\u001b[0m\n\u001b[0;32m----> 3\u001b[0;31m \u001b[0mprint\u001b[0m\u001b[0;34m(\u001b[0m\u001b[0mdata\u001b[0m\u001b[0;34m[\u001b[0m\u001b[0;36m3\u001b[0m\u001b[0;34m]\u001b[0m\u001b[0;34m)\u001b[0m\u001b[0;34m\u001b[0m\u001b[0;34m\u001b[0m\u001b[0m\n\u001b[0m",
            "\u001b[0;31mIndexError\u001b[0m: list index out of range"
          ]
        }
      ]
    },
    {
      "cell_type": "code",
      "source": [
        "data = [10, 20, 30]\n",
        "string = \"오늘 파이썬 문법 종강입니다! 야호!\"\n",
        "try:\n",
        "  # print(4/0)\n",
        "  # print(data[3])\n",
        "  print(string)\n",
        "  print('%d' % string)\n",
        "except ZeroDivisionError:\n",
        "  print('나눗셈은 0으로 할 수 없습니다')\n",
        "except IndexError:\n",
        "  print('리스트의 인덱스 지정이 올바르지 않습니다')\n",
        "except:\n",
        "  print('데이터 타입이 올바르지 않습니다')\n",
        "finally:\n",
        "  print('오류가 발생하거나 발생하지 않아도 무조건 실행할 문장이 있다면 여기에 삽입!')\n",
        "\n",
        "print('dddd')"
      ],
      "metadata": {
        "id": "i6P2ipL9W-fz",
        "colab": {
          "base_uri": "https://localhost:8080/"
        },
        "outputId": "dfc548f1-6759-42ce-9765-3c8369cced07"
      },
      "execution_count": null,
      "outputs": [
        {
          "output_type": "stream",
          "name": "stdout",
          "text": [
            "오늘 파이썬 문법 종강입니다! 야호!\n",
            "데이터 타입이 올바르지 않습니다\n",
            "오류가 발생하거나 발생하지 않아도 무조건 실행할 문장이 있다면 여기에 삽입!\n"
          ]
        }
      ]
    },
    {
      "cell_type": "code",
      "source": [
        "data = ['010', '1', '10', '111', '50'] # 앞글자의 크기부터 정렬(문자열인 경우는 아스키코드 비교)\n",
        "data.sort()\n",
        "print(data)\n",
        "data.sort(reverse=True)\n",
        "print(data)"
      ],
      "metadata": {
        "colab": {
          "base_uri": "https://localhost:8080/"
        },
        "id": "w-iAg1W_LCMz",
        "outputId": "4b9979ed-a5f7-490c-efa9-5c3f5eb330ad"
      },
      "execution_count": null,
      "outputs": [
        {
          "output_type": "stream",
          "name": "stdout",
          "text": [
            "['010', '1', '10', '111', '50']\n",
            "['50', '111', '10', '1', '010']\n"
          ]
        }
      ]
    },
    {
      "cell_type": "code",
      "source": [
        "data = [101, 1, 10, 111, 50] # 숫자 비교\n",
        "data.sort()\n",
        "print(data)\n",
        "data.sort(reverse=True)\n",
        "print(data)"
      ],
      "metadata": {
        "colab": {
          "base_uri": "https://localhost:8080/"
        },
        "id": "VH1pDtxJODND",
        "outputId": "801b8fde-ff47-4943-c153-b23acc23f4d4"
      },
      "execution_count": null,
      "outputs": [
        {
          "output_type": "stream",
          "name": "stdout",
          "text": [
            "[1, 10, 50, 101, 111]\n",
            "[111, 101, 50, 10, 1]\n"
          ]
        }
      ]
    },
    {
      "cell_type": "code",
      "source": [
        "data = ['010', 1, '10', 111, '50']\n",
        "data.sort()\n",
        "print(data)\n",
        "data.sort(reverse=True)\n",
        "print(data)"
      ],
      "metadata": {
        "colab": {
          "base_uri": "https://localhost:8080/",
          "height": 248
        },
        "id": "vz2UqHLTOn6T",
        "outputId": "317fb5b5-569d-43cf-b080-1380197b7ed7"
      },
      "execution_count": null,
      "outputs": [
        {
          "output_type": "error",
          "ename": "TypeError",
          "evalue": "ignored",
          "traceback": [
            "\u001b[0;31m---------------------------------------------------------------------------\u001b[0m",
            "\u001b[0;31mTypeError\u001b[0m                                 Traceback (most recent call last)",
            "\u001b[0;32m<ipython-input-12-fe4bcbf799b3>\u001b[0m in \u001b[0;36m<module>\u001b[0;34m()\u001b[0m\n\u001b[1;32m      1\u001b[0m \u001b[0mdata\u001b[0m \u001b[0;34m=\u001b[0m \u001b[0;34m[\u001b[0m\u001b[0;34m'010'\u001b[0m\u001b[0;34m,\u001b[0m \u001b[0;36m1\u001b[0m\u001b[0;34m,\u001b[0m \u001b[0;34m'10'\u001b[0m\u001b[0;34m,\u001b[0m \u001b[0;36m111\u001b[0m\u001b[0;34m,\u001b[0m \u001b[0;34m'50'\u001b[0m\u001b[0;34m]\u001b[0m\u001b[0;34m\u001b[0m\u001b[0;34m\u001b[0m\u001b[0m\n\u001b[0;32m----> 2\u001b[0;31m \u001b[0mdata\u001b[0m\u001b[0;34m.\u001b[0m\u001b[0msort\u001b[0m\u001b[0;34m(\u001b[0m\u001b[0;34m)\u001b[0m\u001b[0;34m\u001b[0m\u001b[0;34m\u001b[0m\u001b[0m\n\u001b[0m\u001b[1;32m      3\u001b[0m \u001b[0mprint\u001b[0m\u001b[0;34m(\u001b[0m\u001b[0mdata\u001b[0m\u001b[0;34m)\u001b[0m\u001b[0;34m\u001b[0m\u001b[0;34m\u001b[0m\u001b[0m\n\u001b[1;32m      4\u001b[0m \u001b[0mdata\u001b[0m\u001b[0;34m.\u001b[0m\u001b[0msort\u001b[0m\u001b[0;34m(\u001b[0m\u001b[0mreverse\u001b[0m\u001b[0;34m=\u001b[0m\u001b[0;32mTrue\u001b[0m\u001b[0;34m)\u001b[0m\u001b[0;34m\u001b[0m\u001b[0;34m\u001b[0m\u001b[0m\n\u001b[1;32m      5\u001b[0m \u001b[0mprint\u001b[0m\u001b[0;34m(\u001b[0m\u001b[0mdata\u001b[0m\u001b[0;34m)\u001b[0m\u001b[0;34m\u001b[0m\u001b[0;34m\u001b[0m\u001b[0m\n",
            "\u001b[0;31mTypeError\u001b[0m: '<' not supported between instances of 'int' and 'str'"
          ]
        }
      ]
    },
    {
      "cell_type": "code",
      "source": [
        "# 숫자와 문자를 섞어 입력하면 숫자 + 문자 형식의 오름차순으로 정렬하여 출력\n",
        "# 정렬할 데이터를 입력하세요(999가 입력되면 정렬을 시작합니다) : abc\n",
        "# 정렬할 데이터를 입력하세요(999가 입력되면 정렬을 시작합니다) : 123\n",
        "# 정렬할 데이터를 입력하세요(999가 입력되면 정렬을 시작합니다) : bbb\n",
        "# 정렬할 데이터를 입력하세요(999가 입력되면 정렬을 시작합니다) : 1\n",
        "# 정렬할 데이터를 입력하세요(999가 입력되면 정렬을 시작합니다) : 999\n",
        "# [1, 123, 'abc', 'bbb']\n",
        "\n",
        "\n",
        "number = []\n",
        "alpha = []\n",
        "\n",
        "while True:\n",
        "  var = input('정렬할 데이터를 입력하세요(999가 입력되면 정렬을 시작합니다) : ')\n",
        "  if var == '999':\n",
        "    break\n",
        "  try:\n",
        "    number.append(int(var))\n",
        "  except:\n",
        "    alpha.append(var)\n",
        "\n",
        "number.sort()\n",
        "alpha.sort()\n",
        "print(number + alpha)\n",
        "\n",
        "# [1, 123, 'abc', 'bbb']"
      ],
      "metadata": {
        "colab": {
          "base_uri": "https://localhost:8080/"
        },
        "id": "QS3efOF8O95T",
        "outputId": "17a89318-4f01-4de4-fd97-1c3cd4265a15"
      },
      "execution_count": null,
      "outputs": [
        {
          "output_type": "stream",
          "name": "stdout",
          "text": [
            "정렬할 데이터를 입력하세요(999가 입력되면 정렬을 시작합니다) : abc\n",
            "정렬할 데이터를 입력하세요(999가 입력되면 정렬을 시작합니다) : 123\n",
            "정렬할 데이터를 입력하세요(999가 입력되면 정렬을 시작합니다) : bbb\n",
            "정렬할 데이터를 입력하세요(999가 입력되면 정렬을 시작합니다) : 1\n",
            "정렬할 데이터를 입력하세요(999가 입력되면 정렬을 시작합니다) : 999\n",
            "[1, 123, 'abc', 'bbb']\n"
          ]
        }
      ]
    },
    {
      "cell_type": "code",
      "source": [
        ""
      ],
      "metadata": {
        "id": "IK0TIPOEUL-V"
      },
      "execution_count": null,
      "outputs": []
    }
  ]
}