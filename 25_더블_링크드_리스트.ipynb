{
  "nbformat": 4,
  "nbformat_minor": 0,
  "metadata": {
    "colab": {
      "name": "25_더블 링크드 리스트.ipynb",
      "provenance": [],
      "collapsed_sections": []
    },
    "kernelspec": {
      "name": "python3",
      "display_name": "Python 3"
    },
    "language_info": {
      "name": "python"
    }
  },
  "cells": [
    {
      "cell_type": "markdown",
      "source": [
        "# **1. 더블 링크드 리스트(Doubly Linked List)**"
      ],
      "metadata": {
        "id": "LX33G__sMqt9"
      }
    },
    {
      "cell_type": "markdown",
      "source": [
        "* 양방향으로 연결되어 있어서 노드 탐색이 양쪽으로 모두 가능"
      ],
      "metadata": {
        "id": "vxeMf8avM0bt"
      }
    },
    {
      "cell_type": "code",
      "source": [
        "class Node:\n",
        "  def __init__(self, data, prev = None, next = None):\n",
        "    self.prev = prev\n",
        "    self.data = data\n",
        "    self.next = next"
      ],
      "metadata": {
        "id": "zebC_hp3M5Tq"
      },
      "execution_count": null,
      "outputs": []
    },
    {
      "cell_type": "code",
      "source": [
        "class NodeMgmt:\n",
        "  def __init__(self, data):\n",
        "    self.head = Node(data)\n",
        "    self.tail = self.head\n",
        "\n",
        "  def insert(self, data):\n",
        "    if self.head == None:\n",
        "      self.head = Node(data)\n",
        "      self.tail = self\n",
        "    else:\n",
        "      node = self.head\n",
        "      while node.next:\n",
        "        node = node.next\n",
        "      new = Node(data)\n",
        "      node.next = new\n",
        "      new.prev = node\n",
        "      self.tail = new\n",
        "\n",
        "  def node_print(self):\n",
        "    node = self.head\n",
        "    while node:\n",
        "      print(node.data)\n",
        "      node = node.next\n",
        "  \n",
        "  def search_from_head(self, data):\n",
        "    if self.head == None:\n",
        "      return False\n",
        "    node = self.head\n",
        "    while node:\n",
        "      if node.data == data:\n",
        "        return node\n",
        "      else:\n",
        "        node = node.next\n",
        "    return False\n",
        "  \n",
        "  def search_from_tail(self, data):\n",
        "    if self.tail == None:\n",
        "      return False\n",
        "    node = self.tail\n",
        "    while node:\n",
        "      if node.data == data:\n",
        "        return node\n",
        "      else:\n",
        "        node = node.prev\n",
        "    return False\n",
        "\n",
        "  def insert_before(self, data, before_data):\n",
        "    if self.head == None:\n",
        "      self.head = Node(data)\n",
        "      return True\n",
        "    else:\n",
        "      node = self.tail\n",
        "      while node.data != before_data:\n",
        "        node = node.prev\n",
        "        if node == None:\n",
        "          return False\n",
        "      new = Node(data)\n",
        "      before_new = node.prev\n",
        "      before_new.next = new\n",
        "      new.prev = before_new\n",
        "      new.next = node\n",
        "      node.prev = new\n",
        "      return True"
      ],
      "metadata": {
        "id": "AMVWojGaNcW-"
      },
      "execution_count": null,
      "outputs": []
    },
    {
      "cell_type": "code",
      "source": [
        "double_linked_list = NodeMgmt(0)\n",
        "\n",
        "for data in range(1, 11):\n",
        "  double_linked_list.insert(data)\n",
        "\n",
        "double_linked_list.node_print()"
      ],
      "metadata": {
        "colab": {
          "base_uri": "https://localhost:8080/"
        },
        "id": "pjPFHv7vU29z",
        "outputId": "97ae0b4d-c1a1-48a8-c9ba-9274ae34ef8b"
      },
      "execution_count": null,
      "outputs": [
        {
          "output_type": "stream",
          "name": "stdout",
          "text": [
            "0\n",
            "1\n",
            "2\n",
            "3\n",
            "4\n",
            "5\n",
            "6\n",
            "7\n",
            "8\n",
            "9\n",
            "10\n"
          ]
        }
      ]
    },
    {
      "cell_type": "markdown",
      "source": [
        "# **문제.**\n",
        "위 코드에서 앞에서부터 검색하여 전달한 값이 존재하는 경우 해당 값을 출력, 존재하지 않는 경우 false를 출력하는 함수를 만들어보자."
      ],
      "metadata": {
        "id": "vY7P1uxkPADd"
      }
    },
    {
      "cell_type": "code",
      "source": [
        "search_result = double_linked_list.search_from_head(7)\n",
        "print(search_result.data)"
      ],
      "metadata": {
        "colab": {
          "base_uri": "https://localhost:8080/"
        },
        "id": "7sf-xscUQpzU",
        "outputId": "f3edf114-727b-4dc7-9abb-7973840b30e9"
      },
      "execution_count": null,
      "outputs": [
        {
          "output_type": "stream",
          "name": "stdout",
          "text": [
            "7\n"
          ]
        }
      ]
    },
    {
      "cell_type": "code",
      "source": [
        "search_result = double_linked_list.search_from_head(7)\n",
        "print(search_result.data)"
      ],
      "metadata": {
        "colab": {
          "base_uri": "https://localhost:8080/"
        },
        "id": "8OCdt5VyVOvy",
        "outputId": "663e4ae9-c2a5-4972-d810-375ca07ebc18"
      },
      "execution_count": null,
      "outputs": [
        {
          "output_type": "stream",
          "name": "stdout",
          "text": [
            "7\n"
          ]
        }
      ]
    },
    {
      "cell_type": "markdown",
      "source": [
        "# **문제.**\n",
        "위 코드에서 뒤에서부터 검색하여 전달한 값이 존재하는 경우 해당 값을 출력, 존재하지 않는 경우 false를 출력하는 함수를 만들어보자."
      ],
      "metadata": {
        "id": "x7KPGUj3PKiz"
      }
    },
    {
      "cell_type": "code",
      "source": [
        "search_result = double_linked_list.search_from_tail(3)\n",
        "print(search_result.data)"
      ],
      "metadata": {
        "colab": {
          "base_uri": "https://localhost:8080/"
        },
        "id": "U35ARVXjPVtE",
        "outputId": "7c4dbd31-a806-4fc9-a3a4-aed097802f8b"
      },
      "execution_count": null,
      "outputs": [
        {
          "output_type": "stream",
          "name": "stdout",
          "text": [
            "3\n"
          ]
        }
      ]
    },
    {
      "cell_type": "markdown",
      "source": [
        "### **문제.**\n",
        "위 코드에서 노드 데이터가 특정 숫자인 노드 앞에 데이터를 추가하는 함수를 만들고 테스트해보자"
      ],
      "metadata": {
        "id": "efmkJMQ5VeQ4"
      }
    },
    {
      "cell_type": "code",
      "source": [
        "double_linked_list.insert_before(2.5, 3)\n",
        "double_linked_list.node_print()"
      ],
      "metadata": {
        "colab": {
          "base_uri": "https://localhost:8080/"
        },
        "id": "yDIN9zKjZzkQ",
        "outputId": "1846adbe-979a-4e9d-8326-b48a4e118e77"
      },
      "execution_count": null,
      "outputs": [
        {
          "output_type": "stream",
          "name": "stdout",
          "text": [
            "0\n",
            "1\n",
            "2\n",
            "2.5\n",
            "3\n",
            "4\n",
            "5\n",
            "6\n",
            "7\n",
            "8\n",
            "9\n",
            "10\n"
          ]
        }
      ]
    },
    {
      "cell_type": "code",
      "source": [
        ""
      ],
      "metadata": {
        "id": "4ra8xCEseBcu"
      },
      "execution_count": null,
      "outputs": []
    }
  ]
}