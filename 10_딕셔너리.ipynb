{
  "nbformat": 4,
  "nbformat_minor": 0,
  "metadata": {
    "colab": {
      "name": "10_딕셔너리.ipynb",
      "provenance": [],
      "collapsed_sections": []
    },
    "kernelspec": {
      "name": "python3",
      "display_name": "Python 3"
    },
    "language_info": {
      "name": "python"
    }
  },
  "cells": [
    {
      "cell_type": "markdown",
      "source": [
        "# 1. 딕셔너리(Dictionary)"
      ],
      "metadata": {
        "id": "YA9pawvDk8TQ"
      }
    },
    {
      "cell_type": "markdown",
      "source": [
        "* 대응관계를 나타내는 자료형으로 key와 value라는 것을 한 쌍으로 갖는 형태\n",
        "* 하나의 딕셔너리의 키값은 중복될 수 없음\n",
        "* 하나의 딕셔너리의 값은 중복될 수 있음"
      ],
      "metadata": {
        "id": "Eq-okDo6lCd4"
      }
    },
    {
      "cell_type": "markdown",
      "source": [
        "### 1-1. 딕셔너리 만들기"
      ],
      "metadata": {
        "id": "T1gG6GnQlR6P"
      }
    },
    {
      "cell_type": "code",
      "source": [
        "dic1 = {}\n",
        "print(dic1)\n",
        "\n",
        "dic2 = {'no':1, 'userid':'apple', 'name':'김사과', 'hp':'010-1111-1111'}\n",
        "print(dic2)"
      ],
      "metadata": {
        "colab": {
          "base_uri": "https://localhost:8080/"
        },
        "id": "pYmySl-wlnRk",
        "outputId": "941fa5f9-5aa4-4e03-9d0c-3b959ffba210"
      },
      "execution_count": null,
      "outputs": [
        {
          "output_type": "stream",
          "name": "stdout",
          "text": [
            "{}\n",
            "{'no': 1, 'userid': 'apple', 'name': '김사과', 'hp': '010-1111-1111'}\n"
          ]
        }
      ]
    },
    {
      "cell_type": "markdown",
      "source": [
        "### 1-2. 키로 값 찾기"
      ],
      "metadata": {
        "id": "lEg0m-qplspB"
      }
    },
    {
      "cell_type": "code",
      "source": [
        "dic2 = {'no':1, 'userid':'apple', 'name':'김사과', 'hp':'010-1111-1111'}\n",
        "print(dic2['no'])\n",
        "print(dic2['userid'])\n",
        "print(dic2['name'])\n",
        "print(dic2['hp'])"
      ],
      "metadata": {
        "colab": {
          "base_uri": "https://localhost:8080/"
        },
        "id": "oFnXy0HImP6q",
        "outputId": "2ef7713e-eae6-4859-d8b7-f3cba6be68ee"
      },
      "execution_count": null,
      "outputs": [
        {
          "output_type": "stream",
          "name": "stdout",
          "text": [
            "1\n",
            "apple\n",
            "김사과\n",
            "010-1111-1111\n"
          ]
        }
      ]
    },
    {
      "cell_type": "markdown",
      "source": [
        "### **1-3. 데이터 추가 및 삭제**"
      ],
      "metadata": {
        "id": "K1AT4LLvmasl"
      }
    },
    {
      "cell_type": "code",
      "source": [
        "dic3 = {1:'apple'}\n",
        "print(dic3)\n",
        "\n",
        "dic3[100] = 'orange'\n",
        "print(dic3)\n",
        "\n",
        "dic3[50] = 'banana'\n",
        "print(dic3)\n",
        "\n",
        "dic3[1] = 'melon' # 키는 중복될 수 없으므로 값이 변경됨\n",
        "print(dic3)\n",
        "\n",
        "del dic3[50]\n",
        "print(dic3)"
      ],
      "metadata": {
        "colab": {
          "base_uri": "https://localhost:8080/"
        },
        "id": "X_ezJ3nxmpQ6",
        "outputId": "fc3020d9-8165-4fd3-f067-45f2fcbd638b"
      },
      "execution_count": null,
      "outputs": [
        {
          "output_type": "stream",
          "name": "stdout",
          "text": [
            "{1: 'apple'}\n",
            "{1: 'apple', 100: 'orange'}\n",
            "{1: 'apple', 100: 'orange', 50: 'banana'}\n",
            "{1: 'melon', 100: 'orange', 50: 'banana'}\n",
            "{1: 'melon', 100: 'orange'}\n"
          ]
        }
      ]
    },
    {
      "cell_type": "markdown",
      "source": [
        "### **1-4. 딕셔너리 함수**"
      ],
      "metadata": {
        "id": "RbyCj9dWmvt5"
      }
    },
    {
      "cell_type": "code",
      "source": [
        "dic2 = {'no':1, 'userid':'apple', 'name':'김사과', 'hp':'010-1111-1111'}\n",
        "\n",
        "# keys() : key 리스트를 반환\n",
        "print(dic2.keys())\n",
        "\n",
        "# values() : value 리스트를 반환\n",
        "print(dic2.values())\n",
        "\n",
        "# items() : key와 value를 한 쌍으로 묶는 튜플을 리턴\n",
        "print(dic2.items())\n",
        "\n",
        "# get() : key를 이용해서 value를 반환\n",
        "print(dic2.get(\"name\"))\n",
        "print(dic2[\"name\"])\n",
        "print(dic2.get(\"hp\"))\n",
        "print(dic2.get(\"age\")) # None\n",
        "print(dic2.get(\"age\", \"모름\")) # 값이 없다면 \"모름\"으로 출력\n",
        "\n",
        "# in : key가 딕셔너리 안에 있는지 확인\n",
        "print('name' in dic2) # True\n",
        "print('age' in dic2) # False"
      ],
      "metadata": {
        "colab": {
          "base_uri": "https://localhost:8080/"
        },
        "id": "a0bJwiq6ncx6",
        "outputId": "a4234736-3209-4ae2-f034-3f3dfb0d72dd"
      },
      "execution_count": null,
      "outputs": [
        {
          "output_type": "stream",
          "name": "stdout",
          "text": [
            "dict_keys(['no', 'userid', 'name', 'hp'])\n",
            "dict_values([1, 'apple', '김사과', '010-1111-1111'])\n",
            "dict_items([('no', 1), ('userid', 'apple'), ('name', '김사과'), ('hp', '010-1111-1111')])\n",
            "김사과\n",
            "김사과\n",
            "010-1111-1111\n",
            "None\n",
            "모름\n",
            "True\n",
            "False\n"
          ]
        }
      ]
    },
    {
      "cell_type": "markdown",
      "source": [
        "### **1-5. 딕셔너리와 for**"
      ],
      "metadata": {
        "id": "9Hm2i4reno9e"
      }
    },
    {
      "cell_type": "code",
      "source": [
        "dic2 = {'no':1, 'userid':'apple', 'name':'김사과', 'hp':'010-1111-1111'}\n",
        "\n",
        "for i in dic2:\n",
        "  print(i, end = ' ')\n",
        "\n",
        "print()\n",
        "\n",
        "for i in dic2.keys():\n",
        "  print(i, end = ' ')\n",
        "\n",
        "print()\n",
        "\n",
        "for i in dic2.values():\n",
        "  print(i, end = ' ')\n",
        "\n",
        "print()\n",
        "\n",
        "for i in dic2:\n",
        "  print(dic2[i], end = ' ')"
      ],
      "metadata": {
        "colab": {
          "base_uri": "https://localhost:8080/"
        },
        "id": "cnqqZulmp4x9",
        "outputId": "ac9bbc0b-d256-4927-bc05-04937c5d7a44"
      },
      "execution_count": null,
      "outputs": [
        {
          "output_type": "stream",
          "name": "stdout",
          "text": [
            "no userid name hp \n",
            "no userid name hp \n",
            "1 apple 김사과 010-1111-1111 \n",
            "1 apple 김사과 010-1111-1111 "
          ]
        }
      ]
    },
    {
      "cell_type": "markdown",
      "source": [
        "### **과제**"
      ],
      "metadata": {
        "id": "Bh97_z6xqG0k"
      }
    },
    {
      "cell_type": "markdown",
      "source": [
        "아래와 같이 딕셔너리 자료에서 주민등록번호를 추출하여 성별을 알아내는 프로그램을 작성해보자.\n",
        "(단, ssn의 7번째 자리의 성별은 1, 3 \"남자\", 2, 4는 \"여자\"라고 함)\n",
        "\n",
        "> user = {\"name\":\"김사과\", \"hp\":\"010-1111-1111\", \"ssn\":\"0010114068518\"}"
      ],
      "metadata": {
        "id": "xgouGL6aqyrj"
      }
    },
    {
      "cell_type": "code",
      "source": [
        "user = {\"name\":\"김사과\", \"hp\":\"010-1111-1111\", \"ssn\":\"0010114068518\"}\n",
        "\n",
        "for i in user.keys():\n",
        "  if i == \"ssn\":\n",
        "    ssn = user.get(i) # 0010114068518\n",
        "    if ssn[6] == \"1\" or ssn[6] == \"3\":\n",
        "      print(\"남자입니다.\")\n",
        "    elif ssn[6] == \"2\" or ssn[6] == \"4\":\n",
        "      print(\"여자입니다.\")"
      ],
      "metadata": {
        "colab": {
          "base_uri": "https://localhost:8080/"
        },
        "id": "l-tslSnPYQ2C",
        "outputId": "761565be-26eb-4a73-dfaf-7bd9e20935b0"
      },
      "execution_count": null,
      "outputs": [
        {
          "output_type": "stream",
          "name": "stdout",
          "text": [
            "여자입니다.\n"
          ]
        }
      ]
    },
    {
      "cell_type": "code",
      "source": [
        ""
      ],
      "metadata": {
        "id": "UaTarH32vqUN"
      },
      "execution_count": null,
      "outputs": []
    }
  ]
}
