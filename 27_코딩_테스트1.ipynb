{
  "nbformat": 4,
  "nbformat_minor": 0,
  "metadata": {
    "colab": {
      "name": "27_코딩 테스트1.ipynb",
      "provenance": [],
      "collapsed_sections": []
    },
    "kernelspec": {
      "name": "python3",
      "display_name": "Python 3"
    },
    "language_info": {
      "name": "python"
    }
  },
  "cells": [
    {
      "cell_type": "markdown",
      "source": [
        "# **1. 좌표 정렬하기**"
      ],
      "metadata": {
        "id": "JNqiAFeIpLoz"
      }
    },
    {
      "cell_type": "markdown",
      "source": [
        "* https://www.acmicpc.net/problem/11650"
      ],
      "metadata": {
        "id": "3jrHvYCjpR9n"
      }
    },
    {
      "cell_type": "code",
      "source": [
        "n = int(input())\n",
        "\n",
        "array = []\n",
        "\n",
        "for _ in range(n):\n",
        "  x, y = map(int, input().split(' '))\n",
        "  array.append((x, y))\n",
        "\n",
        "array = sorted(array)\n",
        "\n",
        "for i in array:\n",
        "  print(i[0], i[1])"
      ],
      "metadata": {
        "colab": {
          "base_uri": "https://localhost:8080/"
        },
        "id": "Lk__js5ApWed",
        "outputId": "e4f904eb-ffdb-4d61-ce6c-57c5a582ef70"
      },
      "execution_count": null,
      "outputs": [
        {
          "output_type": "stream",
          "name": "stdout",
          "text": [
            "5\n",
            "3 4\n",
            "1 1\n",
            "1 -1\n",
            "2 2\n",
            "3 3\n",
            "1 -1\n",
            "1 1\n",
            "2 2\n",
            "3 3\n",
            "3 4\n"
          ]
        }
      ]
    },
    {
      "cell_type": "markdown",
      "source": [
        "### **sort()**\n",
        "* 리스트의 메소드\n",
        "* 원래 목록의 영향"
      ],
      "metadata": {
        "id": "h24dhGzmu2-R"
      }
    },
    {
      "cell_type": "code",
      "source": [
        "li = [1, 4, 3, 5, 2]\n",
        "li.sort()\n",
        "print(li)"
      ],
      "metadata": {
        "colab": {
          "base_uri": "https://localhost:8080/"
        },
        "id": "pYbeXP6mv2kZ",
        "outputId": "7f30d1bb-6613-41d5-e4ec-7bf2099a56b6"
      },
      "execution_count": null,
      "outputs": [
        {
          "output_type": "stream",
          "name": "stdout",
          "text": [
            "[1, 2, 3, 4, 5]\n"
          ]
        }
      ]
    },
    {
      "cell_type": "markdown",
      "source": [
        "### **sorted()**\n",
        "* 파이썬 표준 내장함수\n",
        "* 새로운 정렬 결과를 리턴, 원래 자료는 영향을 주지 않음"
      ],
      "metadata": {
        "id": "FtCGD0nCv7tV"
      }
    },
    {
      "cell_type": "code",
      "source": [
        "li = [1, 4, 3, 5, 2]\n",
        "result = sorted(li)\n",
        "print(li)\n",
        "print(result)"
      ],
      "metadata": {
        "colab": {
          "base_uri": "https://localhost:8080/"
        },
        "id": "ijBQ441ewIBJ",
        "outputId": "5871f2b7-8dc1-486b-cb6d-2f22886a0e3b"
      },
      "execution_count": null,
      "outputs": [
        {
          "output_type": "stream",
          "name": "stdout",
          "text": [
            "[1, 4, 3, 5, 2]\n",
            "[1, 2, 3, 4, 5]\n"
          ]
        }
      ]
    },
    {
      "cell_type": "markdown",
      "source": [
        "# **2. 소트인사이드**"
      ],
      "metadata": {
        "id": "96w_0Y1BwOjF"
      }
    },
    {
      "cell_type": "markdown",
      "source": [
        "* https://www.acmicpc.net/problem/1427"
      ],
      "metadata": {
        "id": "_UHS-sCizJ4Q"
      }
    },
    {
      "cell_type": "code",
      "source": [
        "array = input()\n",
        "\n",
        "for i in range(9, -1, -1):\n",
        "  for j in array:\n",
        "    if int(j) == i:\n",
        "      print(i, end = '')"
      ],
      "metadata": {
        "id": "Eo-xxC7O0JCN",
        "colab": {
          "base_uri": "https://localhost:8080/"
        },
        "outputId": "4b147f47-1991-48e0-d4f5-2e9fe6cccfd3"
      },
      "execution_count": null,
      "outputs": [
        {
          "output_type": "stream",
          "name": "stdout",
          "text": [
            "9999989999\n",
            "9999999998"
          ]
        }
      ]
    },
    {
      "cell_type": "code",
      "source": [
        ""
      ],
      "metadata": {
        "id": "pvh0-RQE3ZiU"
      },
      "execution_count": null,
      "outputs": []
    }
  ]
}