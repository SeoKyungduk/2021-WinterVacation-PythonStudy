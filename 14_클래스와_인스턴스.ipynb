{
  "nbformat": 4,
  "nbformat_minor": 0,
  "metadata": {
    "colab": {
      "name": "14_클래스와 인스턴스.ipynb",
      "provenance": [],
      "collapsed_sections": []
    },
    "kernelspec": {
      "name": "python3",
      "display_name": "Python 3"
    },
    "language_info": {
      "name": "python"
    }
  },
  "cells": [
    {
      "cell_type": "markdown",
      "source": [
        "# **1. 객체지향 프로그래밍**"
      ],
      "metadata": {
        "id": "9QXIW-xTJKVF"
      }
    },
    {
      "cell_type": "markdown",
      "source": [
        "* 문제를 여러 개의 객체 단위로 나눠 작업하는 방식\n",
        "* 클래스를 이용해 연관 있는 처리 부분과 데이터 부분을 하나로 묶어 객체를 생성해 사용함"
      ],
      "metadata": {
        "id": "jvrOf9USJQ3_"
      }
    },
    {
      "cell_type": "markdown",
      "source": [
        "### **1-1. 클래스와 객체**"
      ],
      "metadata": {
        "id": "hoHLeGJCLSNO"
      }
    },
    {
      "cell_type": "markdown",
      "source": [
        "* 객체는 클래스로 생성되어 구체화된 인스턴스\n",
        "* 실제로 클래스가 인스턴스화 되어 메모리에 상주하는 상태를 객체라고 부름\n",
        "* 건축 설계도가 클래스라면, 실제로 지어진 집은 객체로 비유\n",
        "* 파이썬의 모든 변수는 객체"
      ],
      "metadata": {
        "id": "mpaTwx5HOwvF"
      }
    },
    {
      "cell_type": "markdown",
      "source": [
        "### **1-2. 클래스 만들기**"
      ],
      "metadata": {
        "id": "oXTjq2D0Q7F4"
      }
    },
    {
      "cell_type": "markdown",
      "source": [
        "```\n",
        "class 클래스명:\n",
        "  def __init__():\n",
        "    객체가 메모리에 올라갈 때 가장 먼저 실행될 문장\n",
        "\n",
        "  def 메소드명:\n",
        "    메소드가 호출되면 실행될 문장\n",
        "\n",
        "```"
      ],
      "metadata": {
        "id": "6KxGNUAiSLOG"
      }
    },
    {
      "cell_type": "code",
      "source": [
        "# 기능이 없는 클래스\n",
        "class Dog:\n",
        "  pass # 내용이 없는 블록을 실행"
      ],
      "metadata": {
        "id": "_AJ7-dAzR-_O"
      },
      "execution_count": null,
      "outputs": []
    },
    {
      "cell_type": "code",
      "source": [
        "# 클래스를 통해 객체를 생성\n",
        "Rucy = Dog()\n",
        "PPomi = Dog()\n",
        "print(type(Rucy), type(PPomi))\n",
        "print(Rucy, PPomi)"
      ],
      "metadata": {
        "colab": {
          "base_uri": "https://localhost:8080/"
        },
        "id": "PNIiuOFgS4AX",
        "outputId": "07fd61b2-2240-4e57-fc99-ecfd863d49e5"
      },
      "execution_count": null,
      "outputs": [
        {
          "output_type": "stream",
          "name": "stdout",
          "text": [
            "<class '__main__.Dog'> <class '__main__.Dog'>\n",
            "<__main__.Dog object at 0x7f6d77266710> <__main__.Dog object at 0x7f6d772667d0>\n"
          ]
        }
      ]
    },
    {
      "cell_type": "code",
      "source": [
        "li1 = list([1, 2])\n",
        "li2 = list([1, 2])\n",
        "print(type(li1), type(li2))"
      ],
      "metadata": {
        "colab": {
          "base_uri": "https://localhost:8080/"
        },
        "id": "FBIQSkHuTmSx",
        "outputId": "9543edb0-d34b-43ac-b9fb-779b846a74e6"
      },
      "execution_count": null,
      "outputs": [
        {
          "output_type": "stream",
          "name": "stdout",
          "text": [
            "<class 'list'> <class 'list'>\n"
          ]
        }
      ]
    },
    {
      "cell_type": "code",
      "source": [
        "a = 10\n",
        "print(type(a)) # <class 'int'>"
      ],
      "metadata": {
        "colab": {
          "base_uri": "https://localhost:8080/"
        },
        "id": "jIGmvdyMUNTw",
        "outputId": "7bdb878d-a3b5-4823-962d-8eb6e6e792ed"
      },
      "execution_count": null,
      "outputs": [
        {
          "output_type": "stream",
          "name": "stdout",
          "text": [
            "<class 'int'>\n"
          ]
        }
      ]
    },
    {
      "cell_type": "markdown",
      "source": [
        "### **1-3. 생성자**"
      ],
      "metadata": {
        "id": "dFME_4gOUWim"
      }
    },
    {
      "cell_type": "markdown",
      "source": [
        "* 클래스 인스턴스가 생성될 때 호출됨\n",
        "* __ init __(self):\n",
        "* self 매개변수는 항상 첫 번째에 오며, 자기 자신을 가리킴\n",
        "* 이름이 꼭 self일 필요는 없지만, 관례적으로 self를 사용\n",
        "* 생성자에서는 해당 클래스가 다루는 데이터를 정의"
      ],
      "metadata": {
        "id": "J3nshsypUlKk"
      }
    },
    {
      "cell_type": "code",
      "source": [
        "class Dog:\n",
        "  def __init__(self):\n",
        "    print(self, '만들어짐')\n",
        "    self.name = '무명'\n",
        "    self.age = 0"
      ],
      "metadata": {
        "id": "bE86i9XNVNw9"
      },
      "execution_count": null,
      "outputs": []
    },
    {
      "cell_type": "code",
      "source": [
        "Rucy = Dog()\n",
        "print(Rucy.name)\n",
        "print(Rucy.age)\n",
        "\n",
        "PPomi = Dog()\n",
        "print(PPomi.name)\n",
        "print(PPomi.age)"
      ],
      "metadata": {
        "colab": {
          "base_uri": "https://localhost:8080/"
        },
        "id": "qayUTPSQVoo-",
        "outputId": "ae089c95-d69e-4d24-b73b-88955a1c2454"
      },
      "execution_count": null,
      "outputs": [
        {
          "output_type": "stream",
          "name": "stdout",
          "text": [
            "<__main__.Dog object at 0x7f6d7300cd50> 만들어짐\n",
            "무명\n",
            "0\n",
            "<__main__.Dog object at 0x7f6d7300cc50> 만들어짐\n",
            "무명\n",
            "0\n"
          ]
        }
      ]
    },
    {
      "cell_type": "code",
      "source": [
        "Rucy.name = \"루시\"\n",
        "Rucy.age = 12"
      ],
      "metadata": {
        "id": "t6sqGGZTVrcV"
      },
      "execution_count": null,
      "outputs": []
    },
    {
      "cell_type": "code",
      "source": [
        "print(Rucy.name)\n",
        "print(Rucy.age)\n",
        "\n",
        "print(PPomi.name)\n",
        "print(PPomi.age)"
      ],
      "metadata": {
        "colab": {
          "base_uri": "https://localhost:8080/"
        },
        "id": "VnChUFN8XtNm",
        "outputId": "553ce53a-c2ff-4789-9809-a933cffc7dee"
      },
      "execution_count": null,
      "outputs": [
        {
          "output_type": "stream",
          "name": "stdout",
          "text": [
            "루시\n",
            "12\n",
            "무명\n",
            "0\n"
          ]
        }
      ]
    },
    {
      "cell_type": "code",
      "source": [
        "class Dog:\n",
        "  def __init__(self, name, age, family = \"포메\"):\n",
        "    self.name = name\n",
        "    self.age = age\n",
        "    self.family = family"
      ],
      "metadata": {
        "id": "bIcD0LcDX-mP"
      },
      "execution_count": null,
      "outputs": []
    },
    {
      "cell_type": "code",
      "source": [
        "Rucy = Dog(\"루시\", 12)\n",
        "print(Rucy.name, Rucy.age, Rucy.family)\n",
        "\n",
        "PPomi = Dog(\"포미\", 6, \"폼피츠\")\n",
        "print(PPomi.name, PPomi.age, PPomi.family)"
      ],
      "metadata": {
        "colab": {
          "base_uri": "https://localhost:8080/"
        },
        "id": "LOZg53clYvuB",
        "outputId": "286f5044-cf15-44f1-c70b-0a0dead037a5"
      },
      "execution_count": null,
      "outputs": [
        {
          "output_type": "stream",
          "name": "stdout",
          "text": [
            "루시 12 포메\n",
            "포미 6 폼피츠\n"
          ]
        }
      ]
    },
    {
      "cell_type": "markdown",
      "source": [
        "### **1-4. 메소드 정의하기**"
      ],
      "metadata": {
        "id": "MwT6DNlzY0Nw"
      }
    },
    {
      "cell_type": "markdown",
      "source": [
        "* 멤버함수라고도 하며, 해당 클래스의 객체에서만 호출가능한 함수\n",
        "* 메소드는 객체에서만 호출되며, 해당 객체의 속성에 대한 연산을 행함\n",
        "* 객체.메소드명() 형태로 호출됨"
      ],
      "metadata": {
        "id": "nlloyNUGfTD2"
      }
    },
    {
      "cell_type": "code",
      "source": [
        "class Counter:\n",
        "  def __init__(self):\n",
        "    self.num = 0\n",
        "  def increment(self):\n",
        "    self.num += 1\n",
        "  def current_value(self):\n",
        "    return \"대기인원 : \" + str(self.num)\n",
        "  def reset(self):\n",
        "    self.num = 0"
      ],
      "metadata": {
        "id": "hRixlKCNfzG6"
      },
      "execution_count": null,
      "outputs": []
    },
    {
      "cell_type": "code",
      "source": [
        "KBbank = Counter()\n",
        "print(KBbank.num)\n",
        "\n",
        "KBbank.increment()\n",
        "print(KBbank.num)\n",
        "\n",
        "KBbank.current_value()"
      ],
      "metadata": {
        "colab": {
          "base_uri": "https://localhost:8080/",
          "height": 72
        },
        "id": "5vcEpdBhgict",
        "outputId": "7567c9ed-0fee-456f-a8c7-0ffc29cb235e"
      },
      "execution_count": null,
      "outputs": [
        {
          "output_type": "stream",
          "name": "stdout",
          "text": [
            "0\n",
            "1\n"
          ]
        },
        {
          "output_type": "execute_result",
          "data": {
            "application/vnd.google.colaboratory.intrinsic+json": {
              "type": "string"
            },
            "text/plain": [
              "'대기인원 : 1'"
            ]
          },
          "metadata": {},
          "execution_count": 28
        }
      ]
    },
    {
      "cell_type": "code",
      "source": [
        "HanaBank = Counter()\n",
        "print(HanaBank.num)\n",
        "\n",
        "HanaBank.increment()\n",
        "HanaBank.increment()\n",
        "HanaBank.increment()\n",
        "HanaBank.increment()\n",
        "print(HanaBank.num)\n",
        "HanaBank.current_value()\n",
        "HanaBank.reset()\n",
        "print(HanaBank.num)"
      ],
      "metadata": {
        "colab": {
          "base_uri": "https://localhost:8080/"
        },
        "id": "Diq5glZ7gsO4",
        "outputId": "156d60ea-2bc9-4cca-b798-e69cfb07b9ae"
      },
      "execution_count": null,
      "outputs": [
        {
          "output_type": "stream",
          "name": "stdout",
          "text": [
            "0\n",
            "4\n",
            "0\n"
          ]
        }
      ]
    },
    {
      "cell_type": "markdown",
      "source": [
        "### 1-5. 메소드 타입"
      ],
      "metadata": {
        "id": "7ZUnbilghBuO"
      }
    },
    {
      "cell_type": "markdown",
      "source": [
        "* instance method : 객체 형태로 호출되기 때문에 해당 메소드를 호출한 객체에만 영향을 미침\n",
        "* class method : class로 호출\n",
        "> 함수 선언 위에 @staticmethod 라고 표기"
      ],
      "metadata": {
        "id": "gT7TbG2ihmna"
      }
    },
    {
      "cell_type": "code",
      "source": [
        "class Math:\n",
        "  def add(self, x, y):\n",
        "    return x + y\n",
        "  def multiply(self, x, y):\n",
        "    return x * y"
      ],
      "metadata": {
        "id": "nxKe2KShh7Ir"
      },
      "execution_count": null,
      "outputs": []
    },
    {
      "cell_type": "code",
      "source": [
        "math = Math()\n",
        "result1 = math.add(10, 5)\n",
        "result2 = math.multiply(10, 5)\n",
        "print(result1, result2)"
      ],
      "metadata": {
        "colab": {
          "base_uri": "https://localhost:8080/"
        },
        "id": "N5C75RuZiRwz",
        "outputId": "ca5298ae-1c5a-4b2d-8d1f-63aca0990642"
      },
      "execution_count": null,
      "outputs": [
        {
          "output_type": "stream",
          "name": "stdout",
          "text": [
            "15 50\n"
          ]
        }
      ]
    },
    {
      "cell_type": "code",
      "source": [
        "class Math:\n",
        "  @staticmethod\n",
        "  def add(x, y):\n",
        "    return x + y\n",
        "  @staticmethod\n",
        "  def multiply(x, y):\n",
        "    return x * y"
      ],
      "metadata": {
        "id": "OcHHBOUIijC6"
      },
      "execution_count": null,
      "outputs": []
    },
    {
      "cell_type": "code",
      "source": [
        "result1 = Math.add(10, 5)\n",
        "result2 = Math.multiply(10, 5)\n",
        "print(result1, result2)"
      ],
      "metadata": {
        "colab": {
          "base_uri": "https://localhost:8080/"
        },
        "id": "222gZ_tNjslD",
        "outputId": "8c1e5641-433c-41cc-df48-f6f3d1bac391"
      },
      "execution_count": null,
      "outputs": [
        {
          "output_type": "stream",
          "name": "stdout",
          "text": [
            "15 50\n"
          ]
        }
      ]
    },
    {
      "cell_type": "code",
      "source": [
        ""
      ],
      "metadata": {
        "id": "xC075_pxj8FR"
      },
      "execution_count": null,
      "outputs": []
    }
  ]
}