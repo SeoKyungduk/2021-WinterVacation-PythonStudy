{
  "nbformat": 4,
  "nbformat_minor": 0,
  "metadata": {
    "colab": {
      "name": "3_변수.ipynb",
      "provenance": [],
      "collapsed_sections": []
    },
    "kernelspec": {
      "name": "python3",
      "display_name": "Python 3"
    },
    "language_info": {
      "name": "python"
    }
  },
  "cells": [
    {
      "cell_type": "markdown",
      "source": [
        "# 1. 변수란?"
      ],
      "metadata": {
        "id": "LEs_p9j2Krir"
      }
    },
    {
      "cell_type": "markdown",
      "source": [
        "* 변수는 처리할 데이터를 저장시키는 기억장소"
      ],
      "metadata": {
        "id": "9hx83uwFK9GV"
      }
    },
    {
      "cell_type": "code",
      "source": [
        "name = '김사과'\n",
        "age = 20\n",
        "print(name )\n",
        "print(age)\n",
        "\n",
        "name = '반하나'\n",
        "print(name)"
      ],
      "metadata": {
        "colab": {
          "base_uri": "https://localhost:8080/"
        },
        "id": "jnOD_0GCLHbF",
        "outputId": "f885ece1-05d4-459e-feaa-5e47e7fd633b"
      },
      "execution_count": null,
      "outputs": [
        {
          "output_type": "stream",
          "name": "stdout",
          "text": [
            "김사과\n",
            "20\n",
            "반하나\n"
          ]
        }
      ]
    },
    {
      "cell_type": "markdown",
      "source": [
        "# 2. 변수의 이름을 작성하는 방법"
      ],
      "metadata": {
        "id": "mfXPL7F-QEGa"
      }
    },
    {
      "cell_type": "markdown",
      "source": [
        "1. 영문자, 숫자, 특수문자(_)로 사용하며 대소문자를 구별\n",
        "2. 반드시 문자로 시작해야하고 예약어는 사용할 수 없음"
      ],
      "metadata": {
        "id": "EHOUpNLHQgwJ"
      }
    },
    {
      "cell_type": "code",
      "source": [
        "num1 = 10\n",
        "num2 = 3\n",
        "print('%d / %d = %f' % (num1, num2, num1 / num2))"
      ],
      "metadata": {
        "colab": {
          "base_uri": "https://localhost:8080/"
        },
        "id": "diQTyl7-REcp",
        "outputId": "ced69431-b92b-4e41-9347-3a82bf9e764a"
      },
      "execution_count": null,
      "outputs": [
        {
          "output_type": "stream",
          "name": "stdout",
          "text": [
            "10 / 3 = 3.333333\n"
          ]
        }
      ]
    },
    {
      "cell_type": "markdown",
      "source": [
        "# 3. 변수의 데이터 타입"
      ],
      "metadata": {
        "id": "5RO-uozoRlQ9"
      }
    },
    {
      "cell_type": "markdown",
      "source": [
        "* 데이터 타입(자료형) : 자료가 저장되는 형태를 의미"
      ],
      "metadata": {
        "id": "0m9BVO6UR7Aq"
      }
    },
    {
      "cell_type": "code",
      "source": [
        "name = '김사과'\n",
        "age = 20\n",
        "weight = 50.5\n",
        "isLover = False\n",
        "\n",
        "# type() : 변수의 데이터타입을 반환해주는 함수\n",
        "print(type(name)) # <class 'str'> 문자형 타입\n",
        "print(type(age)) # <class 'int'> 정수형 타입\n",
        "print(type(weight)) # <class 'float'> 실수형 타입\n",
        "print(type(isLover)) # <class 'bool'> 논리형 타입"
      ],
      "metadata": {
        "colab": {
          "base_uri": "https://localhost:8080/"
        },
        "id": "gLNixqn5SARi",
        "outputId": "086c9e93-0f25-4d99-f3e3-4d6c16d69c18"
      },
      "execution_count": null,
      "outputs": [
        {
          "output_type": "stream",
          "name": "stdout",
          "text": [
            "<class 'str'>\n",
            "<class 'int'>\n",
            "<class 'float'>\n",
            "<class 'bool'>\n"
          ]
        }
      ]
    },
    {
      "cell_type": "code",
      "source": [
        "# 필요없는 변수를 삭제하는 방법\n",
        "del age"
      ],
      "metadata": {
        "id": "IncxGrG7S0fU"
      },
      "execution_count": null,
      "outputs": []
    },
    {
      "cell_type": "code",
      "source": [
        "print(age)"
      ],
      "metadata": {
        "colab": {
          "base_uri": "https://localhost:8080/",
          "height": 174
        },
        "id": "XFXlD2wQXGkV",
        "outputId": "86d7d95c-5587-4d02-818b-9377ec05b553"
      },
      "execution_count": null,
      "outputs": [
        {
          "output_type": "error",
          "ename": "NameError",
          "evalue": "ignored",
          "traceback": [
            "\u001b[0;31m---------------------------------------------------------------------------\u001b[0m",
            "\u001b[0;31mNameError\u001b[0m                                 Traceback (most recent call last)",
            "\u001b[0;32m<ipython-input-16-5f7a7c5b2c60>\u001b[0m in \u001b[0;36m<module>\u001b[0;34m()\u001b[0m\n\u001b[0;32m----> 1\u001b[0;31m \u001b[0mprint\u001b[0m\u001b[0;34m(\u001b[0m\u001b[0mage\u001b[0m\u001b[0;34m)\u001b[0m\u001b[0;34m\u001b[0m\u001b[0;34m\u001b[0m\u001b[0m\n\u001b[0m",
            "\u001b[0;31mNameError\u001b[0m: name 'age' is not defined"
          ]
        }
      ]
    },
    {
      "cell_type": "code",
      "source": [
        ""
      ],
      "metadata": {
        "id": "v_lzBCd6XIQ0"
      },
      "execution_count": null,
      "outputs": []
    }
  ]
}